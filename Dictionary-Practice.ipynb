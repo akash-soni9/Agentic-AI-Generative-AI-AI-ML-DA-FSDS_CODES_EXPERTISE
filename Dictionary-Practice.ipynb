{
 "cells": [
  {
   "cell_type": "markdown",
   "id": "fa27a2cc-321c-489d-8d1e-7fadc62f03a3",
   "metadata": {},
   "source": [
    "# DICTIONARY {} :\n",
    "- Dictionary is a mutable data type in Python. \n",
    "- A python dictionary is a collection of key and value pairs separated by a colon (:) & enclosed \n",
    "  in curly braces {}. \n",
    "- Keys must be unique in a dictionary, duplicate values are allowed. "
   ]
  },
  {
   "cell_type": "markdown",
   "id": "050dd811-4bcc-4c22-be72-f239886b6868",
   "metadata": {},
   "source": [
    "## DICTIONARY CREATION :"
   ]
  },
  {
   "cell_type": "code",
   "execution_count": 2,
   "id": "0f3adef7-1d86-4e12-a8e7-51a8bed1d890",
   "metadata": {},
   "outputs": [
    {
     "data": {
      "text/plain": [
       "{}"
      ]
     },
     "execution_count": 2,
     "metadata": {},
     "output_type": "execute_result"
    }
   ],
   "source": [
    "d = {}  # dictionary created by {} only\n",
    "d"
   ]
  },
  {
   "cell_type": "code",
   "execution_count": 3,
   "id": "8c9fd96c-4044-4480-9dc8-1a35dfb235ea",
   "metadata": {},
   "outputs": [
    {
     "name": "stdout",
     "output_type": "stream",
     "text": [
      "<class 'dict'>\n"
     ]
    }
   ],
   "source": [
    "print(type(d))"
   ]
  },
  {
   "cell_type": "code",
   "execution_count": 4,
   "id": "dd313c7b-498c-4be6-bcfb-e774934f348d",
   "metadata": {},
   "outputs": [],
   "source": [
    "student = {\n",
    "    \"name\": \"Python\",\n",
    "    \"age\": 22,\n",
    "    \"course\": \"Data Sciece\",\n",
    "    \"skills\": [\"Python\", \"Statistic\", \"Machine learning\"]\n",
    "}"
   ]
  },
  {
   "cell_type": "code",
   "execution_count": 5,
   "id": "9a8c65ed-0525-4459-847d-834977277bb5",
   "metadata": {},
   "outputs": [
    {
     "name": "stdout",
     "output_type": "stream",
     "text": [
      "{'name': 'Python', 'age': 22, 'course': 'Data Sciece', 'skills': ['Python', 'Statistic', 'Machine learning']}\n"
     ]
    }
   ],
   "source": [
    "print(student)"
   ]
  },
  {
   "cell_type": "code",
   "execution_count": 6,
   "id": "958f1b9e-a28b-4caf-8675-c8270cfbdf88",
   "metadata": {},
   "outputs": [
    {
     "data": {
      "text/plain": [
       "{'name': 'Python',\n",
       " 'age': 22,\n",
       " 'course': 'Data Sciece',\n",
       " 'skills': ['Python', 'Statistic', 'Machine learning']}"
      ]
     },
     "execution_count": 6,
     "metadata": {},
     "output_type": "execute_result"
    }
   ],
   "source": [
    "student"
   ]
  },
  {
   "cell_type": "code",
   "execution_count": 8,
   "id": "d59e1583-eef4-43e7-9c8b-fab79d2a0da4",
   "metadata": {},
   "outputs": [
    {
     "data": {
      "text/plain": [
       "dict_keys(['name', 'age', 'course', 'skills'])"
      ]
     },
     "execution_count": 8,
     "metadata": {},
     "output_type": "execute_result"
    }
   ],
   "source": [
    "student.keys()  # Return Dictionary Keys using keys() method "
   ]
  },
  {
   "cell_type": "code",
   "execution_count": 9,
   "id": "f8d99e45-96bf-461c-8e69-603815807e55",
   "metadata": {},
   "outputs": [
    {
     "data": {
      "text/plain": [
       "dict_values(['Python', 22, 'Data Sciece', ['Python', 'Statistic', 'Machine learning']])"
      ]
     },
     "execution_count": 9,
     "metadata": {},
     "output_type": "execute_result"
    }
   ],
   "source": [
    "student.values()  # Return Dictionary values using values() method "
   ]
  },
  {
   "cell_type": "code",
   "execution_count": 10,
   "id": "a2d4c521-90ca-483c-a999-803d5fd59a24",
   "metadata": {},
   "outputs": [
    {
     "data": {
      "text/plain": [
       "dict_items([('name', 'Python'), ('age', 22), ('course', 'Data Sciece'), ('skills', ['Python', 'Statistic', 'Machine learning'])])"
      ]
     },
     "execution_count": 10,
     "metadata": {},
     "output_type": "execute_result"
    }
   ],
   "source": [
    "student.items() # Access each key-value pair within a dictionary "
   ]
  },
  {
   "cell_type": "code",
   "execution_count": 11,
   "id": "6b62b53e-b747-4aa9-8062-fb29cf1fba42",
   "metadata": {},
   "outputs": [
    {
     "data": {
      "text/plain": [
       "{'math': 96, 'chem': 89, 'phy': 80}"
      ]
     },
     "execution_count": 11,
     "metadata": {},
     "output_type": "execute_result"
    }
   ],
   "source": [
    "marks = {'math': 96, 'chem':89, 'phy':80}\n",
    "marks"
   ]
  },
  {
   "cell_type": "code",
   "execution_count": 12,
   "id": "39bfc4c4-8486-425f-a898-99f2e79887f2",
   "metadata": {},
   "outputs": [],
   "source": [
    "student1 = {\n",
    "    'Name' : 'Alex', \n",
    "    'Address' : 'Hyderabad',\n",
    "    'Age' : 22,\n",
    "    'marks' : {'Hin':34,'Eng':45,'Sans':37}\n",
    "}"
   ]
  },
  {
   "cell_type": "code",
   "execution_count": 13,
   "id": "927a3c56-4bc4-4f94-8752-395fb495c995",
   "metadata": {},
   "outputs": [
    {
     "data": {
      "text/plain": [
       "{'Name': 'Alex',\n",
       " 'Address': 'Hyderabad',\n",
       " 'Age': 22,\n",
       " 'marks': {'Hin': 34, 'Eng': 45, 'Sans': 37}}"
      ]
     },
     "execution_count": 13,
     "metadata": {},
     "output_type": "execute_result"
    }
   ],
   "source": [
    "student1"
   ]
  },
  {
   "cell_type": "code",
   "execution_count": 14,
   "id": "c63b798e-ba70-42c8-b8f9-36f5e6ea4e27",
   "metadata": {},
   "outputs": [
    {
     "name": "stdout",
     "output_type": "stream",
     "text": [
      "{'name': None, 'age': None, 'course': None}\n"
     ]
    }
   ],
   "source": [
    "keys = ['name', 'age', 'course']\n",
    "\n",
    "new_dict = dict.fromkeys(keys)\n",
    "print(new_dict)"
   ]
  },
  {
   "cell_type": "code",
   "execution_count": 15,
   "id": "08508b4d-d96f-45b1-a92b-40db47f8f379",
   "metadata": {},
   "outputs": [
    {
     "name": "stdout",
     "output_type": "stream",
     "text": [
      "{'name': 'Unknown', 'age': 'Unknown', 'course': 'Unknown'}\n"
     ]
    }
   ],
   "source": [
    "keys = ['name', 'age', 'course']\n",
    "\n",
    "new_dict = dict.fromkeys(keys, 'Unknown')\n",
    "print(new_dict)"
   ]
  },
  {
   "cell_type": "code",
   "execution_count": 16,
   "id": "b33fbae3-745f-49ff-9e0c-89d2a7bf62ed",
   "metadata": {},
   "outputs": [
    {
     "name": "stdout",
     "output_type": "stream",
     "text": [
      "{'a': 0, 'b': 0, 'c': 0}\n"
     ]
    }
   ],
   "source": [
    "keys = ('a', 'b', 'c')\n",
    "d = dict.fromkeys(keys, 0)\n",
    "print(d)"
   ]
  },
  {
   "cell_type": "code",
   "execution_count": 17,
   "id": "a1c8bb87-8b56-4969-8fa0-b609ac0f4f2d",
   "metadata": {},
   "outputs": [
    {
     "name": "stdout",
     "output_type": "stream",
     "text": [
      "{'x': [1], 'y': [1]}\n"
     ]
    }
   ],
   "source": [
    "keys = ['x', 'y']\n",
    "d = dict.fromkeys(keys, [])\n",
    "d['x'].append(1)\n",
    "print(d)"
   ]
  },
  {
   "cell_type": "code",
   "execution_count": 65,
   "id": "ffd95809-7d15-462d-b038-9bc69e5e8fe0",
   "metadata": {},
   "outputs": [
    {
     "name": "stdout",
     "output_type": "stream",
     "text": [
      "{'name': ['java', 20, 'Full Stack'], 'age': ['java', 20, 'Full Stack'], 'course': ['java', 20, 'Full Stack']}\n"
     ]
    }
   ],
   "source": [
    "keys = ['name', 'age', 'course']\n",
    "values1 = ['java', 20, 'Full Stack']\n",
    "\n",
    "new_dict1 = dict.fromkeys(keys, values1)\n",
    "print(new_dict1)"
   ]
  },
  {
   "cell_type": "markdown",
   "id": "e9954819-9037-4105-88e2-963c6501893b",
   "metadata": {},
   "source": [
    "## ACCESS ITEM : "
   ]
  },
  {
   "cell_type": "code",
   "execution_count": 19,
   "id": "ad849ca1-9cb1-40ba-b917-45ca30710c3a",
   "metadata": {},
   "outputs": [
    {
     "data": {
      "text/plain": [
       "{'name': 'Python',\n",
       " 'age': 22,\n",
       " 'course': 'Data Sciece',\n",
       " 'skills': ['Python', 'Statistic', 'Machine learning']}"
      ]
     },
     "execution_count": 19,
     "metadata": {},
     "output_type": "execute_result"
    }
   ],
   "source": [
    "student"
   ]
  },
  {
   "cell_type": "code",
   "execution_count": 20,
   "id": "270b548f-53f6-4698-89ea-a6df2974ac25",
   "metadata": {},
   "outputs": [
    {
     "data": {
      "text/plain": [
       "'Python'"
      ]
     },
     "execution_count": 20,
     "metadata": {},
     "output_type": "execute_result"
    }
   ],
   "source": [
    "student['name'] # access item using key"
   ]
  },
  {
   "cell_type": "code",
   "execution_count": 21,
   "id": "ee377f82-143f-438e-b1bc-b78d2f9c5c45",
   "metadata": {},
   "outputs": [
    {
     "data": {
      "text/plain": [
       "['Python', 'Statistic', 'Machine learning']"
      ]
     },
     "execution_count": 21,
     "metadata": {},
     "output_type": "execute_result"
    }
   ],
   "source": [
    "student['skills']"
   ]
  },
  {
   "cell_type": "code",
   "execution_count": 22,
   "id": "1c742565-b031-4eb8-bac0-30ce0368512e",
   "metadata": {},
   "outputs": [
    {
     "ename": "KeyError",
     "evalue": "'job'",
     "output_type": "error",
     "traceback": [
      "\u001b[1;31m---------------------------------------------------------------------------\u001b[0m",
      "\u001b[1;31mKeyError\u001b[0m                                  Traceback (most recent call last)",
      "Cell \u001b[1;32mIn[22], line 1\u001b[0m\n\u001b[1;32m----> 1\u001b[0m student[\u001b[38;5;124m'\u001b[39m\u001b[38;5;124mjob\u001b[39m\u001b[38;5;124m'\u001b[39m]\n",
      "\u001b[1;31mKeyError\u001b[0m: 'job'"
     ]
    }
   ],
   "source": [
    "student['job'] # key 'job' is not present then it raises a error"
   ]
  },
  {
   "cell_type": "code",
   "execution_count": 23,
   "id": "9a744061-399c-4167-ba45-f3e628313d19",
   "metadata": {},
   "outputs": [
    {
     "data": {
      "text/plain": [
       "'Python'"
      ]
     },
     "execution_count": 23,
     "metadata": {},
     "output_type": "execute_result"
    }
   ],
   "source": [
    "student.get('name') #Return the value for key if key is in the dictionary\n",
    "                    #if key is not present,it won't give error "
   ]
  },
  {
   "cell_type": "code",
   "execution_count": 24,
   "id": "8f2ee5ed-3b40-4c8c-a990-e1366b5fd81b",
   "metadata": {},
   "outputs": [
    {
     "data": {
      "text/plain": [
       "22"
      ]
     },
     "execution_count": 24,
     "metadata": {},
     "output_type": "execute_result"
    }
   ],
   "source": [
    "student.get('age')"
   ]
  },
  {
   "cell_type": "code",
   "execution_count": 25,
   "id": "afc33a7c-1a30-4746-949f-2fc0546b823f",
   "metadata": {},
   "outputs": [
    {
     "data": {
      "text/plain": [
       "'Data Sciece'"
      ]
     },
     "execution_count": 25,
     "metadata": {},
     "output_type": "execute_result"
    }
   ],
   "source": [
    "student.get('course')"
   ]
  },
  {
   "cell_type": "code",
   "execution_count": 26,
   "id": "0dc706a3-433c-43f1-890d-2158ffcd93dc",
   "metadata": {},
   "outputs": [
    {
     "data": {
      "text/plain": [
       "['Python', 'Statistic', 'Machine learning']"
      ]
     },
     "execution_count": 26,
     "metadata": {},
     "output_type": "execute_result"
    }
   ],
   "source": [
    "student.get('skills')"
   ]
  },
  {
   "cell_type": "code",
   "execution_count": 27,
   "id": "c1544f90-8140-4272-8d7c-d87b88b95209",
   "metadata": {},
   "outputs": [],
   "source": [
    "student.get('job') # here key 'job' is present then it no any error raise "
   ]
  },
  {
   "cell_type": "markdown",
   "id": "e2a4820f-e80e-4a80-804b-551e07bf711d",
   "metadata": {},
   "source": [
    "### ADDING, UPDATING AND REMOVING :"
   ]
  },
  {
   "cell_type": "code",
   "execution_count": 29,
   "id": "324e3782-bf35-408b-97d1-49e3752c2868",
   "metadata": {},
   "outputs": [],
   "source": [
    "student['college'] = 'REC' # adding new item (key:value)"
   ]
  },
  {
   "cell_type": "code",
   "execution_count": 30,
   "id": "ab376266-41bd-41f4-8010-5c89e080a309",
   "metadata": {},
   "outputs": [
    {
     "data": {
      "text/plain": [
       "{'name': 'Python',\n",
       " 'age': 22,\n",
       " 'course': 'Data Sciece',\n",
       " 'skills': ['Python', 'Statistic', 'Machine learning'],\n",
       " 'college': 'REC'}"
      ]
     },
     "execution_count": 30,
     "metadata": {},
     "output_type": "execute_result"
    }
   ],
   "source": [
    "student"
   ]
  },
  {
   "cell_type": "code",
   "execution_count": 32,
   "id": "42e153f1-41b6-4af4-a818-636e85268aba",
   "metadata": {},
   "outputs": [
    {
     "data": {
      "text/plain": [
       "{'name': 'Python',\n",
       " 'age': 22,\n",
       " 'course': 'Data Sciece',\n",
       " 'skills': ['Python', 'Statistic', 'Machine learning'],\n",
       " 'college': 'REC',\n",
       " 'CGPA': 7.4,\n",
       " 'Cgpa': 7.4}"
      ]
     },
     "execution_count": 32,
     "metadata": {},
     "output_type": "execute_result"
    }
   ],
   "source": [
    "student['Cgpa'] = 7.4\n",
    "student"
   ]
  },
  {
   "cell_type": "code",
   "execution_count": 33,
   "id": "bfcd85d6-a9ba-4484-a895-153e598ecec4",
   "metadata": {},
   "outputs": [],
   "source": [
    "del student['Cgpa']  # deleting key value pair using key"
   ]
  },
  {
   "cell_type": "code",
   "execution_count": 34,
   "id": "169757ca-664b-4cca-9d17-3b6e62d0dfae",
   "metadata": {},
   "outputs": [
    {
     "data": {
      "text/plain": [
       "{'name': 'Python',\n",
       " 'age': 22,\n",
       " 'course': 'Data Sciece',\n",
       " 'skills': ['Python', 'Statistic', 'Machine learning'],\n",
       " 'college': 'REC',\n",
       " 'CGPA': 7.4}"
      ]
     },
     "execution_count": 34,
     "metadata": {},
     "output_type": "execute_result"
    }
   ],
   "source": [
    "student"
   ]
  },
  {
   "cell_type": "code",
   "execution_count": 35,
   "id": "96002cae-06a5-4880-8de6-0eb8472819ba",
   "metadata": {},
   "outputs": [
    {
     "data": {
      "text/plain": [
       "{'name': 'Python',\n",
       " 'age': 22,\n",
       " 'course': 'Data Sciece',\n",
       " 'skills': ['Python', 'Statistic', 'Machine learning'],\n",
       " 'college': 'REC',\n",
       " 'CGPA': 7.4,\n",
       " 'job': 'analytics'}"
      ]
     },
     "execution_count": 35,
     "metadata": {},
     "output_type": "execute_result"
    }
   ],
   "source": [
    "student['job'] = 'analytics'\n",
    "student"
   ]
  },
  {
   "cell_type": "code",
   "execution_count": 36,
   "id": "11ebbf9a-2c0f-456b-8d68-1e3fe220509b",
   "metadata": {},
   "outputs": [
    {
     "data": {
      "text/plain": [
       "22"
      ]
     },
     "execution_count": 36,
     "metadata": {},
     "output_type": "execute_result"
    }
   ],
   "source": [
    "# remove specified key and return the corresponding value.\n",
    "#If the key is not found, return the default if given; otherwise,raise a KeyError\n",
    "student.pop('age')"
   ]
  },
  {
   "cell_type": "code",
   "execution_count": 37,
   "id": "051be14f-1e64-41c4-af10-fa8460880f41",
   "metadata": {},
   "outputs": [
    {
     "data": {
      "text/plain": [
       "{'name': 'Python',\n",
       " 'course': 'Data Sciece',\n",
       " 'skills': ['Python', 'Statistic', 'Machine learning'],\n",
       " 'college': 'REC',\n",
       " 'CGPA': 7.4,\n",
       " 'job': 'analytics'}"
      ]
     },
     "execution_count": 37,
     "metadata": {},
     "output_type": "execute_result"
    }
   ],
   "source": [
    "student"
   ]
  },
  {
   "cell_type": "code",
   "execution_count": 38,
   "id": "1fd64ac3-5998-43f8-addf-5851be0a39c9",
   "metadata": {},
   "outputs": [
    {
     "data": {
      "text/plain": [
       "'key not found'"
      ]
     },
     "execution_count": 38,
     "metadata": {},
     "output_type": "execute_result"
    }
   ],
   "source": [
    "student.pop('grade','key not found') # here this key is present, and it will give \n",
    "                                     # key not found becouse i make default"
   ]
  },
  {
   "cell_type": "code",
   "execution_count": 39,
   "id": "2d1f9f34-62ff-4c17-90bf-0cfd520b904a",
   "metadata": {},
   "outputs": [
    {
     "ename": "KeyError",
     "evalue": "'grade'",
     "output_type": "error",
     "traceback": [
      "\u001b[1;31m---------------------------------------------------------------------------\u001b[0m",
      "\u001b[1;31mKeyError\u001b[0m                                  Traceback (most recent call last)",
      "Cell \u001b[1;32mIn[39], line 1\u001b[0m\n\u001b[1;32m----> 1\u001b[0m student\u001b[38;5;241m.\u001b[39mpop(\u001b[38;5;124m'\u001b[39m\u001b[38;5;124mgrade\u001b[39m\u001b[38;5;124m'\u001b[39m)\n",
      "\u001b[1;31mKeyError\u001b[0m: 'grade'"
     ]
    }
   ],
   "source": [
    "student.pop('grade') # it raises error, keyError 'gaade'"
   ]
  },
  {
   "cell_type": "code",
   "execution_count": 40,
   "id": "43c89502-40e4-4cd9-8f65-3ae0b83f552f",
   "metadata": {},
   "outputs": [
    {
     "data": {
      "text/plain": [
       "('job', 'analytics')"
      ]
     },
     "execution_count": 40,
     "metadata": {},
     "output_type": "execute_result"
    }
   ],
   "source": [
    "# popitem() removes and returns the last inserted key-value pair from a dictionary.\n",
    "# Pairs are returned in LIFO (last-in, first-out) order\n",
    "student.popitem()"
   ]
  },
  {
   "cell_type": "code",
   "execution_count": 41,
   "id": "4a2bf7d9-a1d3-41f7-b75c-5fffcebdc33e",
   "metadata": {},
   "outputs": [
    {
     "data": {
      "text/plain": [
       "{'name': 'Python',\n",
       " 'course': 'Data Sciece',\n",
       " 'skills': ['Python', 'Statistic', 'Machine learning'],\n",
       " 'college': 'REC',\n",
       " 'CGPA': 7.4}"
      ]
     },
     "execution_count": 41,
     "metadata": {},
     "output_type": "execute_result"
    }
   ],
   "source": [
    "student"
   ]
  },
  {
   "cell_type": "code",
   "execution_count": 42,
   "id": "57659681-7220-4a2e-8745-c53bd360e3e5",
   "metadata": {},
   "outputs": [
    {
     "data": {
      "text/plain": [
       "('CGPA', 7.4)"
      ]
     },
     "execution_count": 42,
     "metadata": {},
     "output_type": "execute_result"
    }
   ],
   "source": [
    "student.popitem()"
   ]
  },
  {
   "cell_type": "code",
   "execution_count": 44,
   "id": "0068cdb6-c4d6-476f-91f4-39725532855f",
   "metadata": {},
   "outputs": [
    {
     "data": {
      "text/plain": [
       "{'name': 'Python',\n",
       " 'course': 'Data Sciece',\n",
       " 'skills': ['Python', 'Statistic', 'Machine learning'],\n",
       " 'college': 'REC'}"
      ]
     },
     "execution_count": 44,
     "metadata": {},
     "output_type": "execute_result"
    }
   ],
   "source": [
    "student"
   ]
  },
  {
   "cell_type": "code",
   "execution_count": 45,
   "id": "b9add6c3-762d-4c4c-929e-15c4d5ff599b",
   "metadata": {},
   "outputs": [
    {
     "data": {
      "text/plain": [
       "{'Name': 'Alex',\n",
       " 'Address': 'Hyderabad',\n",
       " 'Age': 22,\n",
       " 'marks': {'Hin': 34, 'Eng': 45, 'Sans': 37}}"
      ]
     },
     "execution_count": 45,
     "metadata": {},
     "output_type": "execute_result"
    }
   ],
   "source": [
    "student1"
   ]
  },
  {
   "cell_type": "code",
   "execution_count": 46,
   "id": "a43d5b87-254f-496f-8a05-4bd4fd302d02",
   "metadata": {},
   "outputs": [],
   "source": [
    "student1.clear() # it will clear all key value pairs and make it empty"
   ]
  },
  {
   "cell_type": "code",
   "execution_count": 47,
   "id": "48247665-b9cf-4de5-ad78-593a7c38b977",
   "metadata": {},
   "outputs": [
    {
     "data": {
      "text/plain": [
       "{}"
      ]
     },
     "execution_count": 47,
     "metadata": {},
     "output_type": "execute_result"
    }
   ],
   "source": [
    "student1"
   ]
  },
  {
   "cell_type": "code",
   "execution_count": 51,
   "id": "a0431563-90a9-4523-8943-1fcbf192f880",
   "metadata": {},
   "outputs": [],
   "source": [
    "new_student = student.copy() # it makes copy "
   ]
  },
  {
   "cell_type": "code",
   "execution_count": 52,
   "id": "6e5a192f-32eb-4b8b-a924-091a909af25a",
   "metadata": {},
   "outputs": [
    {
     "data": {
      "text/plain": [
       "{'name': 'Python',\n",
       " 'course': 'Data Sciece',\n",
       " 'skills': ['Python', 'Statistic', 'Machine learning'],\n",
       " 'college': 'REC'}"
      ]
     },
     "execution_count": 52,
     "metadata": {},
     "output_type": "execute_result"
    }
   ],
   "source": [
    "new_student"
   ]
  },
  {
   "cell_type": "code",
   "execution_count": 53,
   "id": "500bc0c6-058d-46ed-98b1-0ed0a2f7a4bc",
   "metadata": {},
   "outputs": [
    {
     "name": "stdout",
     "output_type": "stream",
     "text": [
      "2387567735168\n",
      "2387631212736\n"
     ]
    }
   ],
   "source": [
    "print(id(student))  # address will be different \n",
    "print(id(new_student))"
   ]
  },
  {
   "cell_type": "code",
   "execution_count": 54,
   "id": "f172a1f6-5a36-4a68-b2c3-f6e76e9066a4",
   "metadata": {},
   "outputs": [],
   "source": [
    "student1 = new_student "
   ]
  },
  {
   "cell_type": "code",
   "execution_count": 55,
   "id": "5c1ada29-e9ee-4356-b131-218b6de40658",
   "metadata": {},
   "outputs": [
    {
     "data": {
      "text/plain": [
       "{'name': 'Python',\n",
       " 'course': 'Data Sciece',\n",
       " 'skills': ['Python', 'Statistic', 'Machine learning'],\n",
       " 'college': 'REC'}"
      ]
     },
     "execution_count": 55,
     "metadata": {},
     "output_type": "execute_result"
    }
   ],
   "source": [
    "student1"
   ]
  },
  {
   "cell_type": "code",
   "execution_count": 56,
   "id": "1afd2ca6-61cf-4f61-a02f-b22d602de70f",
   "metadata": {},
   "outputs": [
    {
     "name": "stdout",
     "output_type": "stream",
     "text": [
      "2387631212736\n",
      "2387631212736\n"
     ]
    }
   ],
   "source": [
    "print(id(student1))   # here address is same\n",
    "print(id(new_student))"
   ]
  },
  {
   "cell_type": "code",
   "execution_count": 57,
   "id": "f853207b-821d-4839-8f84-88dc83723253",
   "metadata": {},
   "outputs": [],
   "source": [
    "student['college'] = 'DU'"
   ]
  },
  {
   "cell_type": "code",
   "execution_count": 58,
   "id": "b1ad4140-f621-4c94-addd-bc300547a17e",
   "metadata": {},
   "outputs": [
    {
     "data": {
      "text/plain": [
       "{'name': 'Python',\n",
       " 'course': 'Data Sciece',\n",
       " 'skills': ['Python', 'Statistic', 'Machine learning'],\n",
       " 'college': 'DU'}"
      ]
     },
     "execution_count": 58,
     "metadata": {},
     "output_type": "execute_result"
    }
   ],
   "source": [
    "student"
   ]
  },
  {
   "cell_type": "code",
   "execution_count": 59,
   "id": "a47ad22a-eaed-4254-b3c9-54b1f09d9f9e",
   "metadata": {},
   "outputs": [
    {
     "data": {
      "text/plain": [
       "{'name': 'Python',\n",
       " 'course': 'Data Sciece',\n",
       " 'skills': ['Python', 'Statistic', 'Machine learning'],\n",
       " 'college': 'REC'}"
      ]
     },
     "execution_count": 59,
     "metadata": {},
     "output_type": "execute_result"
    }
   ],
   "source": [
    "student1"
   ]
  },
  {
   "cell_type": "code",
   "execution_count": 60,
   "id": "9af9d1e3-0ed0-4a9c-a601-e2b584a3ce4c",
   "metadata": {},
   "outputs": [
    {
     "data": {
      "text/plain": [
       "{'name': 'Python',\n",
       " 'course': 'Data Sciece',\n",
       " 'skills': ['Python', 'Statistic', 'Machine learning'],\n",
       " 'college': 'REC'}"
      ]
     },
     "execution_count": 60,
     "metadata": {},
     "output_type": "execute_result"
    }
   ],
   "source": [
    "new_student"
   ]
  },
  {
   "cell_type": "markdown",
   "id": "f82888da-0e7e-43f9-baf0-98de8b05d3a4",
   "metadata": {},
   "source": [
    "## LOOP THROUGH DICTIONARY :"
   ]
  },
  {
   "cell_type": "code",
   "execution_count": 61,
   "id": "5787d4e8-3369-46b4-9a70-2070a0fa6f4f",
   "metadata": {},
   "outputs": [
    {
     "data": {
      "text/plain": [
       "{'name': 'Python',\n",
       " 'course': 'Data Sciece',\n",
       " 'skills': ['Python', 'Statistic', 'Machine learning'],\n",
       " 'college': 'DU'}"
      ]
     },
     "execution_count": 61,
     "metadata": {},
     "output_type": "execute_result"
    }
   ],
   "source": [
    "student"
   ]
  },
  {
   "cell_type": "code",
   "execution_count": 70,
   "id": "5de2fdbb-3d57-458b-b6c1-f6fc428fd8d2",
   "metadata": {},
   "outputs": [
    {
     "name": "stdout",
     "output_type": "stream",
     "text": [
      "name : Python\n",
      "course : Data Sciece\n",
      "skills : ['Python', 'Statistic', 'Machine learning']\n",
      "college : DU\n"
     ]
    }
   ],
   "source": [
    "for key in student:\n",
    "    print(key, ':', student[key])"
   ]
  },
  {
   "cell_type": "code",
   "execution_count": 72,
   "id": "a31a8626-2e7a-49be-bdec-5bf0e94bc9f9",
   "metadata": {},
   "outputs": [
    {
     "name": "stdout",
     "output_type": "stream",
     "text": [
      "name = Python\n",
      "course = Data Sciece\n",
      "skills = ['Python', 'Statistic', 'Machine learning']\n",
      "college = DU\n"
     ]
    }
   ],
   "source": [
    "for key, values in student.items():\n",
    "    print(f\"{key} = {values}\")"
   ]
  },
  {
   "cell_type": "markdown",
   "id": "b5ffd71f-6692-4438-adf0-d5c796e76b0e",
   "metadata": {},
   "source": [
    "## DICTIONARY MEMBERSHIP :"
   ]
  },
  {
   "cell_type": "code",
   "execution_count": 73,
   "id": "eaf3b935-94dc-4f68-9bfd-42574ae35712",
   "metadata": {},
   "outputs": [
    {
     "data": {
      "text/plain": [
       "{'name': 'Python',\n",
       " 'course': 'Data Sciece',\n",
       " 'skills': ['Python', 'Statistic', 'Machine learning'],\n",
       " 'college': 'DU'}"
      ]
     },
     "execution_count": 73,
     "metadata": {},
     "output_type": "execute_result"
    }
   ],
   "source": [
    "student"
   ]
  },
  {
   "cell_type": "code",
   "execution_count": 74,
   "id": "b36e4f86-51c6-4cf4-8413-9f06f2b16239",
   "metadata": {},
   "outputs": [
    {
     "data": {
      "text/plain": [
       "True"
      ]
     },
     "execution_count": 74,
     "metadata": {},
     "output_type": "execute_result"
    }
   ],
   "source": [
    "'name' in student"
   ]
  },
  {
   "cell_type": "code",
   "execution_count": 76,
   "id": "cb5ec33b-ff03-41a6-b262-6cc02a459a35",
   "metadata": {},
   "outputs": [
    {
     "data": {
      "text/plain": [
       "False"
      ]
     },
     "execution_count": 76,
     "metadata": {},
     "output_type": "execute_result"
    }
   ],
   "source": [
    "'name' not in student"
   ]
  },
  {
   "cell_type": "code",
   "execution_count": 79,
   "id": "ff42f8d1-6a7d-46c2-877b-334ad1e210cb",
   "metadata": {},
   "outputs": [
    {
     "data": {
      "text/plain": [
       "True"
      ]
     },
     "execution_count": 79,
     "metadata": {},
     "output_type": "execute_result"
    }
   ],
   "source": [
    "'skills' in student"
   ]
  },
  {
   "cell_type": "code",
   "execution_count": 78,
   "id": "30930573-2d74-447b-a9e9-b94164648cf1",
   "metadata": {},
   "outputs": [
    {
     "name": "stdout",
     "output_type": "stream",
     "text": [
      "course is present student\n"
     ]
    }
   ],
   "source": [
    "if 'course' in student:\n",
    "    print(\"course is present student\")\n",
    "else:\n",
    "    print(\"not present in student\")"
   ]
  },
  {
   "cell_type": "markdown",
   "id": "746f1112-dd55-41c2-92b8-37cc4d8cdfe8",
   "metadata": {},
   "source": [
    "## ALL(), ANY()"
   ]
  },
  {
   "cell_type": "code",
   "execution_count": 80,
   "id": "e8aa0494-91c9-4f9f-8b03-6f496b806674",
   "metadata": {},
   "outputs": [
    {
     "data": {
      "text/plain": [
       "{'name': 'Python',\n",
       " 'course': 'Data Sciece',\n",
       " 'skills': ['Python', 'Statistic', 'Machine learning'],\n",
       " 'college': 'DU'}"
      ]
     },
     "execution_count": 80,
     "metadata": {},
     "output_type": "execute_result"
    }
   ],
   "source": [
    "student"
   ]
  },
  {
   "cell_type": "code",
   "execution_count": 83,
   "id": "2d7a4aaa-365d-433b-96d5-6b62856de9ea",
   "metadata": {},
   "outputs": [
    {
     "data": {
      "text/plain": [
       "True"
      ]
     },
     "execution_count": 83,
     "metadata": {},
     "output_type": "execute_result"
    }
   ],
   "source": [
    "all(student)"
   ]
  },
  {
   "cell_type": "code",
   "execution_count": 84,
   "id": "c2321986-308f-4064-ae0f-c8bf494ce080",
   "metadata": {},
   "outputs": [
    {
     "data": {
      "text/plain": [
       "True"
      ]
     },
     "execution_count": 84,
     "metadata": {},
     "output_type": "execute_result"
    }
   ],
   "source": [
    "any(student)"
   ]
  },
  {
   "cell_type": "code",
   "execution_count": 85,
   "id": "2e513955-f27b-4553-a625-fcf0c7d0e031",
   "metadata": {},
   "outputs": [],
   "source": [
    "student.update({'zero':0})"
   ]
  },
  {
   "cell_type": "code",
   "execution_count": 86,
   "id": "46fbb57f-509d-4f26-870d-44e0d9d36938",
   "metadata": {},
   "outputs": [
    {
     "data": {
      "text/plain": [
       "{'name': 'Python',\n",
       " 'course': 'Data Sciece',\n",
       " 'skills': ['Python', 'Statistic', 'Machine learning'],\n",
       " 'college': 'DU',\n",
       " 'zero': 0}"
      ]
     },
     "execution_count": 86,
     "metadata": {},
     "output_type": "execute_result"
    }
   ],
   "source": [
    "student"
   ]
  },
  {
   "cell_type": "code",
   "execution_count": 87,
   "id": "fe812201-02f0-46d2-9c86-025bae113667",
   "metadata": {},
   "outputs": [
    {
     "data": {
      "text/plain": [
       "True"
      ]
     },
     "execution_count": 87,
     "metadata": {},
     "output_type": "execute_result"
    }
   ],
   "source": []
  },
  {
   "cell_type": "code",
   "execution_count": 88,
   "id": "23015de4-a084-4adc-a60e-7ee963291fc5",
   "metadata": {},
   "outputs": [
    {
     "data": {
      "text/plain": [
       "True"
      ]
     },
     "execution_count": 88,
     "metadata": {},
     "output_type": "execute_result"
    }
   ],
   "source": [
    "any(student)"
   ]
  },
  {
   "cell_type": "code",
   "execution_count": 89,
   "id": "949efc9a-f272-4fb7-8fc2-fefa55a8a3d8",
   "metadata": {},
   "outputs": [],
   "source": [
    "student.update({0:'zero'})"
   ]
  },
  {
   "cell_type": "code",
   "execution_count": 90,
   "id": "c4abb9bd-9020-4b94-9e29-fc25c1415826",
   "metadata": {},
   "outputs": [
    {
     "data": {
      "text/plain": [
       "{'name': 'Python',\n",
       " 'course': 'Data Sciece',\n",
       " 'skills': ['Python', 'Statistic', 'Machine learning'],\n",
       " 'college': 'DU',\n",
       " 'zero': 0,\n",
       " 0: 'zero'}"
      ]
     },
     "execution_count": 90,
     "metadata": {},
     "output_type": "execute_result"
    }
   ],
   "source": [
    "student"
   ]
  },
  {
   "cell_type": "code",
   "execution_count": null,
   "id": "e99c380b-cfe8-41a7-b41c-8b9f94a2b62f",
   "metadata": {},
   "outputs": [],
   "source": []
  }
 ],
 "metadata": {
  "kernelspec": {
   "display_name": "Python 3 (ipykernel)",
   "language": "python",
   "name": "python3"
  },
  "language_info": {
   "codemirror_mode": {
    "name": "ipython",
    "version": 3
   },
   "file_extension": ".py",
   "mimetype": "text/x-python",
   "name": "python",
   "nbconvert_exporter": "python",
   "pygments_lexer": "ipython3",
   "version": "3.13.5"
  }
 },
 "nbformat": 4,
 "nbformat_minor": 5
}
