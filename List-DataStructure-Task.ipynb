{
 "cells": [
  {
   "cell_type": "markdown",
   "id": "ccfbd4e3-1343-4e68-ba96-22a3ce60118a",
   "metadata": {},
   "source": [
    "# List Data Structure :"
   ]
  },
  {
   "cell_type": "markdown",
   "id": "2b03b30c-afe1-4d89-b3e6-50e06c15b17e",
   "metadata": {},
   "source": [
    "## List Creation :"
   ]
  },
  {
   "cell_type": "code",
   "execution_count": 1,
   "id": "1cd0c922-c10e-47c6-8901-6167a2b4faa3",
   "metadata": {},
   "outputs": [],
   "source": [
    "l = []  # empty list created "
   ]
  },
  {
   "cell_type": "code",
   "execution_count": 2,
   "id": "d0871b71-0bd6-4864-90ec-3680fec99c1b",
   "metadata": {},
   "outputs": [
    {
     "data": {
      "text/plain": [
       "[]"
      ]
     },
     "execution_count": 2,
     "metadata": {},
     "output_type": "execute_result"
    }
   ],
   "source": [
    "l"
   ]
  },
  {
   "cell_type": "code",
   "execution_count": 3,
   "id": "19367b32-05f5-4369-bc09-b6adc028e036",
   "metadata": {},
   "outputs": [
    {
     "data": {
      "text/plain": [
       "list"
      ]
     },
     "execution_count": 3,
     "metadata": {},
     "output_type": "execute_result"
    }
   ],
   "source": [
    "type(l)"
   ]
  },
  {
   "cell_type": "code",
   "execution_count": 106,
   "id": "2a391f92-df24-4e64-b13a-3658dc6d10e3",
   "metadata": {},
   "outputs": [],
   "source": [
    "l1 = [20,30,23,9,45,65,40]   # number list\n",
    "l2 = [25.5,34.9,17.0]        # float list\n",
    "l3 = ['a','b','c','d']       # string list\n",
    "l4 = [12,10.6,'jan',1+2j]    # mixed list"
   ]
  },
  {
   "cell_type": "code",
   "execution_count": 5,
   "id": "ae643eaf-da7c-4a8e-bb79-3caf451207c4",
   "metadata": {},
   "outputs": [
    {
     "name": "stdout",
     "output_type": "stream",
     "text": [
      "number list :[20, 30, 23, 9, 45, 65, 40]\n",
      "Float list :[25.5, 34.9, 17.0]\n",
      "String list :['a', 'b', 'c', 'd']\n",
      "Mixed list :[12, 10.6, 'jan', (1+2j)]\n"
     ]
    }
   ],
   "source": [
    "print(f\"number list :{l1}\")\n",
    "print(f\"Float list :{l2}\")\n",
    "print(f\"String list :{l3}\")\n",
    "print(f\"Mixed list :{l4}\")"
   ]
  },
  {
   "cell_type": "code",
   "execution_count": 6,
   "id": "981dd8d7-6035-488f-8daf-5b1097dfdde1",
   "metadata": {},
   "outputs": [
    {
     "name": "stdout",
     "output_type": "stream",
     "text": [
      "Nested list : [1, 2, 3, [2, 4, 6]]\n"
     ]
    }
   ],
   "source": [
    "l5 = [1,2,3,[2,4,6]]\n",
    "print(f\"Nested list : {l5}\")"
   ]
  },
  {
   "cell_type": "markdown",
   "id": "7f4feb29-028e-4414-85f8-6a1bfc31804a",
   "metadata": {},
   "source": [
    "### we can create a list like this by list() function \n",
    "### list() function is only take string datatype and takes only one argument"
   ]
  },
  {
   "cell_type": "code",
   "execution_count": 9,
   "id": "59f01a19-6ad2-4091-8c17-d040bbf3094f",
   "metadata": {},
   "outputs": [
    {
     "data": {
      "text/plain": [
       "['a', 'k', 'a', 's', 'h']"
      ]
     },
     "execution_count": 9,
     "metadata": {},
     "output_type": "execute_result"
    }
   ],
   "source": [
    "my_list = list('akash')  \n",
    "my_list                  "
   ]
  },
  {
   "cell_type": "code",
   "execution_count": 12,
   "id": "662617bd-d7a2-4b6d-8ffd-466d730939bf",
   "metadata": {},
   "outputs": [
    {
     "name": "stdout",
     "output_type": "stream",
     "text": [
      "['P', 'y', 't', 'h', 'o', 'n', 'P', 'r', 'o', 'g', 'r', 'a', 'm', 'm', 'i', 'n', 'g']\n"
     ]
    }
   ],
   "source": [
    "my_list1 = list('PythonProgramming')\n",
    "print(my_list1)"
   ]
  },
  {
   "cell_type": "code",
   "execution_count": 13,
   "id": "93ddd335-fedf-4e86-bfe8-f98653bc02d5",
   "metadata": {},
   "outputs": [
    {
     "name": "stdout",
     "output_type": "stream",
     "text": [
      "['1', '2', '3', '4', '5', '6', '7', '8', '9']\n"
     ]
    }
   ],
   "source": [
    "my_list2 = list('123456789')\n",
    "print(my_list2)"
   ]
  },
  {
   "cell_type": "markdown",
   "id": "7d155447-5830-4801-801e-94e7e5ebd145",
   "metadata": {},
   "source": [
    "## List Indexing :"
   ]
  },
  {
   "cell_type": "code",
   "execution_count": 14,
   "id": "76987a65-3826-45dc-a622-ab698c010218",
   "metadata": {},
   "outputs": [
    {
     "data": {
      "text/plain": [
       "[20, 30, 23, 9, 45, 65, 40]"
      ]
     },
     "execution_count": 14,
     "metadata": {},
     "output_type": "execute_result"
    }
   ],
   "source": [
    "l1 "
   ]
  },
  {
   "cell_type": "code",
   "execution_count": 16,
   "id": "62bba267-0712-4956-bb8a-a2f631f2d75d",
   "metadata": {},
   "outputs": [
    {
     "data": {
      "text/plain": [
       "20"
      ]
     },
     "execution_count": 16,
     "metadata": {},
     "output_type": "execute_result"
    }
   ],
   "source": [
    "l1[0]"
   ]
  },
  {
   "cell_type": "code",
   "execution_count": 17,
   "id": "44282091-556b-4813-aeea-9e68593f6dbe",
   "metadata": {},
   "outputs": [
    {
     "data": {
      "text/plain": [
       "9"
      ]
     },
     "execution_count": 17,
     "metadata": {},
     "output_type": "execute_result"
    }
   ],
   "source": [
    "l1[3]"
   ]
  },
  {
   "cell_type": "code",
   "execution_count": 18,
   "id": "c15256c7-6a53-4847-b4ce-6f0eec979e31",
   "metadata": {},
   "outputs": [
    {
     "data": {
      "text/plain": [
       "65"
      ]
     },
     "execution_count": 18,
     "metadata": {},
     "output_type": "execute_result"
    }
   ],
   "source": [
    "l1[5]"
   ]
  },
  {
   "cell_type": "code",
   "execution_count": 19,
   "id": "e820fbc3-85e5-46e7-9d25-b3278e380a2f",
   "metadata": {},
   "outputs": [
    {
     "data": {
      "text/plain": [
       "40"
      ]
     },
     "execution_count": 19,
     "metadata": {},
     "output_type": "execute_result"
    }
   ],
   "source": [
    "l1[-1]"
   ]
  },
  {
   "cell_type": "code",
   "execution_count": 20,
   "id": "cd0d843d-bb36-4a42-af59-7a715d481e15",
   "metadata": {},
   "outputs": [
    {
     "data": {
      "text/plain": [
       "23"
      ]
     },
     "execution_count": 20,
     "metadata": {},
     "output_type": "execute_result"
    }
   ],
   "source": [
    "l1[-5]"
   ]
  },
  {
   "cell_type": "code",
   "execution_count": 21,
   "id": "19036a65-3d23-4ba3-be6a-e2b0870feff1",
   "metadata": {},
   "outputs": [
    {
     "ename": "TypeError",
     "evalue": "'int' object is not subscriptable",
     "output_type": "error",
     "traceback": [
      "\u001b[1;31m----------------------------------------------------------------------\u001b[0m",
      "\u001b[1;31mTypeError\u001b[0m                            Traceback (most recent call last)",
      "Cell \u001b[1;32mIn[21], line 1\u001b[0m\n\u001b[1;32m----> 1\u001b[0m l1[\u001b[38;5;241m4\u001b[39m][\u001b[38;5;241m1\u001b[39m]\n",
      "\u001b[1;31mTypeError\u001b[0m: 'int' object is not subscriptable"
     ]
    }
   ],
   "source": [
    "l1[4][1]   # we can't do nested indexing on int datatype"
   ]
  },
  {
   "cell_type": "code",
   "execution_count": 22,
   "id": "ae1585d7-e5b2-4f1c-8711-85687f351925",
   "metadata": {},
   "outputs": [
    {
     "name": "stdout",
     "output_type": "stream",
     "text": [
      "[10, 30, 'akash', 8.6, ['a', 'b', 'c'], [1, 2]]\n"
     ]
    }
   ],
   "source": [
    "mylist = [10,30,'akash',8.6,['a','b','c'],[1,2]]  # here i created a nested list for doing nested indexing\n",
    "print(mylist)"
   ]
  },
  {
   "cell_type": "code",
   "execution_count": 23,
   "id": "2ee13cac-3bc8-46af-a360-945760a9f956",
   "metadata": {},
   "outputs": [
    {
     "data": {
      "text/plain": [
       "'akash'"
      ]
     },
     "execution_count": 23,
     "metadata": {},
     "output_type": "execute_result"
    }
   ],
   "source": [
    "mylist[2]"
   ]
  },
  {
   "cell_type": "code",
   "execution_count": 24,
   "id": "391c736d-d89a-45e0-bceb-6e944eaf1e92",
   "metadata": {},
   "outputs": [
    {
     "data": {
      "text/plain": [
       "'a'"
      ]
     },
     "execution_count": 24,
     "metadata": {},
     "output_type": "execute_result"
    }
   ],
   "source": [
    "mylist[2][0]"
   ]
  },
  {
   "cell_type": "code",
   "execution_count": 25,
   "id": "d473b82c-a4f4-4031-8980-57962b265a49",
   "metadata": {},
   "outputs": [
    {
     "data": {
      "text/plain": [
       "['a', 'b', 'c']"
      ]
     },
     "execution_count": 25,
     "metadata": {},
     "output_type": "execute_result"
    }
   ],
   "source": [
    "mylist[4]"
   ]
  },
  {
   "cell_type": "code",
   "execution_count": 26,
   "id": "f083c84b-1386-4ce5-8abf-90444fe5c6d7",
   "metadata": {},
   "outputs": [
    {
     "data": {
      "text/plain": [
       "'a'"
      ]
     },
     "execution_count": 26,
     "metadata": {},
     "output_type": "execute_result"
    }
   ],
   "source": [
    "mylist[4][0]"
   ]
  },
  {
   "cell_type": "code",
   "execution_count": 27,
   "id": "38be6bae-f6b9-4c19-9294-05baa5320798",
   "metadata": {},
   "outputs": [
    {
     "data": {
      "text/plain": [
       "'b'"
      ]
     },
     "execution_count": 27,
     "metadata": {},
     "output_type": "execute_result"
    }
   ],
   "source": [
    "mylist[4][1]"
   ]
  },
  {
   "cell_type": "code",
   "execution_count": 28,
   "id": "f72189db-f883-4502-9473-0eb5da2cf82c",
   "metadata": {},
   "outputs": [
    {
     "data": {
      "text/plain": [
       "'c'"
      ]
     },
     "execution_count": 28,
     "metadata": {},
     "output_type": "execute_result"
    }
   ],
   "source": [
    "mylist[4][2]"
   ]
  },
  {
   "cell_type": "code",
   "execution_count": 29,
   "id": "48c0dff6-0da5-497f-bbbf-6f0e182570a5",
   "metadata": {},
   "outputs": [
    {
     "data": {
      "text/plain": [
       "'c'"
      ]
     },
     "execution_count": 29,
     "metadata": {},
     "output_type": "execute_result"
    }
   ],
   "source": [
    "mylist[4][-1]   # last item of sublist"
   ]
  },
  {
   "cell_type": "markdown",
   "id": "65a3120d-9b98-43c5-bbae-570295247606",
   "metadata": {},
   "source": [
    "## List Slicing :"
   ]
  },
  {
   "cell_type": "code",
   "execution_count": 30,
   "id": "16b03598-ebcd-4a6e-b11c-401364fd64dd",
   "metadata": {},
   "outputs": [
    {
     "data": {
      "text/plain": [
       "[10, 20, 'Dhoni', 7, 19.81, (3+5j), 'jul']"
      ]
     },
     "execution_count": 30,
     "metadata": {},
     "output_type": "execute_result"
    }
   ],
   "source": [
    "L = [10, 20, 'Dhoni', 7, 19.81, 3+5j, 'jul']\n",
    "L"
   ]
  },
  {
   "cell_type": "code",
   "execution_count": 31,
   "id": "52165d2c-a5a0-4dac-b8bc-b099046eaa1a",
   "metadata": {},
   "outputs": [
    {
     "data": {
      "text/plain": [
       "[10, 20]"
      ]
     },
     "execution_count": 31,
     "metadata": {},
     "output_type": "execute_result"
    }
   ],
   "source": [
    "L[:2]   # forward slicing"
   ]
  },
  {
   "cell_type": "code",
   "execution_count": 32,
   "id": "c82452e1-0d7b-460f-85e9-06e0866bf01c",
   "metadata": {},
   "outputs": [
    {
     "data": {
      "text/plain": [
       "['Dhoni', 7, 19.81]"
      ]
     },
     "execution_count": 32,
     "metadata": {},
     "output_type": "execute_result"
    }
   ],
   "source": [
    "L[2:5]"
   ]
  },
  {
   "cell_type": "code",
   "execution_count": 34,
   "id": "4cd2f414-df0b-4b48-a23e-a583f7608ed7",
   "metadata": {},
   "outputs": [
    {
     "data": {
      "text/plain": [
       "[20, 7, (3+5j)]"
      ]
     },
     "execution_count": 34,
     "metadata": {},
     "output_type": "execute_result"
    }
   ],
   "source": [
    "L[1:6:2]   # step slicing"
   ]
  },
  {
   "cell_type": "code",
   "execution_count": 33,
   "id": "2a14466a-4200-4c13-aa93-410d5e064c32",
   "metadata": {},
   "outputs": [
    {
     "data": {
      "text/plain": [
       "['jul']"
      ]
     },
     "execution_count": 33,
     "metadata": {},
     "output_type": "execute_result"
    }
   ],
   "source": [
    "L[-1:]   # backward slicing"
   ]
  },
  {
   "cell_type": "code",
   "execution_count": 35,
   "id": "cb70547b-c468-4c0a-b9e2-72fb3e09df22",
   "metadata": {},
   "outputs": [
    {
     "data": {
      "text/plain": [
       "[10, 20, 'Dhoni', 7, 19.81, (3+5j)]"
      ]
     },
     "execution_count": 35,
     "metadata": {},
     "output_type": "execute_result"
    }
   ],
   "source": [
    "L[:-1]"
   ]
  },
  {
   "cell_type": "code",
   "execution_count": 37,
   "id": "9955088e-50dc-4cd2-ba58-80bcde594fc8",
   "metadata": {},
   "outputs": [
    {
     "data": {
      "text/plain": [
       "['Dhoni', 7, 19.81, (3+5j)]"
      ]
     },
     "execution_count": 37,
     "metadata": {},
     "output_type": "execute_result"
    }
   ],
   "source": [
    "L[-5:-1]"
   ]
  },
  {
   "cell_type": "code",
   "execution_count": 38,
   "id": "a7db6624-4a7e-4f61-8e0f-e557db563070",
   "metadata": {},
   "outputs": [
    {
     "data": {
      "text/plain": [
       "['jul', (3+5j), 19.81, 7, 'Dhoni', 20, 10]"
      ]
     },
     "execution_count": 38,
     "metadata": {},
     "output_type": "execute_result"
    }
   ],
   "source": [
    "L[::-1]     # reverse list"
   ]
  },
  {
   "cell_type": "code",
   "execution_count": 41,
   "id": "b9a23ddb-22ca-4c86-9df9-8b2023c75c58",
   "metadata": {},
   "outputs": [
    {
     "data": {
      "text/plain": [
       "[20, 7]"
      ]
     },
     "execution_count": 41,
     "metadata": {},
     "output_type": "execute_result"
    }
   ],
   "source": [
    "L[-6:-2:2]"
   ]
  },
  {
   "cell_type": "markdown",
   "id": "a14ee9dd-2ee8-4b12-bf14-17d86a94d089",
   "metadata": {},
   "source": [
    "## Add, Remove and Change Elements :"
   ]
  },
  {
   "cell_type": "code",
   "execution_count": 42,
   "id": "6480dc9a-f6c0-43f9-82eb-79d58be453d2",
   "metadata": {},
   "outputs": [
    {
     "data": {
      "text/plain": [
       "[10, 20, 'Dhoni', 7, 19.81, (3+5j), 'jul']"
      ]
     },
     "execution_count": 42,
     "metadata": {},
     "output_type": "execute_result"
    }
   ],
   "source": [
    "L"
   ]
  },
  {
   "cell_type": "code",
   "execution_count": 43,
   "id": "9fee9bef-0a32-4670-aae9-eb1112a39c45",
   "metadata": {},
   "outputs": [],
   "source": [
    "L.append(100)   # it adds item at last"
   ]
  },
  {
   "cell_type": "code",
   "execution_count": 44,
   "id": "d0973ec4-537b-4a1d-bca8-b90d59115070",
   "metadata": {},
   "outputs": [
    {
     "data": {
      "text/plain": [
       "[10, 20, 'Dhoni', 7, 19.81, (3+5j), 'jul', 100]"
      ]
     },
     "execution_count": 44,
     "metadata": {},
     "output_type": "execute_result"
    }
   ],
   "source": [
    "L"
   ]
  },
  {
   "cell_type": "code",
   "execution_count": 45,
   "id": "29b308fa-10b6-434d-a7f0-7b30c14e1eab",
   "metadata": {},
   "outputs": [
    {
     "data": {
      "text/plain": [
       "[10, 20, 'Dhoni', 7, 19.81, (3+5j), 'jul', 100, 'sun']"
      ]
     },
     "execution_count": 45,
     "metadata": {},
     "output_type": "execute_result"
    }
   ],
   "source": [
    "L.append('sun')\n",
    "L"
   ]
  },
  {
   "cell_type": "code",
   "execution_count": 46,
   "id": "57b660dd-168a-48f9-8ed4-f99e28c9c67d",
   "metadata": {},
   "outputs": [
    {
     "data": {
      "text/plain": [
       "[10, 20, 30, 'Dhoni', 7, 19.81, (3+5j), 'jul', 100, 'sun']"
      ]
     },
     "execution_count": 46,
     "metadata": {},
     "output_type": "execute_result"
    }
   ],
   "source": [
    "L.insert(2,30) # insert() takes index where you want to insert and value what you want to insert\n",
    "L"
   ]
  },
  {
   "cell_type": "code",
   "execution_count": 51,
   "id": "34d46571-4965-4268-869e-eceecc5753c6",
   "metadata": {},
   "outputs": [
    {
     "data": {
      "text/plain": [
       "[10, 20, 30, 'ms', 'Dhoni', 7, 19.81, (3+5j), 'jul', 100, 'sun']"
      ]
     },
     "execution_count": 51,
     "metadata": {},
     "output_type": "execute_result"
    }
   ],
   "source": [
    "L.insert(3,'ms')\n",
    "L"
   ]
  },
  {
   "cell_type": "code",
   "execution_count": 52,
   "id": "769a599d-21e0-4a3f-b90d-49bca1e70919",
   "metadata": {},
   "outputs": [
    {
     "data": {
      "text/plain": [
       "[10, 20, 30, 'ms', 'Dhoni', 7, 19.81, (3+5j), 'jul', 100]"
      ]
     },
     "execution_count": 52,
     "metadata": {},
     "output_type": "execute_result"
    }
   ],
   "source": [
    "L.remove('sun')  # remove() it simply remove the given item\n",
    "L"
   ]
  },
  {
   "cell_type": "code",
   "execution_count": 53,
   "id": "04042092-911f-4c95-9f67-56d7c5d9e1f9",
   "metadata": {},
   "outputs": [],
   "source": [
    "L.remove(20)  "
   ]
  },
  {
   "cell_type": "code",
   "execution_count": 54,
   "id": "15153619-c82d-4018-8067-d6ec323cbeee",
   "metadata": {},
   "outputs": [
    {
     "data": {
      "text/plain": [
       "[10, 30, 'ms', 'Dhoni', 7, 19.81, (3+5j), 'jul', 100]"
      ]
     },
     "execution_count": 54,
     "metadata": {},
     "output_type": "execute_result"
    }
   ],
   "source": [
    "L"
   ]
  },
  {
   "cell_type": "code",
   "execution_count": 55,
   "id": "cfc527bf-3f25-49f4-961b-caf86a6bb46d",
   "metadata": {},
   "outputs": [
    {
     "data": {
      "text/plain": [
       "100"
      ]
     },
     "execution_count": 55,
     "metadata": {},
     "output_type": "execute_result"
    }
   ],
   "source": [
    "L.pop() # pop()- Remove and return item at index (default last)"
   ]
  },
  {
   "cell_type": "code",
   "execution_count": 56,
   "id": "7f18f3c8-39e7-4b66-b572-e341ef14a163",
   "metadata": {},
   "outputs": [
    {
     "data": {
      "text/plain": [
       "[10, 30, 'ms', 'Dhoni', 7, 19.81, (3+5j), 'jul']"
      ]
     },
     "execution_count": 56,
     "metadata": {},
     "output_type": "execute_result"
    }
   ],
   "source": [
    "L"
   ]
  },
  {
   "cell_type": "code",
   "execution_count": 57,
   "id": "031e7941-d5e4-4a1a-87ad-b9ab81d79514",
   "metadata": {},
   "outputs": [
    {
     "data": {
      "text/plain": [
       "30"
      ]
     },
     "execution_count": 57,
     "metadata": {},
     "output_type": "execute_result"
    }
   ],
   "source": [
    "L.pop(1) # and also pop the item by giving index value  "
   ]
  },
  {
   "cell_type": "code",
   "execution_count": 58,
   "id": "5e6a2e02-fead-457a-9146-377333b61bb8",
   "metadata": {},
   "outputs": [
    {
     "data": {
      "text/plain": [
       "[10, 'ms', 'Dhoni', 7, 19.81, (3+5j), 'jul']"
      ]
     },
     "execution_count": 58,
     "metadata": {},
     "output_type": "execute_result"
    }
   ],
   "source": [
    "L"
   ]
  },
  {
   "cell_type": "code",
   "execution_count": 62,
   "id": "a72f633a-3147-4cf1-9a5a-2505c4960e38",
   "metadata": {},
   "outputs": [
    {
     "data": {
      "text/plain": [
       "[10, 'ms', 'Dhoni', 7, 19.81, (3+5j)]"
      ]
     },
     "execution_count": 62,
     "metadata": {},
     "output_type": "execute_result"
    }
   ],
   "source": [
    "del L[6]  # Remove item at index location 7 \n",
    "L"
   ]
  },
  {
   "cell_type": "code",
   "execution_count": 63,
   "id": "467bbcc6-981f-4ca3-b40d-984f48037740",
   "metadata": {},
   "outputs": [
    {
     "data": {
      "text/plain": [
       "['a', 'b', 'c', 'd']"
      ]
     },
     "execution_count": 63,
     "metadata": {},
     "output_type": "execute_result"
    }
   ],
   "source": [
    "l3"
   ]
  },
  {
   "cell_type": "code",
   "execution_count": 64,
   "id": "c5999b13-c14f-4443-835b-1e54dd52c1c1",
   "metadata": {},
   "outputs": [],
   "source": [
    "del l3  # delete whole list"
   ]
  },
  {
   "cell_type": "code",
   "execution_count": 65,
   "id": "ff369941-613d-4217-ba21-950ec52b0e20",
   "metadata": {},
   "outputs": [
    {
     "ename": "NameError",
     "evalue": "name 'l3' is not defined",
     "output_type": "error",
     "traceback": [
      "\u001b[1;31m----------------------------------------------------------------------\u001b[0m",
      "\u001b[1;31mNameError\u001b[0m                            Traceback (most recent call last)",
      "Cell \u001b[1;32mIn[65], line 1\u001b[0m\n\u001b[1;32m----> 1\u001b[0m l3\n",
      "\u001b[1;31mNameError\u001b[0m: name 'l3' is not defined"
     ]
    }
   ],
   "source": [
    "l3"
   ]
  },
  {
   "cell_type": "code",
   "execution_count": 67,
   "id": "ac8f092e-73f2-4d26-adac-a984bc51af0c",
   "metadata": {},
   "outputs": [
    {
     "data": {
      "text/plain": [
       "[25.5, 34.9, 17.0]"
      ]
     },
     "execution_count": 67,
     "metadata": {},
     "output_type": "execute_result"
    }
   ],
   "source": [
    "l2"
   ]
  },
  {
   "cell_type": "code",
   "execution_count": 68,
   "id": "06895b04-4823-43aa-9fbb-fee10662f1cc",
   "metadata": {},
   "outputs": [],
   "source": [
    "l2.clear()  # it clear all item of list"
   ]
  },
  {
   "cell_type": "code",
   "execution_count": 69,
   "id": "e97abec1-0901-4f4e-8017-3c5ccddc8fa5",
   "metadata": {},
   "outputs": [
    {
     "data": {
      "text/plain": [
       "[]"
      ]
     },
     "execution_count": 69,
     "metadata": {},
     "output_type": "execute_result"
    }
   ],
   "source": [
    "l2"
   ]
  },
  {
   "cell_type": "markdown",
   "id": "328baaed-4f12-437a-ac95-acdaea7b5224",
   "metadata": {},
   "source": [
    "## copy() list :"
   ]
  },
  {
   "cell_type": "code",
   "execution_count": 70,
   "id": "71aafee4-2b75-4532-b79d-a05e9118e8e7",
   "metadata": {},
   "outputs": [
    {
     "data": {
      "text/plain": [
       "[10, 'ms', 'Dhoni', 7, 19.81, (3+5j)]"
      ]
     },
     "execution_count": 70,
     "metadata": {},
     "output_type": "execute_result"
    }
   ],
   "source": [
    "L"
   ]
  },
  {
   "cell_type": "code",
   "execution_count": 71,
   "id": "f62153e1-d49f-42c5-8356-9991ddcbf4a0",
   "metadata": {},
   "outputs": [],
   "source": [
    "copyList = L"
   ]
  },
  {
   "cell_type": "code",
   "execution_count": 72,
   "id": "3b5774b4-bffe-4565-bc64-6d7ab73c1c5a",
   "metadata": {},
   "outputs": [
    {
     "data": {
      "text/plain": [
       "[10, 'ms', 'Dhoni', 7, 19.81, (3+5j)]"
      ]
     },
     "execution_count": 72,
     "metadata": {},
     "output_type": "execute_result"
    }
   ],
   "source": [
    "copyList"
   ]
  },
  {
   "cell_type": "code",
   "execution_count": 73,
   "id": "363ba1b8-7cce-4a43-bbda-cb2885f0b78a",
   "metadata": {},
   "outputs": [
    {
     "data": {
      "text/plain": [
       "2702740731648"
      ]
     },
     "execution_count": 73,
     "metadata": {},
     "output_type": "execute_result"
    }
   ],
   "source": [
    "id(copyList)"
   ]
  },
  {
   "cell_type": "code",
   "execution_count": 74,
   "id": "48b64f43-043b-40d1-8818-f894b1d4d73b",
   "metadata": {},
   "outputs": [
    {
     "data": {
      "text/plain": [
       "2702740731648"
      ]
     },
     "execution_count": 74,
     "metadata": {},
     "output_type": "execute_result"
    }
   ],
   "source": [
    "id(L)"
   ]
  },
  {
   "cell_type": "code",
   "execution_count": 75,
   "id": "8587d3cf-9532-442b-a259-98c89499f478",
   "metadata": {},
   "outputs": [],
   "source": [
    "copyList1 = L.copy()"
   ]
  },
  {
   "cell_type": "code",
   "execution_count": 76,
   "id": "d59981f6-62a5-4a87-8c91-7c690a050882",
   "metadata": {},
   "outputs": [
    {
     "name": "stdout",
     "output_type": "stream",
     "text": [
      "[10, 'ms', 'Dhoni', 7, 19.81, (3+5j)] 2702740731648\n"
     ]
    }
   ],
   "source": [
    "print(copyList, id(copyList))"
   ]
  },
  {
   "cell_type": "code",
   "execution_count": 77,
   "id": "52e4db66-f2f4-4fba-bf1f-c14c8ec0a2ab",
   "metadata": {},
   "outputs": [
    {
     "data": {
      "text/plain": [
       "[10, 'ms', 'Dhoni', 7, 19.81, (3+5j)]"
      ]
     },
     "execution_count": 77,
     "metadata": {},
     "output_type": "execute_result"
    }
   ],
   "source": [
    "L"
   ]
  },
  {
   "cell_type": "code",
   "execution_count": 78,
   "id": "f187816c-b0d4-4ab2-b15e-03c873937a55",
   "metadata": {},
   "outputs": [
    {
     "data": {
      "text/plain": [
       "[10, 'ms', 'Dhoni', 7, 19.81, (3+5j)]"
      ]
     },
     "execution_count": 78,
     "metadata": {},
     "output_type": "execute_result"
    }
   ],
   "source": [
    "copyList"
   ]
  },
  {
   "cell_type": "code",
   "execution_count": 79,
   "id": "e7e0816f-f99e-48d2-b124-684cc594b348",
   "metadata": {},
   "outputs": [
    {
     "data": {
      "text/plain": [
       "[10, 'ms', 'Dhoni', 7, 19.81, (3+5j)]"
      ]
     },
     "execution_count": 79,
     "metadata": {},
     "output_type": "execute_result"
    }
   ],
   "source": [
    "copyList1"
   ]
  },
  {
   "cell_type": "markdown",
   "id": "f5fadea6-26b5-4197-bb59-6d954113f75e",
   "metadata": {},
   "source": [
    "## join list or concatenate list :"
   ]
  },
  {
   "cell_type": "code",
   "execution_count": 83,
   "id": "cf1a1e02-d399-4179-b03a-a10e75096c33",
   "metadata": {},
   "outputs": [],
   "source": [
    "joinedList = copyList + copyList1"
   ]
  },
  {
   "cell_type": "code",
   "execution_count": 100,
   "id": "83a944a8-a59f-4a84-81e9-3ef7190e7828",
   "metadata": {},
   "outputs": [
    {
     "data": {
      "text/plain": [
       "[10, 'ms', 'Dhoni', 7, 19.81, (3+5j), 10, 'ms', 'Dhoni', 7, 19.81, (3+5j)]"
      ]
     },
     "execution_count": 100,
     "metadata": {},
     "output_type": "execute_result"
    }
   ],
   "source": [
    "joinedList"
   ]
  },
  {
   "cell_type": "code",
   "execution_count": 101,
   "id": "6d18819a-2d1e-44f3-b60e-4a567cc3af5b",
   "metadata": {},
   "outputs": [],
   "source": [
    "a = [1,2,3]\n",
    "b = ['a','b']"
   ]
  },
  {
   "cell_type": "code",
   "execution_count": 102,
   "id": "d154b74a-493e-4d40-bf4c-6e134d9abe26",
   "metadata": {},
   "outputs": [
    {
     "data": {
      "text/plain": [
       "[1, 2, 3, 'a', 'b']"
      ]
     },
     "execution_count": 102,
     "metadata": {},
     "output_type": "execute_result"
    }
   ],
   "source": [
    "a.extend(b)\n",
    "a"
   ]
  },
  {
   "cell_type": "markdown",
   "id": "7a27cb33-221c-4be8-bae7-8271228e78cf",
   "metadata": {},
   "source": [
    "## List Membership :  "
   ]
  },
  {
   "cell_type": "code",
   "execution_count": 107,
   "id": "d491331c-0a9a-4df6-9730-3fef67543c7f",
   "metadata": {},
   "outputs": [
    {
     "data": {
      "text/plain": [
       "['a', 'b', 'c', 'd']"
      ]
     },
     "execution_count": 107,
     "metadata": {},
     "output_type": "execute_result"
    }
   ],
   "source": [
    "l3"
   ]
  },
  {
   "cell_type": "code",
   "execution_count": 108,
   "id": "87927e91-eaf8-431e-aefc-6278ed775038",
   "metadata": {},
   "outputs": [
    {
     "data": {
      "text/plain": [
       "[12, 10.6, 'jan', (1+2j)]"
      ]
     },
     "execution_count": 108,
     "metadata": {},
     "output_type": "execute_result"
    }
   ],
   "source": [
    "l4"
   ]
  },
  {
   "cell_type": "code",
   "execution_count": 109,
   "id": "dff2a068-63cd-4714-bf88-900b77361929",
   "metadata": {},
   "outputs": [
    {
     "data": {
      "text/plain": [
       "True"
      ]
     },
     "execution_count": 109,
     "metadata": {},
     "output_type": "execute_result"
    }
   ],
   "source": [
    "'a' in l3"
   ]
  },
  {
   "cell_type": "code",
   "execution_count": 110,
   "id": "d1f3aff1-94ef-432c-8556-c76f62a25601",
   "metadata": {},
   "outputs": [
    {
     "data": {
      "text/plain": [
       "True"
      ]
     },
     "execution_count": 110,
     "metadata": {},
     "output_type": "execute_result"
    }
   ],
   "source": [
    "1+2j in l4"
   ]
  },
  {
   "cell_type": "code",
   "execution_count": 111,
   "id": "09b33431-423a-4fee-a499-4fd520d38a6e",
   "metadata": {},
   "outputs": [
    {
     "data": {
      "text/plain": [
       "False"
      ]
     },
     "execution_count": 111,
     "metadata": {},
     "output_type": "execute_result"
    }
   ],
   "source": [
    "12 in l3"
   ]
  },
  {
   "cell_type": "code",
   "execution_count": 113,
   "id": "4b220a6b-1c1b-43fe-870d-a29a3e37c289",
   "metadata": {},
   "outputs": [
    {
     "name": "stdout",
     "output_type": "stream",
     "text": [
      "jan is present in the list\n"
     ]
    }
   ],
   "source": [
    "if 'jan' in l4:\n",
    "    print('jan is present in the list') \n",
    "else:\n",
    "    print('jan is not present in the list') "
   ]
  },
  {
   "cell_type": "code",
   "execution_count": 115,
   "id": "f9c8f022-fd94-44ae-a62c-abcb80ae8f3e",
   "metadata": {},
   "outputs": [
    {
     "data": {
      "text/plain": [
       "[2, 5, 7, 16, 0, -45, 34]"
      ]
     },
     "execution_count": 115,
     "metadata": {},
     "output_type": "execute_result"
    }
   ],
   "source": [
    "sort_list = [2,5,7,16,0,-45,34]\n",
    "sort_list"
   ]
  },
  {
   "cell_type": "code",
   "execution_count": 116,
   "id": "0c035f4f-c1e4-4b18-b423-85487c1ea909",
   "metadata": {},
   "outputs": [],
   "source": [
    "sort_list.sort()  # ascending order "
   ]
  },
  {
   "cell_type": "code",
   "execution_count": 117,
   "id": "f5dbd2d4-22c1-4518-893b-da323db1554d",
   "metadata": {},
   "outputs": [
    {
     "data": {
      "text/plain": [
       "[-45, 0, 2, 5, 7, 16, 34]"
      ]
     },
     "execution_count": 117,
     "metadata": {},
     "output_type": "execute_result"
    }
   ],
   "source": [
    "sort_list"
   ]
  },
  {
   "cell_type": "code",
   "execution_count": 118,
   "id": "b40563f4-94e3-414c-8f67-947a63208f8a",
   "metadata": {},
   "outputs": [
    {
     "data": {
      "text/plain": [
       "[34, 16, 7, 5, 2, 0, -45]"
      ]
     },
     "execution_count": 118,
     "metadata": {},
     "output_type": "execute_result"
    }
   ],
   "source": [
    "sort_list.sort(reverse=True)  # descending order \n",
    "sort_list"
   ]
  },
  {
   "cell_type": "code",
   "execution_count": 119,
   "id": "92192dca-3dc2-4ea0-9ff4-4a9d645309fa",
   "metadata": {},
   "outputs": [
    {
     "data": {
      "text/plain": [
       "[34, 16, 7, 5, 2, 0, -45]"
      ]
     },
     "execution_count": 119,
     "metadata": {},
     "output_type": "execute_result"
    }
   ],
   "source": [
    "sort_list"
   ]
  },
  {
   "cell_type": "code",
   "execution_count": 120,
   "id": "0752be7e-6d34-480a-b174-d0d55b35a0f4",
   "metadata": {},
   "outputs": [
    {
     "data": {
      "text/plain": [
       "[-45, 0, 2, 5, 7, 16, 34]"
      ]
     },
     "execution_count": 120,
     "metadata": {},
     "output_type": "execute_result"
    }
   ],
   "source": [
    "sorted(sort_list)    # it never change original list"
   ]
  },
  {
   "cell_type": "code",
   "execution_count": 121,
   "id": "9a9595ad-732e-48b9-928f-7b45d495221a",
   "metadata": {},
   "outputs": [
    {
     "data": {
      "text/plain": [
       "[34, 16, 7, 5, 2, 0, -45]"
      ]
     },
     "execution_count": 121,
     "metadata": {},
     "output_type": "execute_result"
    }
   ],
   "source": [
    "sort_list"
   ]
  },
  {
   "cell_type": "code",
   "execution_count": 122,
   "id": "b55a3681-4e79-4c9e-b0ee-1be8bcd4f1f8",
   "metadata": {},
   "outputs": [
    {
     "data": {
      "text/plain": [
       "0"
      ]
     },
     "execution_count": 122,
     "metadata": {},
     "output_type": "execute_result"
    }
   ],
   "source": [
    "sort_list.count(3)"
   ]
  },
  {
   "cell_type": "code",
   "execution_count": 123,
   "id": "7ac14b85-56a3-4d15-b198-b906ca1588cf",
   "metadata": {},
   "outputs": [
    {
     "data": {
      "text/plain": [
       "1"
      ]
     },
     "execution_count": 123,
     "metadata": {},
     "output_type": "execute_result"
    }
   ],
   "source": [
    "sort_list.count(7)  # counts occurance of item or frequency of item"
   ]
  },
  {
   "cell_type": "markdown",
   "id": "999f4a51-e7a5-43f8-b1af-ab73dda4dc32",
   "metadata": {},
   "source": [
    "## loop through list : "
   ]
  },
  {
   "cell_type": "code",
   "execution_count": 125,
   "id": "91f1a05d-9e52-4f07-9e56-569a10d3f7d3",
   "metadata": {},
   "outputs": [
    {
     "data": {
      "text/plain": [
       "[10, 20, 30, 40, 50]"
      ]
     },
     "execution_count": 125,
     "metadata": {},
     "output_type": "execute_result"
    }
   ],
   "source": [
    "L1 = [10, 20,30, 40, 50]\n",
    "L1"
   ]
  },
  {
   "cell_type": "code",
   "execution_count": 126,
   "id": "6d721b00-93ac-4722-ae50-2ab49a7f5286",
   "metadata": {},
   "outputs": [
    {
     "name": "stdout",
     "output_type": "stream",
     "text": [
      "10\n",
      "20\n",
      "30\n",
      "40\n",
      "50\n"
     ]
    }
   ],
   "source": [
    "for items in L1:\n",
    "    print(items)"
   ]
  },
  {
   "cell_type": "code",
   "execution_count": 128,
   "id": "5c2ce736-1bbc-43d4-a651-4583b47b11ca",
   "metadata": {},
   "outputs": [
    {
     "name": "stdout",
     "output_type": "stream",
     "text": [
      "(0, 10)\n",
      "(1, 20)\n",
      "(2, 30)\n",
      "(3, 40)\n",
      "(4, 50)\n"
     ]
    }
   ],
   "source": [
    "for items in enumerate(L1):\n",
    "    print(items)"
   ]
  },
  {
   "cell_type": "markdown",
   "id": "bd6a4c02-0b7b-4089-be67-811968e3fbaa",
   "metadata": {},
   "source": [
    "## all() / any() : "
   ]
  },
  {
   "cell_type": "code",
   "execution_count": 129,
   "id": "b59fcbf7-dc14-4979-9138-d7f24ee97c9b",
   "metadata": {},
   "outputs": [
    {
     "data": {
      "text/plain": [
       "[10, 20, 30, 40, 50]"
      ]
     },
     "execution_count": 129,
     "metadata": {},
     "output_type": "execute_result"
    }
   ],
   "source": [
    "L1"
   ]
  },
  {
   "cell_type": "code",
   "execution_count": 130,
   "id": "f9326a81-534f-45a3-b77d-fa4d805d7c19",
   "metadata": {},
   "outputs": [
    {
     "data": {
      "text/plain": [
       "True"
      ]
     },
     "execution_count": 130,
     "metadata": {},
     "output_type": "execute_result"
    }
   ],
   "source": [
    "all(L1)"
   ]
  },
  {
   "cell_type": "code",
   "execution_count": 131,
   "id": "63a72930-2015-4c63-a04b-a0ed84724af3",
   "metadata": {},
   "outputs": [
    {
     "data": {
      "text/plain": [
       "True"
      ]
     },
     "execution_count": 131,
     "metadata": {},
     "output_type": "execute_result"
    }
   ],
   "source": [
    "any(L1)"
   ]
  },
  {
   "cell_type": "code",
   "execution_count": 132,
   "id": "907777ae-915e-40eb-b998-4aae555b6c7b",
   "metadata": {},
   "outputs": [
    {
     "data": {
      "text/plain": [
       "[10, 20, 30, 40, 50, 0]"
      ]
     },
     "execution_count": 132,
     "metadata": {},
     "output_type": "execute_result"
    }
   ],
   "source": [
    "L1.append(0)\n",
    "L1"
   ]
  },
  {
   "cell_type": "code",
   "execution_count": 133,
   "id": "dfc5d597-8577-403c-a933-03b1cccb979a",
   "metadata": {},
   "outputs": [
    {
     "data": {
      "text/plain": [
       "False"
      ]
     },
     "execution_count": 133,
     "metadata": {},
     "output_type": "execute_result"
    }
   ],
   "source": [
    "all(L1)"
   ]
  },
  {
   "cell_type": "code",
   "execution_count": 134,
   "id": "994125df-65b3-459b-be8c-871cb6f02c36",
   "metadata": {},
   "outputs": [
    {
     "data": {
      "text/plain": [
       "True"
      ]
     },
     "execution_count": 134,
     "metadata": {},
     "output_type": "execute_result"
    }
   ],
   "source": [
    "any(L1)"
   ]
  },
  {
   "cell_type": "code",
   "execution_count": null,
   "id": "84621612-a3f8-4760-918d-1fe002fbcadf",
   "metadata": {},
   "outputs": [],
   "source": []
  }
 ],
 "metadata": {
  "kernelspec": {
   "display_name": "Python 3 (ipykernel)",
   "language": "python",
   "name": "python3"
  },
  "language_info": {
   "codemirror_mode": {
    "name": "ipython",
    "version": 3
   },
   "file_extension": ".py",
   "mimetype": "text/x-python",
   "name": "python",
   "nbconvert_exporter": "python",
   "pygments_lexer": "ipython3",
   "version": "3.13.5"
  }
 },
 "nbformat": 4,
 "nbformat_minor": 5
}
