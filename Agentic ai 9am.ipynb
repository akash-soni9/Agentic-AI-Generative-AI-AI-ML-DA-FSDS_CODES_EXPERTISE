{
 "cells": [
  {
   "cell_type": "code",
   "execution_count": 1,
   "id": "e70ce77f-b0df-4cb7-8034-d751aa806170",
   "metadata": {},
   "outputs": [
    {
     "data": {
      "text/plain": [
       "'3.13.5 | packaged by Anaconda, Inc. | (main, Jun 12 2025, 16:37:03) [MSC v.1929 64 bit (AMD64)]'"
      ]
     },
     "execution_count": 1,
     "metadata": {},
     "output_type": "execute_result"
    }
   ],
   "source": [
    "import sys\n",
    "sys.version"
   ]
  },
  {
   "cell_type": "code",
   "execution_count": 2,
   "id": "7950c1a4-7824-45e5-a089-8b76f4c61418",
   "metadata": {},
   "outputs": [
    {
     "data": {
      "text/plain": [
       "['False',\n",
       " 'None',\n",
       " 'True',\n",
       " 'and',\n",
       " 'as',\n",
       " 'assert',\n",
       " 'async',\n",
       " 'await',\n",
       " 'break',\n",
       " 'class',\n",
       " 'continue',\n",
       " 'def',\n",
       " 'del',\n",
       " 'elif',\n",
       " 'else',\n",
       " 'except',\n",
       " 'finally',\n",
       " 'for',\n",
       " 'from',\n",
       " 'global',\n",
       " 'if',\n",
       " 'import',\n",
       " 'in',\n",
       " 'is',\n",
       " 'lambda',\n",
       " 'nonlocal',\n",
       " 'not',\n",
       " 'or',\n",
       " 'pass',\n",
       " 'raise',\n",
       " 'return',\n",
       " 'try',\n",
       " 'while',\n",
       " 'with',\n",
       " 'yield']"
      ]
     },
     "execution_count": 2,
     "metadata": {},
     "output_type": "execute_result"
    }
   ],
   "source": [
    "import keyword\n",
    "keyword.kwlist"
   ]
  },
  {
   "cell_type": "code",
   "execution_count": 3,
   "id": "7c9c2f36-e114-4ac0-b2df-996a881605f6",
   "metadata": {},
   "outputs": [
    {
     "data": {
      "text/plain": [
       "35"
      ]
     },
     "execution_count": 3,
     "metadata": {},
     "output_type": "execute_result"
    }
   ],
   "source": [
    "len(keyword.kwlist)"
   ]
  },
  {
   "cell_type": "code",
   "execution_count": 1,
   "id": "b50471af-0220-45ea-a657-fc921789158e",
   "metadata": {},
   "outputs": [
    {
     "data": {
      "text/plain": [
       "110.5"
      ]
     },
     "execution_count": 1,
     "metadata": {},
     "output_type": "execute_result"
    }
   ],
   "source": [
    "f = 110.5\n",
    "f"
   ]
  },
  {
   "cell_type": "code",
   "execution_count": 2,
   "id": "38600c84-fb0f-406f-8942-a4cace5e67ad",
   "metadata": {},
   "outputs": [
    {
     "data": {
      "text/plain": [
       "float"
      ]
     },
     "execution_count": 2,
     "metadata": {},
     "output_type": "execute_result"
    }
   ],
   "source": [
    "type(f)"
   ]
  },
  {
   "cell_type": "code",
   "execution_count": 3,
   "id": "e1274925-0481-4825-bb60-44615275088f",
   "metadata": {},
   "outputs": [
    {
     "data": {
      "text/plain": [
       "5"
      ]
     },
     "execution_count": 3,
     "metadata": {},
     "output_type": "execute_result"
    }
   ],
   "source": [
    "i = 5\n",
    "i"
   ]
  },
  {
   "cell_type": "code",
   "execution_count": 4,
   "id": "9ec7c129-ae1a-4364-a6f3-eeda0886ae61",
   "metadata": {},
   "outputs": [
    {
     "data": {
      "text/plain": [
       "int"
      ]
     },
     "execution_count": 4,
     "metadata": {},
     "output_type": "execute_result"
    }
   ],
   "source": [
    "type(i)"
   ]
  },
  {
   "cell_type": "code",
   "execution_count": 5,
   "id": "72237567-d533-4404-99e9-4d376bdfe35b",
   "metadata": {},
   "outputs": [
    {
     "data": {
      "text/plain": [
       "110.5"
      ]
     },
     "execution_count": 5,
     "metadata": {},
     "output_type": "execute_result"
    }
   ],
   "source": [
    "i\n",
    "\n",
    "f"
   ]
  },
  {
   "cell_type": "code",
   "execution_count": 6,
   "id": "fc514dbb-6ac4-4d62-8ccf-7147e7f52726",
   "metadata": {},
   "outputs": [
    {
     "name": "stdout",
     "output_type": "stream",
     "text": [
      "5\n",
      "110.5\n"
     ]
    }
   ],
   "source": [
    "print(i)\n",
    "print(f)"
   ]
  },
  {
   "cell_type": "code",
   "execution_count": 7,
   "id": "ee91f029-5fe9-47e6-b26c-93854bbcb18c",
   "metadata": {},
   "outputs": [
    {
     "data": {
      "text/plain": [
       "115.5"
      ]
     },
     "execution_count": 7,
     "metadata": {},
     "output_type": "execute_result"
    }
   ],
   "source": [
    "i + f"
   ]
  },
  {
   "cell_type": "code",
   "execution_count": 8,
   "id": "5aafe622-33ba-4de3-adbc-3f68058662d9",
   "metadata": {},
   "outputs": [
    {
     "data": {
      "text/plain": [
       "-105.5"
      ]
     },
     "execution_count": 8,
     "metadata": {},
     "output_type": "execute_result"
    }
   ],
   "source": [
    "i-f"
   ]
  },
  {
   "cell_type": "code",
   "execution_count": 9,
   "id": "afbe6d00-71a8-4ed8-a33b-2dd8b78b66be",
   "metadata": {},
   "outputs": [
    {
     "data": {
      "text/plain": [
       "552.5"
      ]
     },
     "execution_count": 9,
     "metadata": {},
     "output_type": "execute_result"
    }
   ],
   "source": [
    "i * f"
   ]
  },
  {
   "cell_type": "code",
   "execution_count": 11,
   "id": "7f26b8c5-0af6-4423-9f4a-c01c985bfa0a",
   "metadata": {},
   "outputs": [
    {
     "ename": "NameError",
     "evalue": "name 'e0' is not defined",
     "output_type": "error",
     "traceback": [
      "\u001b[1;31m---------------------------------------------------------------------------\u001b[0m",
      "\u001b[1;31mNameError\u001b[0m                                 Traceback (most recent call last)",
      "Cell \u001b[1;32mIn[11], line 1\u001b[0m\n\u001b[1;32m----> 1\u001b[0m f1 \u001b[38;5;241m=\u001b[39m e0\n\u001b[0;32m      2\u001b[0m f1\n",
      "\u001b[1;31mNameError\u001b[0m: name 'e0' is not defined"
     ]
    }
   ],
   "source": [
    "f1 = e0\n",
    "f1"
   ]
  },
  {
   "cell_type": "markdown",
   "id": "e0743674-7686-4435-acb0-396be6305e69",
   "metadata": {},
   "source": [
    "#boolean"
   ]
  },
  {
   "cell_type": "code",
   "execution_count": 12,
   "id": "07137985-4cc0-4828-a878-85f0e9bab71e",
   "metadata": {},
   "outputs": [
    {
     "data": {
      "text/plain": [
       "1"
      ]
     },
     "execution_count": 12,
     "metadata": {},
     "output_type": "execute_result"
    }
   ],
   "source": [
    "True + False"
   ]
  },
  {
   "cell_type": "code",
   "execution_count": 13,
   "id": "a8fea39c-8470-433b-a054-28469b03bec1",
   "metadata": {},
   "outputs": [
    {
     "data": {
      "text/plain": [
       "1"
      ]
     },
     "execution_count": 13,
     "metadata": {},
     "output_type": "execute_result"
    }
   ],
   "source": [
    "True - False"
   ]
  },
  {
   "cell_type": "code",
   "execution_count": 14,
   "id": "273c168c-3d43-4968-b9e1-1688939ba937",
   "metadata": {},
   "outputs": [
    {
     "data": {
      "text/plain": [
       "0"
      ]
     },
     "execution_count": 14,
     "metadata": {},
     "output_type": "execute_result"
    }
   ],
   "source": [
    "True * False"
   ]
  },
  {
   "cell_type": "code",
   "execution_count": 17,
   "id": "91b06f00-0b0f-45e4-ba9e-186bf46423fa",
   "metadata": {},
   "outputs": [
    {
     "data": {
      "text/plain": [
       "0.0"
      ]
     },
     "execution_count": 17,
     "metadata": {},
     "output_type": "execute_result"
    }
   ],
   "source": [
    "False / True"
   ]
  },
  {
   "cell_type": "code",
   "execution_count": 18,
   "id": "7156f7cf-d62f-4ef8-8ed9-7ec046fe3c84",
   "metadata": {},
   "outputs": [
    {
     "data": {
      "text/plain": [
       "'hello'"
      ]
     },
     "execution_count": 18,
     "metadata": {},
     "output_type": "execute_result"
    }
   ],
   "source": [
    "s = 'hello'\n",
    "s"
   ]
  },
  {
   "cell_type": "code",
   "execution_count": 19,
   "id": "d4edd5d6-604a-40b4-aa1a-0e37ecb81f4c",
   "metadata": {},
   "outputs": [
    {
     "data": {
      "text/plain": [
       "'hello'"
      ]
     },
     "execution_count": 19,
     "metadata": {},
     "output_type": "execute_result"
    }
   ],
   "source": [
    "s1 = \"hello\"\n",
    "s1"
   ]
  },
  {
   "cell_type": "code",
   "execution_count": 20,
   "id": "80e3892e-25d9-4a47-8d1b-5c314f79252d",
   "metadata": {},
   "outputs": [
    {
     "data": {
      "text/plain": [
       "' hello\\n             team'"
      ]
     },
     "execution_count": 20,
     "metadata": {},
     "output_type": "execute_result"
    }
   ],
   "source": [
    "s2 = ''' hello\n",
    "             team'''\n",
    "s2"
   ]
  },
  {
   "cell_type": "markdown",
   "id": "bd895a35-6c49-412f-9610-90c964a69fce",
   "metadata": {},
   "source": [
    "#complex"
   ]
  },
  {
   "cell_type": "code",
   "execution_count": 21,
   "id": "0c8891d8-76e8-451a-a39c-70ed838db7d2",
   "metadata": {},
   "outputs": [
    {
     "data": {
      "text/plain": [
       "(10+20j)"
      ]
     },
     "execution_count": 21,
     "metadata": {},
     "output_type": "execute_result"
    }
   ],
   "source": [
    "c = 10 + 20j\n",
    "c"
   ]
  },
  {
   "cell_type": "code",
   "execution_count": 22,
   "id": "c44d30ba-c316-45f1-b2ae-8f52a90159a5",
   "metadata": {},
   "outputs": [
    {
     "data": {
      "text/plain": [
       "(20+30j)"
      ]
     },
     "execution_count": 22,
     "metadata": {},
     "output_type": "execute_result"
    }
   ],
   "source": [
    "d = 20 + 30j\n",
    "d"
   ]
  },
  {
   "cell_type": "code",
   "execution_count": 23,
   "id": "a9114185-31eb-46a3-a895-fe5e1cc6ea10",
   "metadata": {},
   "outputs": [
    {
     "name": "stdout",
     "output_type": "stream",
     "text": [
      "(30+50j)\n"
     ]
    }
   ],
   "source": [
    "print(c+d)"
   ]
  },
  {
   "cell_type": "code",
   "execution_count": 26,
   "id": "05630448-7cf6-41e8-aaea-08b63ba887ac",
   "metadata": {},
   "outputs": [
    {
     "name": "stdout",
     "output_type": "stream",
     "text": [
      "(-10-10j)\n"
     ]
    }
   ],
   "source": [
    "print(c-d)"
   ]
  },
  {
   "cell_type": "code",
   "execution_count": 27,
   "id": "88509bd4-d7b2-4c93-9da8-c0f4b9e8e8ad",
   "metadata": {},
   "outputs": [
    {
     "name": "stdout",
     "output_type": "stream",
     "text": [
      "(-400+700j)\n"
     ]
    }
   ],
   "source": [
    "print(c*d)"
   ]
  },
  {
   "cell_type": "raw",
   "id": "28a170b7-51fa-4c02-a9f4-8658bdf988fb",
   "metadata": {},
   "source": [
    "#python variable completd\n",
    "#python datatype completed"
   ]
  },
  {
   "cell_type": "markdown",
   "id": "1f1c41af-9f80-428a-b91e-917a79c08009",
   "metadata": {},
   "source": [
    "# 16\n",
    "  python intro\n",
    "  python interpreter , compiler ide\n",
    "  "
   ]
  },
  {
   "cell_type": "markdown",
   "id": "d64aa278-f70a-41a9-9da2-a944ce58c47f",
   "metadata": {},
   "source": [
    "# type casting == Convert one data type into another data type"
   ]
  },
  {
   "cell_type": "code",
   "execution_count": 1,
   "id": "90b15ed2-1b60-4796-8a22-431478a5adba",
   "metadata": {},
   "outputs": [
    {
     "data": {
      "text/plain": [
       "2"
      ]
     },
     "execution_count": 1,
     "metadata": {},
     "output_type": "execute_result"
    }
   ],
   "source": [
    "int(2.4)"
   ]
  },
  {
   "cell_type": "code",
   "execution_count": 2,
   "id": "0e6ea002-78ab-41d6-a42d-6913cbfb5c5d",
   "metadata": {},
   "outputs": [
    {
     "ename": "TypeError",
     "evalue": "'float' object cannot be interpreted as an integer",
     "output_type": "error",
     "traceback": [
      "\u001b[1;31m---------------------------------------------------------------------------\u001b[0m",
      "\u001b[1;31mTypeError\u001b[0m                                 Traceback (most recent call last)",
      "Cell \u001b[1;32mIn[2], line 1\u001b[0m\n\u001b[1;32m----> 1\u001b[0m \u001b[38;5;28mint\u001b[39m(\u001b[38;5;241m2.4\u001b[39m, \u001b[38;5;241m3.5\u001b[39m)\n",
      "\u001b[1;31mTypeError\u001b[0m: 'float' object cannot be interpreted as an integer"
     ]
    }
   ],
   "source": [
    "int(2.4, 3.5)"
   ]
  },
  {
   "cell_type": "code",
   "execution_count": 3,
   "id": "b2148c05-21a8-4fd5-a7c1-db2c62f599b9",
   "metadata": {},
   "outputs": [
    {
     "data": {
      "text/plain": [
       "1"
      ]
     },
     "execution_count": 3,
     "metadata": {},
     "output_type": "execute_result"
    }
   ],
   "source": [
    "int(True)"
   ]
  },
  {
   "cell_type": "code",
   "execution_count": 4,
   "id": "4f227111-1fed-42e6-9c46-baef0275b1e5",
   "metadata": {},
   "outputs": [
    {
     "data": {
      "text/plain": [
       "0"
      ]
     },
     "execution_count": 4,
     "metadata": {},
     "output_type": "execute_result"
    }
   ],
   "source": [
    "int(False)"
   ]
  },
  {
   "cell_type": "code",
   "execution_count": 5,
   "id": "88d5f06d-be64-484e-8212-d3048a28542b",
   "metadata": {},
   "outputs": [
    {
     "ename": "TypeError",
     "evalue": "int() can't convert non-string with explicit base",
     "output_type": "error",
     "traceback": [
      "\u001b[1;31m---------------------------------------------------------------------------\u001b[0m",
      "\u001b[1;31mTypeError\u001b[0m                                 Traceback (most recent call last)",
      "Cell \u001b[1;32mIn[5], line 1\u001b[0m\n\u001b[1;32m----> 1\u001b[0m \u001b[38;5;28mint\u001b[39m(\u001b[38;5;28;01mTrue\u001b[39;00m,\u001b[38;5;28;01mFalse\u001b[39;00m)\n",
      "\u001b[1;31mTypeError\u001b[0m: int() can't convert non-string with explicit base"
     ]
    }
   ],
   "source": [
    "int(True,False)"
   ]
  },
  {
   "cell_type": "code",
   "execution_count": 6,
   "id": "3ffce87a-d034-4538-9b18-a80f19d9ed15",
   "metadata": {},
   "outputs": [
    {
     "data": {
      "text/plain": [
       "10"
      ]
     },
     "execution_count": 6,
     "metadata": {},
     "output_type": "execute_result"
    }
   ],
   "source": [
    "int('10')"
   ]
  },
  {
   "cell_type": "code",
   "execution_count": 7,
   "id": "d5aad9d0-db5a-4be7-971e-b545399996f0",
   "metadata": {},
   "outputs": [
    {
     "ename": "ValueError",
     "evalue": "invalid literal for int() with base 10: 'ten'",
     "output_type": "error",
     "traceback": [
      "\u001b[1;31m---------------------------------------------------------------------------\u001b[0m",
      "\u001b[1;31mValueError\u001b[0m                                Traceback (most recent call last)",
      "Cell \u001b[1;32mIn[7], line 1\u001b[0m\n\u001b[1;32m----> 1\u001b[0m \u001b[38;5;28mint\u001b[39m(\u001b[38;5;124m'\u001b[39m\u001b[38;5;124mten\u001b[39m\u001b[38;5;124m'\u001b[39m)\n",
      "\u001b[1;31mValueError\u001b[0m: invalid literal for int() with base 10: 'ten'"
     ]
    }
   ],
   "source": [
    "int('ten')"
   ]
  },
  {
   "cell_type": "code",
   "execution_count": 8,
   "id": "61a761d5-4783-4b8b-9b7c-b27927287341",
   "metadata": {},
   "outputs": [
    {
     "ename": "TypeError",
     "evalue": "int() argument must be a string, a bytes-like object or a real number, not 'complex'",
     "output_type": "error",
     "traceback": [
      "\u001b[1;31m---------------------------------------------------------------------------\u001b[0m",
      "\u001b[1;31mTypeError\u001b[0m                                 Traceback (most recent call last)",
      "Cell \u001b[1;32mIn[8], line 1\u001b[0m\n\u001b[1;32m----> 1\u001b[0m \u001b[38;5;28mint\u001b[39m(\u001b[38;5;241m10\u001b[39m\u001b[38;5;241m+\u001b[39m\u001b[38;5;241m2\u001b[39mj)\n",
      "\u001b[1;31mTypeError\u001b[0m: int() argument must be a string, a bytes-like object or a real number, not 'complex'"
     ]
    }
   ],
   "source": [
    "int(10+2j)"
   ]
  },
  {
   "cell_type": "markdown",
   "id": "8962205c-5e3e-46c0-bfb8-85590fb83014",
   "metadata": {},
   "source": [
    "# Float Type casting"
   ]
  },
  {
   "cell_type": "code",
   "execution_count": 9,
   "id": "2d2b122e-5e65-402b-b7f2-e6a04bf319cd",
   "metadata": {},
   "outputs": [
    {
     "data": {
      "text/plain": [
       "2000000.0"
      ]
     },
     "execution_count": 9,
     "metadata": {},
     "output_type": "execute_result"
    }
   ],
   "source": [
    "float(2000000)"
   ]
  },
  {
   "cell_type": "code",
   "execution_count": 10,
   "id": "1521ef4a-7f09-4605-bbbf-00d53f1de3e9",
   "metadata": {},
   "outputs": [
    {
     "ename": "TypeError",
     "evalue": "float() argument must be a string or a real number, not 'complex'",
     "output_type": "error",
     "traceback": [
      "\u001b[1;31m---------------------------------------------------------------------------\u001b[0m",
      "\u001b[1;31mTypeError\u001b[0m                                 Traceback (most recent call last)",
      "Cell \u001b[1;32mIn[10], line 1\u001b[0m\n\u001b[1;32m----> 1\u001b[0m \u001b[38;5;28mfloat\u001b[39m(\u001b[38;5;241m1\u001b[39m\u001b[38;5;241m+\u001b[39m\u001b[38;5;241m2\u001b[39mj)\n",
      "\u001b[1;31mTypeError\u001b[0m: float() argument must be a string or a real number, not 'complex'"
     ]
    }
   ],
   "source": [
    "float(1+2j)"
   ]
  },
  {
   "cell_type": "code",
   "execution_count": 11,
   "id": "3d187e67-9679-43ae-b2b0-268d38887e0b",
   "metadata": {},
   "outputs": [
    {
     "ename": "TypeError",
     "evalue": "float expected at most 1 argument, got 2",
     "output_type": "error",
     "traceback": [
      "\u001b[1;31m---------------------------------------------------------------------------\u001b[0m",
      "\u001b[1;31mTypeError\u001b[0m                                 Traceback (most recent call last)",
      "Cell \u001b[1;32mIn[11], line 1\u001b[0m\n\u001b[1;32m----> 1\u001b[0m \u001b[38;5;28mfloat\u001b[39m(\u001b[38;5;241m10\u001b[39m,\u001b[38;5;241m20\u001b[39m)\n",
      "\u001b[1;31mTypeError\u001b[0m: float expected at most 1 argument, got 2"
     ]
    }
   ],
   "source": [
    "float(10,20)"
   ]
  },
  {
   "cell_type": "code",
   "execution_count": 12,
   "id": "9979136f-6463-4280-9024-58d4614ee9eb",
   "metadata": {},
   "outputs": [
    {
     "data": {
      "text/plain": [
       "1.0"
      ]
     },
     "execution_count": 12,
     "metadata": {},
     "output_type": "execute_result"
    }
   ],
   "source": [
    "float(True)"
   ]
  },
  {
   "cell_type": "code",
   "execution_count": 13,
   "id": "9bb141bd-0b42-4315-8095-13923b477d40",
   "metadata": {},
   "outputs": [
    {
     "data": {
      "text/plain": [
       "0.0"
      ]
     },
     "execution_count": 13,
     "metadata": {},
     "output_type": "execute_result"
    }
   ],
   "source": [
    "float(False)"
   ]
  },
  {
   "cell_type": "code",
   "execution_count": 14,
   "id": "07993d37-8d2d-4b0e-84a4-674203ee6e7d",
   "metadata": {},
   "outputs": [
    {
     "data": {
      "text/plain": [
       "10.0"
      ]
     },
     "execution_count": 14,
     "metadata": {},
     "output_type": "execute_result"
    }
   ],
   "source": [
    "float('10')"
   ]
  },
  {
   "cell_type": "code",
   "execution_count": 15,
   "id": "e0a8255c-4468-4ea8-ac1e-9b49c95c2835",
   "metadata": {},
   "outputs": [
    {
     "ename": "ValueError",
     "evalue": "could not convert string to float: 'ten'",
     "output_type": "error",
     "traceback": [
      "\u001b[1;31m---------------------------------------------------------------------------\u001b[0m",
      "\u001b[1;31mValueError\u001b[0m                                Traceback (most recent call last)",
      "Cell \u001b[1;32mIn[15], line 1\u001b[0m\n\u001b[1;32m----> 1\u001b[0m \u001b[38;5;28mfloat\u001b[39m(\u001b[38;5;124m'\u001b[39m\u001b[38;5;124mten\u001b[39m\u001b[38;5;124m'\u001b[39m)\n",
      "\u001b[1;31mValueError\u001b[0m: could not convert string to float: 'ten'"
     ]
    }
   ],
   "source": [
    "float('ten')"
   ]
  },
  {
   "cell_type": "markdown",
   "id": "4e0955cd-fbd7-4485-8d64-ab1deea38f1c",
   "metadata": {},
   "source": [
    "# String TypeCasting"
   ]
  },
  {
   "cell_type": "code",
   "execution_count": 16,
   "id": "4145c25c-7292-4cc4-8bd6-4a1137b6e36e",
   "metadata": {},
   "outputs": [
    {
     "data": {
      "text/plain": [
       "'8'"
      ]
     },
     "execution_count": 16,
     "metadata": {},
     "output_type": "execute_result"
    }
   ],
   "source": [
    "str(8)"
   ]
  },
  {
   "cell_type": "code",
   "execution_count": 17,
   "id": "bc5474a1-a189-4078-bcc0-5d0499613b3a",
   "metadata": {},
   "outputs": [
    {
     "data": {
      "text/plain": [
       "'8.8'"
      ]
     },
     "execution_count": 17,
     "metadata": {},
     "output_type": "execute_result"
    }
   ],
   "source": [
    "str(8.8)"
   ]
  },
  {
   "cell_type": "code",
   "execution_count": 18,
   "id": "82303645-27e2-40b2-a06a-a5ac7af49c39",
   "metadata": {},
   "outputs": [
    {
     "data": {
      "text/plain": [
       "'(1+2j)'"
      ]
     },
     "execution_count": 18,
     "metadata": {},
     "output_type": "execute_result"
    }
   ],
   "source": [
    "str(1+2j)"
   ]
  },
  {
   "cell_type": "code",
   "execution_count": 19,
   "id": "3b3364bc-1842-4efb-85f7-db3d2edc090a",
   "metadata": {},
   "outputs": [
    {
     "data": {
      "text/plain": [
       "'True'"
      ]
     },
     "execution_count": 19,
     "metadata": {},
     "output_type": "execute_result"
    }
   ],
   "source": [
    "str(True)"
   ]
  },
  {
   "cell_type": "code",
   "execution_count": 20,
   "id": "e201743b-cbf3-4cfe-9b77-7ca78b7299dc",
   "metadata": {},
   "outputs": [
    {
     "data": {
      "text/plain": [
       "'False'"
      ]
     },
     "execution_count": 20,
     "metadata": {},
     "output_type": "execute_result"
    }
   ],
   "source": [
    "str(False)"
   ]
  },
  {
   "cell_type": "markdown",
   "id": "5e6a157e-bf07-49c0-be2c-a160cb9f4e1b",
   "metadata": {},
   "source": [
    "# Bool TypeCasting"
   ]
  },
  {
   "cell_type": "code",
   "execution_count": 21,
   "id": "8b47ec63-7419-4f5b-af6b-0e0d7e964e6c",
   "metadata": {},
   "outputs": [
    {
     "data": {
      "text/plain": [
       "True"
      ]
     },
     "execution_count": 21,
     "metadata": {},
     "output_type": "execute_result"
    }
   ],
   "source": [
    "bool(10)"
   ]
  },
  {
   "cell_type": "code",
   "execution_count": 22,
   "id": "03ad6250-45d8-4ff3-848a-8dbbb39cfaf3",
   "metadata": {},
   "outputs": [
    {
     "data": {
      "text/plain": [
       "True"
      ]
     },
     "execution_count": 22,
     "metadata": {},
     "output_type": "execute_result"
    }
   ],
   "source": [
    "bool(10.0)"
   ]
  },
  {
   "cell_type": "code",
   "execution_count": 23,
   "id": "aa5dcab9-1b6d-4d8c-8abf-8270ddc8d9f5",
   "metadata": {},
   "outputs": [
    {
     "data": {
      "text/plain": [
       "True"
      ]
     },
     "execution_count": 23,
     "metadata": {},
     "output_type": "execute_result"
    }
   ],
   "source": [
    "bool('10')"
   ]
  },
  {
   "cell_type": "code",
   "execution_count": 24,
   "id": "539be94b-a771-40c2-8378-aad0a6d63482",
   "metadata": {},
   "outputs": [
    {
     "data": {
      "text/plain": [
       "True"
      ]
     },
     "execution_count": 24,
     "metadata": {},
     "output_type": "execute_result"
    }
   ],
   "source": [
    "bool('ten')"
   ]
  },
  {
   "cell_type": "code",
   "execution_count": 25,
   "id": "3a39cedf-5899-4c7c-8f61-1c185cea0ae1",
   "metadata": {},
   "outputs": [
    {
     "data": {
      "text/plain": [
       "True"
      ]
     },
     "execution_count": 25,
     "metadata": {},
     "output_type": "execute_result"
    }
   ],
   "source": [
    "bool(1+2j)"
   ]
  },
  {
   "cell_type": "code",
   "execution_count": 26,
   "id": "0a345caa-abc1-4cb9-b18c-6f71e8dd34ff",
   "metadata": {},
   "outputs": [
    {
     "data": {
      "text/plain": [
       "False"
      ]
     },
     "execution_count": 26,
     "metadata": {},
     "output_type": "execute_result"
    }
   ],
   "source": [
    "bool(0)"
   ]
  },
  {
   "cell_type": "markdown",
   "id": "7fb21d46-c34c-45e1-96fd-2c4af6c01f22",
   "metadata": {},
   "source": [
    "# Complex TypeCasting "
   ]
  },
  {
   "cell_type": "code",
   "execution_count": 27,
   "id": "5d32b534-d751-4c13-9118-9844e4240fdd",
   "metadata": {},
   "outputs": [
    {
     "data": {
      "text/plain": [
       "(10+0j)"
      ]
     },
     "execution_count": 27,
     "metadata": {},
     "output_type": "execute_result"
    }
   ],
   "source": [
    "complex(10)"
   ]
  },
  {
   "cell_type": "code",
   "execution_count": 28,
   "id": "1adbfc09-c305-4920-800a-0e20e316673b",
   "metadata": {},
   "outputs": [
    {
     "ename": "TypeError",
     "evalue": "complex() takes at most 2 arguments (3 given)",
     "output_type": "error",
     "traceback": [
      "\u001b[1;31m---------------------------------------------------------------------------\u001b[0m",
      "\u001b[1;31mTypeError\u001b[0m                                 Traceback (most recent call last)",
      "Cell \u001b[1;32mIn[28], line 1\u001b[0m\n\u001b[1;32m----> 1\u001b[0m \u001b[38;5;28mcomplex\u001b[39m(\u001b[38;5;241m10\u001b[39m,\u001b[38;5;241m20\u001b[39m,\u001b[38;5;241m30\u001b[39m)\n",
      "\u001b[1;31mTypeError\u001b[0m: complex() takes at most 2 arguments (3 given)"
     ]
    }
   ],
   "source": [
    "complex(10,20,30)"
   ]
  },
  {
   "cell_type": "code",
   "execution_count": 29,
   "id": "df94074a-562c-49f6-b02e-d1759d7b99a3",
   "metadata": {},
   "outputs": [
    {
     "data": {
      "text/plain": [
       "(10+20j)"
      ]
     },
     "execution_count": 29,
     "metadata": {},
     "output_type": "execute_result"
    }
   ],
   "source": [
    "complex(10,20)"
   ]
  },
  {
   "cell_type": "code",
   "execution_count": 30,
   "id": "bc85b59f-7367-4a45-9b9a-a47b5f472fe0",
   "metadata": {},
   "outputs": [
    {
     "data": {
      "text/plain": [
       "(10+0j)"
      ]
     },
     "execution_count": 30,
     "metadata": {},
     "output_type": "execute_result"
    }
   ],
   "source": [
    "complex(10.0)"
   ]
  },
  {
   "cell_type": "code",
   "execution_count": 31,
   "id": "57d5af46-2639-4727-832e-8d4c235229bc",
   "metadata": {},
   "outputs": [
    {
     "ename": "ValueError",
     "evalue": "complex() arg is a malformed string",
     "output_type": "error",
     "traceback": [
      "\u001b[1;31m---------------------------------------------------------------------------\u001b[0m",
      "\u001b[1;31mValueError\u001b[0m                                Traceback (most recent call last)",
      "Cell \u001b[1;32mIn[31], line 1\u001b[0m\n\u001b[1;32m----> 1\u001b[0m \u001b[38;5;28mcomplex\u001b[39m(\u001b[38;5;124m'\u001b[39m\u001b[38;5;124mten\u001b[39m\u001b[38;5;124m'\u001b[39m)\n",
      "\u001b[1;31mValueError\u001b[0m: complex() arg is a malformed string"
     ]
    }
   ],
   "source": [
    "complex('ten')"
   ]
  },
  {
   "cell_type": "code",
   "execution_count": 32,
   "id": "8b7ecbd3-b257-4c47-8a68-8ef169e3b7a5",
   "metadata": {},
   "outputs": [
    {
     "data": {
      "text/plain": [
       "(1+0j)"
      ]
     },
     "execution_count": 32,
     "metadata": {},
     "output_type": "execute_result"
    }
   ],
   "source": [
    "complex(True)"
   ]
  },
  {
   "cell_type": "code",
   "execution_count": 33,
   "id": "e965bbc3-0655-4cf4-b34b-8250ea09e3e3",
   "metadata": {},
   "outputs": [
    {
     "data": {
      "text/plain": [
       "(10.2+30.8j)"
      ]
     },
     "execution_count": 33,
     "metadata": {},
     "output_type": "execute_result"
    }
   ],
   "source": [
    "complex(10.20,30.8)"
   ]
  },
  {
   "cell_type": "code",
   "execution_count": 34,
   "id": "891ff563-94b4-4e58-a5af-2e8b7481c800",
   "metadata": {},
   "outputs": [
    {
     "data": {
      "text/plain": [
       "0j"
      ]
     },
     "execution_count": 34,
     "metadata": {},
     "output_type": "execute_result"
    }
   ],
   "source": [
    "complex(False)"
   ]
  },
  {
   "cell_type": "code",
   "execution_count": 35,
   "id": "fc88d503-d7d4-479d-a5e6-379e2108a528",
   "metadata": {},
   "outputs": [
    {
     "ename": "TypeError",
     "evalue": "complex() can't take second arg if first is a string",
     "output_type": "error",
     "traceback": [
      "\u001b[1;31m---------------------------------------------------------------------------\u001b[0m",
      "\u001b[1;31mTypeError\u001b[0m                                 Traceback (most recent call last)",
      "Cell \u001b[1;32mIn[35], line 1\u001b[0m\n\u001b[1;32m----> 1\u001b[0m \u001b[38;5;28mcomplex\u001b[39m(\u001b[38;5;124m'\u001b[39m\u001b[38;5;124m10\u001b[39m\u001b[38;5;124m'\u001b[39m, \u001b[38;5;124m'\u001b[39m\u001b[38;5;124m20\u001b[39m\u001b[38;5;124m'\u001b[39m)\n",
      "\u001b[1;31mTypeError\u001b[0m: complex() can't take second arg if first is a string"
     ]
    }
   ],
   "source": [
    "complex('10', '20')"
   ]
  },
  {
   "cell_type": "code",
   "execution_count": 36,
   "id": "bc1a4c7b-e467-490a-bd93-b4885acfe03b",
   "metadata": {},
   "outputs": [
    {
     "data": {
      "text/plain": [
       "(1+0j)"
      ]
     },
     "execution_count": 36,
     "metadata": {},
     "output_type": "execute_result"
    }
   ],
   "source": [
    "complex(True,False)"
   ]
  },
  {
   "cell_type": "code",
   "execution_count": 1,
   "id": "75e5cfa8-013d-4b85-917c-c85aafb2ba94",
   "metadata": {},
   "outputs": [
    {
     "ename": "NameError",
     "evalue": "name 'e0' is not defined",
     "output_type": "error",
     "traceback": [
      "\u001b[1;31m---------------------------------------------------------------------------\u001b[0m",
      "\u001b[1;31mNameError\u001b[0m                                 Traceback (most recent call last)",
      "Cell \u001b[1;32mIn[1], line 1\u001b[0m\n\u001b[1;32m----> 1\u001b[0m f \u001b[38;5;241m=\u001b[39m e0\n",
      "\u001b[1;31mNameError\u001b[0m: name 'e0' is not defined"
     ]
    }
   ],
   "source": [
    "f = e0"
   ]
  },
  {
   "cell_type": "code",
   "execution_count": 4,
   "id": "b056dcea-6053-48b1-bb2a-4ede63d8e1b4",
   "metadata": {},
   "outputs": [
    {
     "data": {
      "text/plain": [
       "1.0"
      ]
     },
     "execution_count": 4,
     "metadata": {},
     "output_type": "execute_result"
    }
   ],
   "source": [
    "f1 = 1e0\n",
    "f1"
   ]
  },
  {
   "cell_type": "code",
   "execution_count": 5,
   "id": "2686d803-d9d6-40ce-84f8-14bd0da41d06",
   "metadata": {},
   "outputs": [
    {
     "ename": "NameError",
     "evalue": "name 'e1' is not defined",
     "output_type": "error",
     "traceback": [
      "\u001b[1;31m---------------------------------------------------------------------------\u001b[0m",
      "\u001b[1;31mNameError\u001b[0m                                 Traceback (most recent call last)",
      "Cell \u001b[1;32mIn[5], line 1\u001b[0m\n\u001b[1;32m----> 1\u001b[0m f2 \u001b[38;5;241m=\u001b[39m e1\n\u001b[0;32m      2\u001b[0m f2\n",
      "\u001b[1;31mNameError\u001b[0m: name 'e1' is not defined"
     ]
    }
   ],
   "source": [
    "f2 = e1\n",
    "f2"
   ]
  },
  {
   "cell_type": "code",
   "execution_count": 6,
   "id": "9746ac1f-7e0a-4dfb-ab21-3c4d0636af38",
   "metadata": {},
   "outputs": [
    {
     "data": {
      "text/plain": [
       "240.0"
      ]
     },
     "execution_count": 6,
     "metadata": {},
     "output_type": "execute_result"
    }
   ],
   "source": [
    "f3 = 2.4e2\n",
    "f3"
   ]
  },
  {
   "cell_type": "code",
   "execution_count": 7,
   "id": "327c1409-9208-4fd1-89a9-80dd800c575d",
   "metadata": {},
   "outputs": [
    {
     "data": {
      "text/plain": [
       "34"
      ]
     },
     "execution_count": 7,
     "metadata": {},
     "output_type": "execute_result"
    }
   ],
   "source": [
    "i = 34\n",
    "i"
   ]
  },
  {
   "cell_type": "code",
   "execution_count": 8,
   "id": "9a5a6faa-7205-4e8b-b83b-dc68a7f5ed21",
   "metadata": {},
   "outputs": [
    {
     "data": {
      "text/plain": [
       "140716738787272"
      ]
     },
     "execution_count": 8,
     "metadata": {},
     "output_type": "execute_result"
    }
   ],
   "source": [
    "id(i)"
   ]
  },
  {
   "cell_type": "code",
   "execution_count": 9,
   "id": "0c5e156e-b867-4974-a25d-222ba32ba519",
   "metadata": {},
   "outputs": [],
   "source": [
    "p = 20 \n",
    "q = 20\n",
    "r = 20"
   ]
  },
  {
   "cell_type": "code",
   "execution_count": 10,
   "id": "067b724c-73d0-445b-b578-10af6f2980ff",
   "metadata": {},
   "outputs": [
    {
     "data": {
      "text/plain": [
       "140716738786824"
      ]
     },
     "execution_count": 10,
     "metadata": {},
     "output_type": "execute_result"
    }
   ],
   "source": [
    "id(p)"
   ]
  },
  {
   "cell_type": "code",
   "execution_count": 11,
   "id": "68779289-47a8-4062-a8ce-e52b374dec92",
   "metadata": {},
   "outputs": [
    {
     "data": {
      "text/plain": [
       "140716738786824"
      ]
     },
     "execution_count": 11,
     "metadata": {},
     "output_type": "execute_result"
    }
   ],
   "source": [
    "id(q)"
   ]
  },
  {
   "cell_type": "code",
   "execution_count": 12,
   "id": "289db4a3-77e0-4f29-ad72-b9893abaa2eb",
   "metadata": {},
   "outputs": [
    {
     "data": {
      "text/plain": [
       "140716738786824"
      ]
     },
     "execution_count": 12,
     "metadata": {},
     "output_type": "execute_result"
    }
   ],
   "source": [
    "id(r)"
   ]
  },
  {
   "cell_type": "code",
   "execution_count": 13,
   "id": "0e96501e-97eb-4048-8fa8-dafd9459c3bb",
   "metadata": {},
   "outputs": [],
   "source": [
    "r = 30"
   ]
  },
  {
   "cell_type": "code",
   "execution_count": 14,
   "id": "d5fb6ceb-e171-4c35-ad49-da7c42f4b567",
   "metadata": {},
   "outputs": [
    {
     "data": {
      "text/plain": [
       "140716738787144"
      ]
     },
     "execution_count": 14,
     "metadata": {},
     "output_type": "execute_result"
    }
   ],
   "source": [
    "id(r)"
   ]
  },
  {
   "cell_type": "markdown",
   "id": "3d181e9e-de3d-41b9-a706-948fb7932046",
   "metadata": {},
   "source": [
    "# String Indexing\n",
    "## forward indexing\n",
    "## backwoed indexing\n",
    "## step indexing"
   ]
  },
  {
   "cell_type": "code",
   "execution_count": 15,
   "id": "48d536ee-daea-49b6-873b-80485e444d1d",
   "metadata": {},
   "outputs": [
    {
     "data": {
      "text/plain": [
       "'hello'"
      ]
     },
     "execution_count": 15,
     "metadata": {},
     "output_type": "execute_result"
    }
   ],
   "source": [
    "str = 'hello'\n",
    "str"
   ]
  },
  {
   "cell_type": "code",
   "execution_count": 16,
   "id": "6f4cbb9c-de47-495f-94cc-95040b7f5a36",
   "metadata": {},
   "outputs": [
    {
     "data": {
      "text/plain": [
       "'h'"
      ]
     },
     "execution_count": 16,
     "metadata": {},
     "output_type": "execute_result"
    }
   ],
   "source": [
    "str[0]"
   ]
  },
  {
   "cell_type": "code",
   "execution_count": 18,
   "id": "785f34ad-b166-4ca6-9cbf-6bce8cc9c744",
   "metadata": {},
   "outputs": [
    {
     "name": "stdout",
     "output_type": "stream",
     "text": [
      "h\n",
      "e\n",
      "l\n",
      "l\n",
      "o\n"
     ]
    }
   ],
   "source": [
    "print(str[0])\n",
    "print(str[1])\n",
    "print(str[2])\n",
    "print(str[3])\n",
    "print(str[4])"
   ]
  },
  {
   "cell_type": "code",
   "execution_count": 19,
   "id": "3bf02e59-b22e-40b0-b372-2cc9c78ea8c9",
   "metadata": {},
   "outputs": [
    {
     "name": "stdout",
     "output_type": "stream",
     "text": [
      "o\n"
     ]
    }
   ],
   "source": [
    "print(str[-1])"
   ]
  },
  {
   "cell_type": "code",
   "execution_count": 20,
   "id": "8b98827d-5ab1-4e24-b6d9-5299b179c80e",
   "metadata": {},
   "outputs": [
    {
     "name": "stdout",
     "output_type": "stream",
     "text": [
      "o\n",
      "l\n",
      "l\n",
      "e\n",
      "h\n"
     ]
    }
   ],
   "source": [
    "print(str[-1])\n",
    "print(str[-2])\n",
    "print(str[-3])\n",
    "print(str[-4])\n",
    "print(str[-5])"
   ]
  },
  {
   "cell_type": "code",
   "execution_count": 21,
   "id": "274135fb-268f-49c3-b73f-0f02855fdf10",
   "metadata": {},
   "outputs": [
    {
     "data": {
      "text/plain": [
       "5"
      ]
     },
     "execution_count": 21,
     "metadata": {},
     "output_type": "execute_result"
    }
   ],
   "source": [
    "len(str)"
   ]
  },
  {
   "cell_type": "markdown",
   "id": "5f97129f-c89e-460b-ad3f-572eb8ef700f",
   "metadata": {},
   "source": [
    "# String Slicing -->\n",
    "### forword \n",
    "### backward\n",
    "### step"
   ]
  },
  {
   "cell_type": "code",
   "execution_count": 22,
   "id": "c54139e6-ca60-4330-8d69-ad8eaaf65a4f",
   "metadata": {},
   "outputs": [
    {
     "data": {
      "text/plain": [
       "'hello'"
      ]
     },
     "execution_count": 22,
     "metadata": {},
     "output_type": "execute_result"
    }
   ],
   "source": [
    "str"
   ]
  },
  {
   "cell_type": "code",
   "execution_count": 23,
   "id": "17f64a0c-de43-42a2-915c-49b9b37272de",
   "metadata": {},
   "outputs": [
    {
     "data": {
      "text/plain": [
       "'hel'"
      ]
     },
     "execution_count": 23,
     "metadata": {},
     "output_type": "execute_result"
    }
   ],
   "source": [
    "str[0:3]"
   ]
  },
  {
   "cell_type": "code",
   "execution_count": 24,
   "id": "05a3474c-ff62-44b6-a666-41e09d6778c5",
   "metadata": {},
   "outputs": [
    {
     "data": {
      "text/plain": [
       "'llo'"
      ]
     },
     "execution_count": 24,
     "metadata": {},
     "output_type": "execute_result"
    }
   ],
   "source": [
    "str[2:5]"
   ]
  },
  {
   "cell_type": "code",
   "execution_count": 26,
   "id": "226a9328-7a7e-4b3a-a371-20eb615f50d5",
   "metadata": {},
   "outputs": [
    {
     "data": {
      "text/plain": [
       "'hellopython'"
      ]
     },
     "execution_count": 26,
     "metadata": {},
     "output_type": "execute_result"
    }
   ],
   "source": [
    "s = 'hellopython'\n",
    "s"
   ]
  },
  {
   "cell_type": "code",
   "execution_count": 27,
   "id": "80cd6181-3e40-46e4-912e-3540bac299da",
   "metadata": {},
   "outputs": [
    {
     "data": {
      "text/plain": [
       "'hlyo'"
      ]
     },
     "execution_count": 27,
     "metadata": {},
     "output_type": "execute_result"
    }
   ],
   "source": [
    "s[0:10:3]"
   ]
  },
  {
   "cell_type": "code",
   "execution_count": 28,
   "id": "6183969e-d474-4161-a9cc-ef6e8a329703",
   "metadata": {},
   "outputs": [
    {
     "data": {
      "text/plain": [
       "'elpt'"
      ]
     },
     "execution_count": 28,
     "metadata": {},
     "output_type": "execute_result"
    }
   ],
   "source": [
    "s[1:8:2]"
   ]
  },
  {
   "cell_type": "code",
   "execution_count": 29,
   "id": "8f89f7cb-cff0-4e89-9826-f27e1632cb33",
   "metadata": {},
   "outputs": [
    {
     "data": {
      "text/plain": [
       "'hellopython'"
      ]
     },
     "execution_count": 29,
     "metadata": {},
     "output_type": "execute_result"
    }
   ],
   "source": [
    "s"
   ]
  },
  {
   "cell_type": "code",
   "execution_count": 30,
   "id": "1e98121f-b5cd-4c8e-a0b0-22042dddec99",
   "metadata": {},
   "outputs": [
    {
     "data": {
      "text/plain": [
       "'hloyhn'"
      ]
     },
     "execution_count": 30,
     "metadata": {},
     "output_type": "execute_result"
    }
   ],
   "source": [
    "s[::2]"
   ]
  },
  {
   "cell_type": "code",
   "execution_count": 31,
   "id": "c23306e5-86c7-4368-b5b8-b0aaa2052907",
   "metadata": {},
   "outputs": [
    {
     "data": {
      "text/plain": [
       "'hlyo'"
      ]
     },
     "execution_count": 31,
     "metadata": {},
     "output_type": "execute_result"
    }
   ],
   "source": [
    "s[::3]"
   ]
  },
  {
   "cell_type": "code",
   "execution_count": 32,
   "id": "271e6b0c-d562-4296-870a-cc6f234bf5b9",
   "metadata": {},
   "outputs": [
    {
     "name": "stdout",
     "output_type": "stream",
     "text": [
      "hellopython\n"
     ]
    }
   ],
   "source": [
    "s1 = 'hello'\n",
    "s2 = 'python'\n",
    "print(s1+s2)"
   ]
  },
  {
   "cell_type": "code",
   "execution_count": null,
   "id": "8b24037c-335b-4449-9bda-b78cb2e5a2b9",
   "metadata": {},
   "outputs": [],
   "source": []
  }
 ],
 "metadata": {
  "kernelspec": {
   "display_name": "Python [conda env:base] *",
   "language": "python",
   "name": "conda-base-py"
  },
  "language_info": {
   "codemirror_mode": {
    "name": "ipython",
    "version": 3
   },
   "file_extension": ".py",
   "mimetype": "text/x-python",
   "name": "python",
   "nbconvert_exporter": "python",
   "pygments_lexer": "ipython3",
   "version": "3.13.5"
  }
 },
 "nbformat": 4,
 "nbformat_minor": 5
}
