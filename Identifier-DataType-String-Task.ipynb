{
 "cells": [
  {
   "cell_type": "markdown",
   "id": "f6cd6c99-9146-4e78-ad7e-8c87b059317a",
   "metadata": {},
   "source": [
    "## Practice on Identifiers, DataType & String Slicing "
   ]
  },
  {
   "cell_type": "code",
   "execution_count": 1,
   "id": "0d1cb088-7c1d-48b9-bae8-21d30eebbdf5",
   "metadata": {},
   "outputs": [],
   "source": [
    "import sys\n",
    "import os\n",
    "import operator\n",
    "import keyword\n",
    "from datetime import datetime"
   ]
  },
  {
   "cell_type": "code",
   "execution_count": 2,
   "id": "2b894e62-d9f3-4b3e-b447-0bcea7a14e23",
   "metadata": {},
   "outputs": [
    {
     "name": "stdout",
     "output_type": "stream",
     "text": [
      "['False', 'None', 'True', 'and', 'as', 'assert', 'async', 'await', 'break', 'class', 'continue', 'def', 'del', 'elif', 'else', 'except', 'finally', 'for', 'from', 'global', 'if', 'import', 'in', 'is', 'lambda', 'nonlocal', 'not', 'or', 'pass', 'raise', 'return', 'try', 'while', 'with', 'yield']\n"
     ]
    }
   ],
   "source": [
    "print(keyword.kwlist)"
   ]
  },
  {
   "cell_type": "code",
   "execution_count": 3,
   "id": "22014cba-d686-4178-99cc-1d7cfe5f732d",
   "metadata": {},
   "outputs": [
    {
     "data": {
      "text/plain": [
       "35"
      ]
     },
     "execution_count": 3,
     "metadata": {},
     "output_type": "execute_result"
    }
   ],
   "source": [
    "len(keyword.kwlist)"
   ]
  },
  {
   "cell_type": "markdown",
   "id": "5d983d51-500d-4ef0-955b-71a706204069",
   "metadata": {},
   "source": [
    "### Identifiers"
   ]
  },
  {
   "cell_type": "code",
   "execution_count": 11,
   "id": "575eaf7c-74a1-4d10-873f-7c8472a760c9",
   "metadata": {},
   "outputs": [
    {
     "data": {
      "text/plain": [
       "10"
      ]
     },
     "execution_count": 11,
     "metadata": {},
     "output_type": "execute_result"
    }
   ],
   "source": [
    "var = 10  #valid identifier\n",
    "var"
   ]
  },
  {
   "cell_type": "code",
   "execution_count": 9,
   "id": "51e49843-aaaa-4b0e-ac24-8496630d1b1f",
   "metadata": {},
   "outputs": [],
   "source": [
    "var_ = 20  # valid"
   ]
  },
  {
   "cell_type": "code",
   "execution_count": 10,
   "id": "1b7cfdda-e667-495d-a298-bbde395492fe",
   "metadata": {},
   "outputs": [],
   "source": [
    "_var = 30  # valid"
   ]
  },
  {
   "cell_type": "code",
   "execution_count": 8,
   "id": "bc1b1799-fdf1-4940-bb4e-d62c8ea885c9",
   "metadata": {},
   "outputs": [],
   "source": [
    "var1 = 40  # valid"
   ]
  },
  {
   "cell_type": "code",
   "execution_count": 13,
   "id": "ff66c54b-091b-45b9-b947-168c6a67cbaf",
   "metadata": {},
   "outputs": [
    {
     "ename": "SyntaxError",
     "evalue": "invalid syntax (3612235409.py, line 1)",
     "output_type": "error",
     "traceback": [
      "\u001b[1;36m  Cell \u001b[1;32mIn[13], line 1\u001b[1;36m\u001b[0m\n\u001b[1;33m    var@ = 10  # invalid -- special symbol is used except underscore(_)\u001b[0m\n\u001b[1;37m         ^\u001b[0m\n\u001b[1;31mSyntaxError\u001b[0m\u001b[1;31m:\u001b[0m invalid syntax\n"
     ]
    }
   ],
   "source": [
    "var@ = 10  # invalid -- special symbol is used except underscore(_)"
   ]
  },
  {
   "cell_type": "code",
   "execution_count": 14,
   "id": "a4ffcf9d-32ae-44e9-a582-66d7aba58c29",
   "metadata": {},
   "outputs": [
    {
     "ename": "SyntaxError",
     "evalue": "invalid decimal literal (819004552.py, line 1)",
     "output_type": "error",
     "traceback": [
      "\u001b[1;36m  Cell \u001b[1;32mIn[14], line 1\u001b[1;36m\u001b[0m\n\u001b[1;33m    1var = 10  # invalid -- start with digit\u001b[0m\n\u001b[1;37m    ^\u001b[0m\n\u001b[1;31mSyntaxError\u001b[0m\u001b[1;31m:\u001b[0m invalid decimal literal\n"
     ]
    }
   ],
   "source": [
    "1var = 10  # invalid -- start with digit\n",
    "my-var = 20 #invalid -- Hyphen is not allowed\n",
    "def = 'defination'  # invalid -- keywoed or reserve words mot allowed"
   ]
  },
  {
   "cell_type": "code",
   "execution_count": 15,
   "id": "e4a87ad9-9f87-457e-8acf-cb0bf06dc0a3",
   "metadata": {},
   "outputs": [],
   "source": [
    "p = 10\n",
    "q = 10\n",
    "r = q "
   ]
  },
  {
   "cell_type": "code",
   "execution_count": 18,
   "id": "90a15b61-ce2a-45d1-be31-8d78fc56540c",
   "metadata": {},
   "outputs": [
    {
     "data": {
      "text/plain": [
       "(10, int, '0x7ffb3cd3b4c8')"
      ]
     },
     "execution_count": 18,
     "metadata": {},
     "output_type": "execute_result"
    }
   ],
   "source": [
    "p, type(p), hex(id(p))"
   ]
  },
  {
   "cell_type": "code",
   "execution_count": 19,
   "id": "3c8f2e3f-cb52-4355-9db6-8cdfbf7719f3",
   "metadata": {},
   "outputs": [
    {
     "data": {
      "text/plain": [
       "(10, int, '0x7ffb3cd3b4c8')"
      ]
     },
     "execution_count": 19,
     "metadata": {},
     "output_type": "execute_result"
    }
   ],
   "source": [
    "q, type(q), hex(id(q))"
   ]
  },
  {
   "cell_type": "code",
   "execution_count": 20,
   "id": "cb09a86f-615d-49dd-b61a-b75c2731c59f",
   "metadata": {},
   "outputs": [
    {
     "data": {
      "text/plain": [
       "(10, int, '0x7ffb3cd3b4c8')"
      ]
     },
     "execution_count": 20,
     "metadata": {},
     "output_type": "execute_result"
    }
   ],
   "source": [
    "r, type(r), hex(id(r))"
   ]
  },
  {
   "cell_type": "code",
   "execution_count": 21,
   "id": "80c23e29-e3e7-4cbf-9749-6e2dde97748c",
   "metadata": {},
   "outputs": [
    {
     "data": {
      "text/plain": [
       "20"
      ]
     },
     "execution_count": 21,
     "metadata": {},
     "output_type": "execute_result"
    }
   ],
   "source": [
    "p = 10\n",
    "p = p + 10\n",
    "p"
   ]
  },
  {
   "cell_type": "markdown",
   "id": "1c32827f-0627-44f0-b30e-edceae12fb2a",
   "metadata": {},
   "source": [
    "### variable assignment "
   ]
  },
  {
   "cell_type": "code",
   "execution_count": 22,
   "id": "97cab6c3-fd98-4dad-9cb7-d4d35eee965b",
   "metadata": {},
   "outputs": [
    {
     "name": "stdout",
     "output_type": "stream",
     "text": [
      "1\n",
      "2.9\n",
      "this is string\n"
     ]
    }
   ],
   "source": [
    "int_var = 1\n",
    "float_var = 2.9\n",
    "str_var = 'this is string'\n",
    "\n",
    "print(int_var)\n",
    "print(float_var)\n",
    "print(str_var)"
   ]
  },
  {
   "cell_type": "code",
   "execution_count": 23,
   "id": "4f991bca-c5c0-4168-b2e0-282616fd2b63",
   "metadata": {},
   "outputs": [
    {
     "name": "stdout",
     "output_type": "stream",
     "text": [
      "1 2.9 this is string\n"
     ]
    }
   ],
   "source": [
    "int_var, float_var, str_var = 1 , 2.9, 'this is string' \n",
    "print(int_var, float_var, str_var)"
   ]
  },
  {
   "cell_type": "markdown",
   "id": "86e2edf1-5ed9-4367-a2b4-89041087e5b1",
   "metadata": {},
   "source": [
    "### DataType"
   ]
  },
  {
   "cell_type": "code",
   "execution_count": 26,
   "id": "ad0c1d09-b452-41fd-805e-aa4f26e11198",
   "metadata": {},
   "outputs": [
    {
     "name": "stdout",
     "output_type": "stream",
     "text": [
      "178\n",
      "<class 'int'>\n",
      "28\n",
      "178 is integer? True\n"
     ]
    }
   ],
   "source": [
    "shoes_price = 178\n",
    "print(shoes_price)\n",
    "print(type(shoes_price))\n",
    "print(sys.getsizeof(shoes_price))\n",
    "print(shoes_price, 'is integer?', isinstance(shoes_price, int))"
   ]
  },
  {
   "cell_type": "code",
   "execution_count": 33,
   "id": "fdfe8d68-9154-46ff-8c1c-b8da314e6408",
   "metadata": {},
   "outputs": [
    {
     "name": "stdout",
     "output_type": "stream",
     "text": [
      "98.49\n",
      "<class 'float'>\n",
      "24\n",
      "98.49 is integer? True\n"
     ]
    }
   ],
   "source": [
    "petrol_price = 98.49\n",
    "print(petrol_price)\n",
    "print(type(petrol_price))\n",
    "print(sys.getsizeof(petrol_price))\n",
    "print(petrol_price, 'is integer?', isinstance(petrol_price, float))"
   ]
  },
  {
   "cell_type": "code",
   "execution_count": 35,
   "id": "d4a2e06f-4c8d-449e-b43e-f1d27f4e8a9d",
   "metadata": {},
   "outputs": [
    {
     "name": "stdout",
     "output_type": "stream",
     "text": [
      "<class 'complex'>\n",
      "32\n",
      "(1+2j) is integer? True\n"
     ]
    }
   ],
   "source": [
    "Complex = 1 +2j\n",
    "print(type(Complex))\n",
    "print(sys.getsizeof(Complex))\n",
    "print(Complex, 'is integer?', isinstance(Complex, complex))"
   ]
  },
  {
   "cell_type": "code",
   "execution_count": 39,
   "id": "0a79493b-4d72-448b-a8a1-47824893db5a",
   "metadata": {},
   "outputs": [
    {
     "data": {
      "text/plain": [
       "28"
      ]
     },
     "execution_count": 39,
     "metadata": {},
     "output_type": "execute_result"
    }
   ],
   "source": [
    "sys.getsizeof(int())"
   ]
  },
  {
   "cell_type": "code",
   "execution_count": 37,
   "id": "81d68bf8-ffa2-40de-8b83-65f24aee6214",
   "metadata": {},
   "outputs": [
    {
     "data": {
      "text/plain": [
       "24"
      ]
     },
     "execution_count": 37,
     "metadata": {},
     "output_type": "execute_result"
    }
   ],
   "source": [
    "sys.getsizeof(float())"
   ]
  },
  {
   "cell_type": "code",
   "execution_count": 40,
   "id": "34c804a8-497b-49a2-94f1-2c6c3f8f80f4",
   "metadata": {},
   "outputs": [
    {
     "data": {
      "text/plain": [
       "32"
      ]
     },
     "execution_count": 40,
     "metadata": {},
     "output_type": "execute_result"
    }
   ],
   "source": [
    "sys.getsizeof(complex())"
   ]
  },
  {
   "cell_type": "markdown",
   "id": "35ec96af-6414-4667-b509-46d728716aea",
   "metadata": {},
   "source": [
    "### Boolean"
   ]
  },
  {
   "cell_type": "code",
   "execution_count": 41,
   "id": "ffae4b7a-a0ac-4394-a817-0106ee221ec8",
   "metadata": {},
   "outputs": [],
   "source": [
    "isTrue = True\n",
    "isFalse = False"
   ]
  },
  {
   "cell_type": "code",
   "execution_count": 42,
   "id": "9c9a55cb-8598-4720-8764-bc20df8694d8",
   "metadata": {},
   "outputs": [
    {
     "name": "stdout",
     "output_type": "stream",
     "text": [
      "<class 'bool'>\n",
      "<class 'bool'>\n"
     ]
    }
   ],
   "source": [
    "print(type(isTrue))\n",
    "print(type(isFalse))"
   ]
  },
  {
   "cell_type": "code",
   "execution_count": 43,
   "id": "9813aae6-dbcd-4f2d-a44e-c8e30dae5eea",
   "metadata": {},
   "outputs": [
    {
     "data": {
      "text/plain": [
       "False"
      ]
     },
     "execution_count": 43,
     "metadata": {},
     "output_type": "execute_result"
    }
   ],
   "source": [
    "bool(0)"
   ]
  },
  {
   "cell_type": "code",
   "execution_count": 44,
   "id": "3a3e965d-b009-4576-ba23-9d040d3624d2",
   "metadata": {},
   "outputs": [
    {
     "data": {
      "text/plain": [
       "True"
      ]
     },
     "execution_count": 44,
     "metadata": {},
     "output_type": "execute_result"
    }
   ],
   "source": [
    "bool(1)"
   ]
  },
  {
   "cell_type": "code",
   "execution_count": 45,
   "id": "52d35a39-5c97-4902-b630-9452bc60f33d",
   "metadata": {},
   "outputs": [
    {
     "name": "stdout",
     "output_type": "stream",
     "text": [
      "True\n"
     ]
    }
   ],
   "source": [
    "print(isinstance(isTrue,bool))"
   ]
  },
  {
   "cell_type": "code",
   "execution_count": 47,
   "id": "25778bd8-fa0a-405d-956c-016709a69f9d",
   "metadata": {},
   "outputs": [
    {
     "name": "stdout",
     "output_type": "stream",
     "text": [
      "True\n"
     ]
    }
   ],
   "source": [
    "print(isinstance(isFalse,bool))"
   ]
  },
  {
   "cell_type": "code",
   "execution_count": 48,
   "id": "5510b2a0-51b2-4950-b802-22adb66755a3",
   "metadata": {},
   "outputs": [
    {
     "data": {
      "text/plain": [
       "False"
      ]
     },
     "execution_count": 48,
     "metadata": {},
     "output_type": "execute_result"
    }
   ],
   "source": [
    "bool(False)"
   ]
  },
  {
   "cell_type": "code",
   "execution_count": 49,
   "id": "d1e62781-2dc6-4bde-b236-0696a83f6b93",
   "metadata": {},
   "outputs": [
    {
     "data": {
      "text/plain": [
       "True"
      ]
     },
     "execution_count": 49,
     "metadata": {},
     "output_type": "execute_result"
    }
   ],
   "source": [
    "bool(True)"
   ]
  },
  {
   "cell_type": "markdown",
   "id": "e0cc5f17-15ec-401f-822a-e68235ad9d92",
   "metadata": {},
   "source": [
    "### String Creation"
   ]
  },
  {
   "cell_type": "code",
   "execution_count": 50,
   "id": "a6621c51-675c-4591-838e-18a9fd84f7f6",
   "metadata": {},
   "outputs": [],
   "source": [
    "str1 = \"hello python\" \n",
    "str2 = 'hey,'\n",
    "str3 = \"\"\"HELLO\n",
    "               WORLD\"\"\"\n",
    "str4 = '''Hello\n",
    "               World'''"
   ]
  },
  {
   "cell_type": "code",
   "execution_count": 51,
   "id": "d82c39e7-0e4d-4445-a301-fe492b274fc0",
   "metadata": {},
   "outputs": [
    {
     "name": "stdout",
     "output_type": "stream",
     "text": [
      "hello python\n",
      "hey,\n",
      "HELLO\n",
      "               WORLD\n",
      "Hello\n",
      "               World\n"
     ]
    }
   ],
   "source": [
    "print(str1)\n",
    "print(str2)\n",
    "print(str3)\n",
    "print(str4)"
   ]
  },
  {
   "cell_type": "code",
   "execution_count": 53,
   "id": "994399db-2f0a-4860-af5a-7848960f0904",
   "metadata": {},
   "outputs": [
    {
     "name": "stdout",
     "output_type": "stream",
     "text": [
      "sunday monday tuesday\n"
     ]
    }
   ],
   "source": [
    "str5 = ('sunday '\n",
    "       'monday '\n",
    "       'tuesday')\n",
    "print(str5)"
   ]
  },
  {
   "cell_type": "code",
   "execution_count": 54,
   "id": "aeb99bfe-a8f6-4183-b0e8-131e93f94be6",
   "metadata": {},
   "outputs": [],
   "source": [
    "my_str = 'Hmm'\n",
    "my_str = my_str*2 + ' okay'"
   ]
  },
  {
   "cell_type": "code",
   "execution_count": 55,
   "id": "b0871c7a-4e8f-4ddf-a983-8b138e1be02f",
   "metadata": {},
   "outputs": [
    {
     "name": "stdout",
     "output_type": "stream",
     "text": [
      "HmmHmm okay\n"
     ]
    }
   ],
   "source": [
    "print(my_str)"
   ]
  },
  {
   "cell_type": "code",
   "execution_count": 56,
   "id": "e97e5446-b614-4425-b564-c20bd498cc89",
   "metadata": {},
   "outputs": [
    {
     "data": {
      "text/plain": [
       "11"
      ]
     },
     "execution_count": 56,
     "metadata": {},
     "output_type": "execute_result"
    }
   ],
   "source": [
    "len(my_str)"
   ]
  },
  {
   "cell_type": "markdown",
   "id": "850cecb1-5b7a-4884-abec-ba38131dfdb1",
   "metadata": {},
   "source": [
    "### String Indexing"
   ]
  },
  {
   "cell_type": "code",
   "execution_count": 57,
   "id": "fcbf41b2-1798-4259-9ec6-c7687fa492f1",
   "metadata": {},
   "outputs": [
    {
     "data": {
      "text/plain": [
       "'HELLO PYTHON'"
      ]
     },
     "execution_count": 57,
     "metadata": {},
     "output_type": "execute_result"
    }
   ],
   "source": [
    "str = \"HELLO PYTHON\"\n",
    "str"
   ]
  },
  {
   "cell_type": "code",
   "execution_count": 58,
   "id": "27a1b344-9114-4035-9c27-7e76f0bd4fc4",
   "metadata": {},
   "outputs": [
    {
     "data": {
      "text/plain": [
       "'H'"
      ]
     },
     "execution_count": 58,
     "metadata": {},
     "output_type": "execute_result"
    }
   ],
   "source": [
    "str[0]"
   ]
  },
  {
   "cell_type": "code",
   "execution_count": 61,
   "id": "9f87a6e6-428b-4495-9d08-9127cd055807",
   "metadata": {},
   "outputs": [
    {
     "data": {
      "text/plain": [
       "'E'"
      ]
     },
     "execution_count": 61,
     "metadata": {},
     "output_type": "execute_result"
    }
   ],
   "source": [
    "str[1]"
   ]
  },
  {
   "cell_type": "code",
   "execution_count": 62,
   "id": "49c9f925-7945-44ca-9232-05ac74ce0e03",
   "metadata": {},
   "outputs": [
    {
     "data": {
      "text/plain": [
       "'N'"
      ]
     },
     "execution_count": 62,
     "metadata": {},
     "output_type": "execute_result"
    }
   ],
   "source": [
    "str[len(str)-1]  # last elememt using len() "
   ]
  },
  {
   "cell_type": "code",
   "execution_count": 63,
   "id": "266691bc-11ba-4e5d-a34d-1879a1aff714",
   "metadata": {},
   "outputs": [
    {
     "data": {
      "text/plain": [
       "'N'"
      ]
     },
     "execution_count": 63,
     "metadata": {},
     "output_type": "execute_result"
    }
   ],
   "source": [
    "str[-1]"
   ]
  },
  {
   "cell_type": "code",
   "execution_count": 64,
   "id": "45141fb4-2019-42d2-b3b6-93e8c115963b",
   "metadata": {},
   "outputs": [
    {
     "data": {
      "text/plain": [
       "' '"
      ]
     },
     "execution_count": 64,
     "metadata": {},
     "output_type": "execute_result"
    }
   ],
   "source": [
    "str[5]"
   ]
  },
  {
   "cell_type": "markdown",
   "id": "64401b97-4295-4503-b649-51acba1bdeb3",
   "metadata": {},
   "source": [
    "### string slicing"
   ]
  },
  {
   "cell_type": "code",
   "execution_count": 66,
   "id": "38999a67-b635-4328-a780-c96f33adb5f9",
   "metadata": {},
   "outputs": [
    {
     "data": {
      "text/plain": [
       "'HELLO PYTHON'"
      ]
     },
     "execution_count": 66,
     "metadata": {},
     "output_type": "execute_result"
    }
   ],
   "source": [
    "str"
   ]
  },
  {
   "cell_type": "code",
   "execution_count": 67,
   "id": "5df23fd2-df60-4e30-b381-936bcba5e669",
   "metadata": {},
   "outputs": [
    {
     "data": {
      "text/plain": [
       "'HELLO PYTHON'"
      ]
     },
     "execution_count": 67,
     "metadata": {},
     "output_type": "execute_result"
    }
   ],
   "source": [
    "str[:]"
   ]
  },
  {
   "cell_type": "code",
   "execution_count": 68,
   "id": "e45fca0b-34e6-4ae2-9b24-533a6fd83782",
   "metadata": {},
   "outputs": [
    {
     "data": {
      "text/plain": [
       "'HE'"
      ]
     },
     "execution_count": 68,
     "metadata": {},
     "output_type": "execute_result"
    }
   ],
   "source": [
    "str[0:2]"
   ]
  },
  {
   "cell_type": "code",
   "execution_count": 69,
   "id": "cb4b0524-f0bd-47c5-bbf8-3a712659e055",
   "metadata": {},
   "outputs": [
    {
     "data": {
      "text/plain": [
       "'HELL'"
      ]
     },
     "execution_count": 69,
     "metadata": {},
     "output_type": "execute_result"
    }
   ],
   "source": [
    "str[0:4]"
   ]
  },
  {
   "cell_type": "code",
   "execution_count": 70,
   "id": "f317517b-a21f-4ea9-b7d1-f79d2faa9a35",
   "metadata": {},
   "outputs": [
    {
     "data": {
      "text/plain": [
       "'HELLO PYTHON'"
      ]
     },
     "execution_count": 70,
     "metadata": {},
     "output_type": "execute_result"
    }
   ],
   "source": [
    "str[:2] + str[2:]"
   ]
  },
  {
   "cell_type": "code",
   "execution_count": 71,
   "id": "3e8cc5ed-6ec7-40ba-a1d2-098c6f75b154",
   "metadata": {},
   "outputs": [
    {
     "data": {
      "text/plain": [
       "'EL Y'"
      ]
     },
     "execution_count": 71,
     "metadata": {},
     "output_type": "execute_result"
    }
   ],
   "source": [
    "str[1:9:2]"
   ]
  },
  {
   "cell_type": "code",
   "execution_count": 72,
   "id": "74f8a32e-f2ad-4e31-93c6-a392b6ce0f3c",
   "metadata": {},
   "outputs": [
    {
     "data": {
      "text/plain": [
       "'L TN'"
      ]
     },
     "execution_count": 72,
     "metadata": {},
     "output_type": "execute_result"
    }
   ],
   "source": [
    "str[2:12:3]"
   ]
  },
  {
   "cell_type": "code",
   "execution_count": 73,
   "id": "3cb247f0-308d-4e12-8411-1cb0a4770eb3",
   "metadata": {},
   "outputs": [
    {
     "data": {
      "text/plain": [
       "'PYTHON'"
      ]
     },
     "execution_count": 73,
     "metadata": {},
     "output_type": "execute_result"
    }
   ],
   "source": [
    "str[-6:]"
   ]
  },
  {
   "cell_type": "code",
   "execution_count": 74,
   "id": "e72b6608-f321-438c-99e8-f16ffc4c8e44",
   "metadata": {},
   "outputs": [
    {
     "data": {
      "text/plain": [
       "'HELLO '"
      ]
     },
     "execution_count": 74,
     "metadata": {},
     "output_type": "execute_result"
    }
   ],
   "source": [
    "str[:-6]"
   ]
  },
  {
   "cell_type": "markdown",
   "id": "9fb4a131-6540-453f-85b7-4595e2536f57",
   "metadata": {},
   "source": [
    "### update & delete "
   ]
  },
  {
   "cell_type": "code",
   "execution_count": 75,
   "id": "4251d6b9-242b-4d77-bfb4-f28d178d22ca",
   "metadata": {},
   "outputs": [
    {
     "data": {
      "text/plain": [
       "'HELLO PYTHON'"
      ]
     },
     "execution_count": 75,
     "metadata": {},
     "output_type": "execute_result"
    }
   ],
   "source": [
    "str"
   ]
  },
  {
   "cell_type": "code",
   "execution_count": 76,
   "id": "f133417f-1f2f-4455-9e81-65d76aac5801",
   "metadata": {},
   "outputs": [
    {
     "ename": "TypeError",
     "evalue": "'str' object does not support item assignment",
     "output_type": "error",
     "traceback": [
      "\u001b[1;31m---------------------------------------------------------------------------\u001b[0m",
      "\u001b[1;31mTypeError\u001b[0m                                 Traceback (most recent call last)",
      "Cell \u001b[1;32mIn[76], line 1\u001b[0m\n\u001b[1;32m----> 1\u001b[0m \u001b[38;5;28mstr\u001b[39m[\u001b[38;5;241m0\u001b[39m:\u001b[38;5;241m5\u001b[39m] \u001b[38;5;241m=\u001b[39m \u001b[38;5;124m'\u001b[39m\u001b[38;5;124mHLW\u001b[39m\u001b[38;5;124m'\u001b[39m\n",
      "\u001b[1;31mTypeError\u001b[0m: 'str' object does not support item assignment"
     ]
    }
   ],
   "source": [
    "str[0:5] = 'HLW'  #String dataType cann't change means immutable "
   ]
  },
  {
   "cell_type": "code",
   "execution_count": 82,
   "id": "cc29385d-df69-4298-80b2-758c7fedae41",
   "metadata": {},
   "outputs": [
    {
     "data": {
      "text/plain": [
       "'Hi..Python'"
      ]
     },
     "execution_count": 82,
     "metadata": {},
     "output_type": "execute_result"
    }
   ],
   "source": [
    "s = 'Hello Python'  #create a new string\n",
    "'Hi..' + s[6:]"
   ]
  },
  {
   "cell_type": "code",
   "execution_count": 77,
   "id": "f49db5fa-cac0-417e-9b7f-6726738807a3",
   "metadata": {},
   "outputs": [
    {
     "name": "stdout",
     "output_type": "stream",
     "text": [
      "<class 'str'>\n"
     ]
    }
   ],
   "source": [
    "del str\n",
    "print(str)"
   ]
  },
  {
   "cell_type": "code",
   "execution_count": 78,
   "id": "7ad77d05-d91c-4e9b-b1c7-02aa8a8e50a3",
   "metadata": {},
   "outputs": [
    {
     "data": {
      "text/plain": [
       "str"
      ]
     },
     "execution_count": 78,
     "metadata": {},
     "output_type": "execute_result"
    }
   ],
   "source": [
    "str"
   ]
  },
  {
   "cell_type": "code",
   "execution_count": 79,
   "id": "b87986f0-e3d1-47d2-8cb4-3466c8bf0b3a",
   "metadata": {},
   "outputs": [
    {
     "name": "stdout",
     "output_type": "stream",
     "text": [
      "helloPython\n",
      "hello Python\n"
     ]
    }
   ],
   "source": [
    "str1 = 'hello'\n",
    "str2 = 'Python'\n",
    "print(str1+str2)\n",
    "print(str1+' '+str2)"
   ]
  }
 ],
 "metadata": {
  "kernelspec": {
   "display_name": "Python 3 (ipykernel)",
   "language": "python",
   "name": "python3"
  },
  "language_info": {
   "codemirror_mode": {
    "name": "ipython",
    "version": 3
   },
   "file_extension": ".py",
   "mimetype": "text/x-python",
   "name": "python",
   "nbconvert_exporter": "python",
   "pygments_lexer": "ipython3",
   "version": "3.13.5"
  }
 },
 "nbformat": 4,
 "nbformat_minor": 5
}
