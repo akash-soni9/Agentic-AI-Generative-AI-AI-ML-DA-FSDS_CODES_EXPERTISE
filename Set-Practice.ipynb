{
 "cells": [
  {
   "cell_type": "markdown",
   "id": "a91a3745-784b-4800-8d86-0b8bdf6fa2ec",
   "metadata": {},
   "source": [
    "# SET {} : \n",
    "## A set is a collection of unique and unordered items.\n",
    "\n",
    "- Unique → Duplicate values are automatically removed.\n",
    "- Unordered → Items don’t have a fixed position or index.\n",
    "- Mutable → You can add or remove elements.\n",
    "- Unindexed → You can’t access items by index like set[0]"
   ]
  },
  {
   "cell_type": "markdown",
   "id": "87602216-cf83-481f-ba32-1ab59c178bd3",
   "metadata": {},
   "source": [
    "## SET CREATION :"
   ]
  },
  {
   "cell_type": "code",
   "execution_count": 2,
   "id": "3c0034c9-6660-4a9e-90e8-16eaea4c5ee6",
   "metadata": {},
   "outputs": [
    {
     "data": {
      "text/plain": [
       "{}"
      ]
     },
     "execution_count": 2,
     "metadata": {},
     "output_type": "execute_result"
    }
   ],
   "source": [
    "s = {} # this is not a set, by default dictionary\n",
    "s"
   ]
  },
  {
   "cell_type": "code",
   "execution_count": 3,
   "id": "2827ef25-58b1-4d07-8a8f-0ea8a8ff4b46",
   "metadata": {},
   "outputs": [
    {
     "data": {
      "text/plain": [
       "dict"
      ]
     },
     "execution_count": 3,
     "metadata": {},
     "output_type": "execute_result"
    }
   ],
   "source": [
    "type(s)"
   ]
  },
  {
   "cell_type": "code",
   "execution_count": 7,
   "id": "70670bf0-393d-48f9-8e0a-aae7eb0ef39f",
   "metadata": {},
   "outputs": [],
   "source": [
    "s = set([1,2,3,4,5]) # we can create a set by set() function \n",
    "s1 = {3,4,5,6,7,8} #or we can create set with {} but we have to add atleast one element"
   ]
  },
  {
   "cell_type": "code",
   "execution_count": 8,
   "id": "f40137c2-732a-41e9-b783-43895b635d7e",
   "metadata": {},
   "outputs": [
    {
     "name": "stdout",
     "output_type": "stream",
     "text": [
      "{1, 2, 3, 4, 5} <class 'set'>\n",
      "{3, 4, 5, 6, 7, 8} <class 'set'>\n"
     ]
    }
   ],
   "source": [
    "print(s, type(s))\n",
    "print(s1,type(s1))"
   ]
  },
  {
   "cell_type": "markdown",
   "id": "b67a580c-2234-4cb6-9d06-95509bdc20d9",
   "metadata": {},
   "source": [
    "## SET METHODS :"
   ]
  },
  {
   "cell_type": "code",
   "execution_count": 12,
   "id": "79296c03-cba8-4c79-8b09-706002f8d336",
   "metadata": {},
   "outputs": [],
   "source": [
    "s = {1, 2, 'jan', 1+2j, True, 20.4, 2, 'jan'}"
   ]
  },
  {
   "cell_type": "code",
   "execution_count": 13,
   "id": "3f9e0d7f-a9b2-4bb8-b54d-6f9912c7d159",
   "metadata": {},
   "outputs": [
    {
     "data": {
      "text/plain": [
       "{(1+2j), 1, 2, 20.4, 'jan'}"
      ]
     },
     "execution_count": 13,
     "metadata": {},
     "output_type": "execute_result"
    }
   ],
   "source": [
    "s"
   ]
  },
  {
   "cell_type": "code",
   "execution_count": 16,
   "id": "25bf69b8-3971-4c0a-a466-912165792b37",
   "metadata": {},
   "outputs": [],
   "source": [
    "s.add('nit') # add() is insert or add new element into set in ramdom"
   ]
  },
  {
   "cell_type": "code",
   "execution_count": 17,
   "id": "7d6d2da2-944d-43c8-9da0-ab3f88cc04e3",
   "metadata": {},
   "outputs": [
    {
     "data": {
      "text/plain": [
       "{(1+2j), 1, 2, 20.4, 'jan', 'nit'}"
      ]
     },
     "execution_count": 17,
     "metadata": {},
     "output_type": "execute_result"
    }
   ],
   "source": [
    "s"
   ]
  },
  {
   "cell_type": "code",
   "execution_count": 18,
   "id": "437a5d03-f896-44c6-ba9e-a6ed11525bf2",
   "metadata": {},
   "outputs": [],
   "source": [
    "s.add(30)"
   ]
  },
  {
   "cell_type": "code",
   "execution_count": 19,
   "id": "de75ba62-0c95-4379-94ee-94fcad1b2326",
   "metadata": {},
   "outputs": [
    {
     "data": {
      "text/plain": [
       "{(1+2j), 1, 2, 20.4, 30, 'jan', 'nit'}"
      ]
     },
     "execution_count": 19,
     "metadata": {},
     "output_type": "execute_result"
    }
   ],
   "source": [
    "s"
   ]
  },
  {
   "cell_type": "code",
   "execution_count": 21,
   "id": "db2f0ea2-547f-4955-bf24-72b8f83efebd",
   "metadata": {},
   "outputs": [],
   "source": [
    "s1 = s.copy() #it copy from existing set, "
   ]
  },
  {
   "cell_type": "code",
   "execution_count": 22,
   "id": "502b234a-2679-4d5e-aac7-c934e2514959",
   "metadata": {},
   "outputs": [
    {
     "data": {
      "text/plain": [
       "{(1+2j), 1, 2, 20.4, 30, 'jan', 'nit'}"
      ]
     },
     "execution_count": 22,
     "metadata": {},
     "output_type": "execute_result"
    }
   ],
   "source": [
    "s1"
   ]
  },
  {
   "cell_type": "code",
   "execution_count": 23,
   "id": "2d384579-3835-431b-b04a-75003e7b625c",
   "metadata": {},
   "outputs": [],
   "source": [
    "s1.clear() #it removes all elements and make empty set,it doesn't take parameter\n",
    "           # it doesn't return anything means None"
   ]
  },
  {
   "cell_type": "code",
   "execution_count": 24,
   "id": "06388959-fde9-458e-a41b-459319c9ee09",
   "metadata": {},
   "outputs": [
    {
     "data": {
      "text/plain": [
       "set()"
      ]
     },
     "execution_count": 24,
     "metadata": {},
     "output_type": "execute_result"
    }
   ],
   "source": [
    "s1"
   ]
  },
  {
   "cell_type": "code",
   "execution_count": 25,
   "id": "9852c547-6598-4298-a0d6-5fd5d77bf5ed",
   "metadata": {},
   "outputs": [
    {
     "name": "stdout",
     "output_type": "stream",
     "text": [
      "{1, 2, 20.4, (1+2j), 'jan', 'nit', 30}\n"
     ]
    }
   ],
   "source": [
    "print(s)"
   ]
  },
  {
   "cell_type": "code",
   "execution_count": 26,
   "id": "af51ebbe-b543-457c-8cd8-6dfc89225016",
   "metadata": {},
   "outputs": [],
   "source": [
    "s.discard(30) #It removes a specific element from a set if it exists.\n",
    "            #If the element is not present, it doesn't give error."
   ]
  },
  {
   "cell_type": "code",
   "execution_count": 27,
   "id": "f610a326-a3f8-4807-a6aa-dda5048b9a35",
   "metadata": {},
   "outputs": [
    {
     "data": {
      "text/plain": [
       "{(1+2j), 1, 2, 20.4, 'jan', 'nit'}"
      ]
     },
     "execution_count": 27,
     "metadata": {},
     "output_type": "execute_result"
    }
   ],
   "source": [
    "s"
   ]
  },
  {
   "cell_type": "code",
   "execution_count": 28,
   "id": "868d5f0e-2127-4a52-81cf-df8de6150a1d",
   "metadata": {},
   "outputs": [],
   "source": [
    "s.discard(100)"
   ]
  },
  {
   "cell_type": "code",
   "execution_count": 29,
   "id": "2fbbc69c-56d6-4caa-9a8b-c374850c3c06",
   "metadata": {},
   "outputs": [
    {
     "data": {
      "text/plain": [
       "{(1+2j), 1, 2, 20.4, 'jan', 'nit'}"
      ]
     },
     "execution_count": 29,
     "metadata": {},
     "output_type": "execute_result"
    }
   ],
   "source": [
    "s"
   ]
  },
  {
   "cell_type": "code",
   "execution_count": 31,
   "id": "84741f8e-f7eb-4b87-a01c-c73fdb3dfe38",
   "metadata": {},
   "outputs": [],
   "source": [
    "s.remove('jan') # It removes a specific element from a set.\n",
    "           #But if the element is not present, it raises a KeyError."
   ]
  },
  {
   "cell_type": "code",
   "execution_count": 32,
   "id": "a8f64fd9-b1e0-41ce-9819-87280e33c7f0",
   "metadata": {},
   "outputs": [
    {
     "data": {
      "text/plain": [
       "{(1+2j), 1, 2, 20.4, 'nit'}"
      ]
     },
     "execution_count": 32,
     "metadata": {},
     "output_type": "execute_result"
    }
   ],
   "source": [
    "s"
   ]
  },
  {
   "cell_type": "code",
   "execution_count": 33,
   "id": "74ec2d69-f223-45da-a4e3-5c4ce6acbec4",
   "metadata": {},
   "outputs": [
    {
     "ename": "KeyError",
     "evalue": "5",
     "output_type": "error",
     "traceback": [
      "\u001b[1;31m---------------------------------------------------------------------------\u001b[0m",
      "\u001b[1;31mKeyError\u001b[0m                                  Traceback (most recent call last)",
      "Cell \u001b[1;32mIn[33], line 1\u001b[0m\n\u001b[1;32m----> 1\u001b[0m s\u001b[38;5;241m.\u001b[39mremove(\u001b[38;5;241m5\u001b[39m)\n",
      "\u001b[1;31mKeyError\u001b[0m: 5"
     ]
    }
   ],
   "source": [
    "s.remove(5) # element 5 is not present in the set, so it raises a KeyError: 5"
   ]
  },
  {
   "cell_type": "code",
   "execution_count": 37,
   "id": "425c8157-480c-455d-a414-7ac3a5402359",
   "metadata": {},
   "outputs": [
    {
     "data": {
      "text/plain": [
       "2"
      ]
     },
     "execution_count": 37,
     "metadata": {},
     "output_type": "execute_result"
    }
   ],
   "source": [
    "s.pop() #It removes random element and returns that element from a set.\n",
    "         # it doesn't take any argument"
   ]
  },
  {
   "cell_type": "code",
   "execution_count": 38,
   "id": "ac317808-f35e-43b5-890e-f6b57142f199",
   "metadata": {},
   "outputs": [
    {
     "data": {
      "text/plain": [
       "{(1+2j), 20.4, 'nit'}"
      ]
     },
     "execution_count": 38,
     "metadata": {},
     "output_type": "execute_result"
    }
   ],
   "source": [
    "s"
   ]
  },
  {
   "cell_type": "code",
   "execution_count": 39,
   "id": "a05a7acf-6198-4a4d-9f31-84bdae6962dc",
   "metadata": {},
   "outputs": [
    {
     "data": {
      "text/plain": [
       "20.4"
      ]
     },
     "execution_count": 39,
     "metadata": {},
     "output_type": "execute_result"
    }
   ],
   "source": [
    "s.pop()"
   ]
  },
  {
   "cell_type": "code",
   "execution_count": 40,
   "id": "61ef62d4-f907-4794-9435-60d6c9abefb3",
   "metadata": {},
   "outputs": [
    {
     "data": {
      "text/plain": [
       "{(1+2j), 'nit'}"
      ]
     },
     "execution_count": 40,
     "metadata": {},
     "output_type": "execute_result"
    }
   ],
   "source": [
    "s"
   ]
  },
  {
   "cell_type": "code",
   "execution_count": 42,
   "id": "8acac0ff-a640-49ea-a8b0-492629b8c914",
   "metadata": {},
   "outputs": [],
   "source": [
    "s1 = {'a','b','c'}"
   ]
  },
  {
   "cell_type": "code",
   "execution_count": 43,
   "id": "e9253952-99d4-490a-84fc-4b261fe03de5",
   "metadata": {},
   "outputs": [
    {
     "data": {
      "text/plain": [
       "{'a', 'b', 'c'}"
      ]
     },
     "execution_count": 43,
     "metadata": {},
     "output_type": "execute_result"
    }
   ],
   "source": [
    "s1"
   ]
  },
  {
   "cell_type": "code",
   "execution_count": 44,
   "id": "44938293-3741-4f3b-b66e-8f44265a7db5",
   "metadata": {},
   "outputs": [],
   "source": [
    "s.update(s1) # It adds all elements from another iterable (like a list, tuple, or another set) \n",
    "             #into the current set."
   ]
  },
  {
   "cell_type": "code",
   "execution_count": 45,
   "id": "3575c7d1-f497-4612-8e16-31dd0388783c",
   "metadata": {},
   "outputs": [
    {
     "data": {
      "text/plain": [
       "{(1+2j), 'a', 'b', 'c', 'nit'}"
      ]
     },
     "execution_count": 45,
     "metadata": {},
     "output_type": "execute_result"
    }
   ],
   "source": [
    "s"
   ]
  },
  {
   "cell_type": "code",
   "execution_count": 46,
   "id": "f96553c7-7a26-4a37-ac0b-be74e75e0d65",
   "metadata": {},
   "outputs": [
    {
     "data": {
      "text/plain": [
       "[1, 2, 3, 4]"
      ]
     },
     "execution_count": 46,
     "metadata": {},
     "output_type": "execute_result"
    }
   ],
   "source": [
    "l = [1, 2, 3, 4]\n",
    "l"
   ]
  },
  {
   "cell_type": "code",
   "execution_count": 47,
   "id": "c4ab3809-dd68-4871-acd5-dfce24365a92",
   "metadata": {},
   "outputs": [],
   "source": [
    "s.update(l)"
   ]
  },
  {
   "cell_type": "code",
   "execution_count": 48,
   "id": "930ee60b-adfd-4e6b-b38d-163812808d50",
   "metadata": {},
   "outputs": [
    {
     "data": {
      "text/plain": [
       "{(1+2j), 1, 2, 3, 4, 'a', 'b', 'c', 'nit'}"
      ]
     },
     "execution_count": 48,
     "metadata": {},
     "output_type": "execute_result"
    }
   ],
   "source": [
    "s"
   ]
  },
  {
   "cell_type": "code",
   "execution_count": 49,
   "id": "9d5eb987-cf09-480d-bace-23d08355cb28",
   "metadata": {},
   "outputs": [],
   "source": [
    "s.update(['10'])"
   ]
  },
  {
   "cell_type": "code",
   "execution_count": 50,
   "id": "c9d4cd9d-f8ca-4669-a3d6-c60f339a4f84",
   "metadata": {},
   "outputs": [
    {
     "data": {
      "text/plain": [
       "{(1+2j), 1, '10', 2, 3, 4, 'a', 'b', 'c', 'nit'}"
      ]
     },
     "execution_count": 50,
     "metadata": {},
     "output_type": "execute_result"
    }
   ],
   "source": [
    "s"
   ]
  },
  {
   "cell_type": "markdown",
   "id": "a614b8d3-7cbe-4f1e-8c49-c4f932339123",
   "metadata": {},
   "source": [
    "# SET OPERATIONS :\n",
    " "
   ]
  },
  {
   "cell_type": "markdown",
   "id": "5949c01f-0515-470c-800a-18f894b33964",
   "metadata": {},
   "source": [
    "## UNION ( |, .union()) :\n",
    " Combines all uniques elements from both sets"
   ]
  },
  {
   "cell_type": "code",
   "execution_count": 51,
   "id": "1ff69e1d-2fde-48fb-abf5-8d5aee1c26e3",
   "metadata": {},
   "outputs": [],
   "source": [
    "a = {1,2,3,4,5}\n",
    "b = {4,5,6,7,8}"
   ]
  },
  {
   "cell_type": "code",
   "execution_count": 52,
   "id": "5fed79ae-616a-4e1b-818f-547121e4713e",
   "metadata": {},
   "outputs": [
    {
     "name": "stdout",
     "output_type": "stream",
     "text": [
      "{1, 2, 3, 4, 5}\n",
      "{4, 5, 6, 7, 8}\n"
     ]
    }
   ],
   "source": [
    "print(a)\n",
    "print(b)"
   ]
  },
  {
   "cell_type": "code",
   "execution_count": 54,
   "id": "dd64bff0-a16b-4f9d-afdc-df831551694b",
   "metadata": {},
   "outputs": [
    {
     "name": "stdout",
     "output_type": "stream",
     "text": [
      "{1, 2, 3, 4, 5, 6, 7, 8}\n",
      "{1, 2, 3, 4, 5, 6, 7, 8}\n"
     ]
    }
   ],
   "source": [
    "print(a.union(b))\n",
    "print(a|b)"
   ]
  },
  {
   "cell_type": "code",
   "execution_count": 55,
   "id": "9a6d33f9-fffa-4f13-9f60-9d8a62ec4492",
   "metadata": {},
   "outputs": [
    {
     "name": "stdout",
     "output_type": "stream",
     "text": [
      "{1, 2, 3, 4, 5, 6, 7, 8}\n",
      "{1, 2, 3, 4, 5, 6, 7, 8}\n"
     ]
    }
   ],
   "source": [
    "print(b.union(a))\n",
    "print(b|a)"
   ]
  },
  {
   "cell_type": "markdown",
   "id": "72f919e9-1d85-4c93-8a8f-4f98b3e59c5e",
   "metadata": {},
   "source": [
    "## INTERSECTION (&, .intersection()) :\n",
    " It gives common element from both sets"
   ]
  },
  {
   "cell_type": "code",
   "execution_count": 56,
   "id": "2d20544b-968c-4c03-8472-36f611d89e5a",
   "metadata": {},
   "outputs": [
    {
     "name": "stdout",
     "output_type": "stream",
     "text": [
      "{1, 2, 3, 4, 5}\n",
      "{4, 5, 6, 7, 8}\n"
     ]
    }
   ],
   "source": [
    "print(a)\n",
    "print(b)"
   ]
  },
  {
   "cell_type": "code",
   "execution_count": 57,
   "id": "f3e80716-b29d-4f43-983f-c67e2ab65f5b",
   "metadata": {},
   "outputs": [
    {
     "data": {
      "text/plain": [
       "{4, 5}"
      ]
     },
     "execution_count": 57,
     "metadata": {},
     "output_type": "execute_result"
    }
   ],
   "source": [
    "a.intersection(b)"
   ]
  },
  {
   "cell_type": "code",
   "execution_count": 58,
   "id": "36284c31-cdc0-4284-a28b-93d6e4c64c1c",
   "metadata": {},
   "outputs": [
    {
     "data": {
      "text/plain": [
       "{4, 5}"
      ]
     },
     "execution_count": 58,
     "metadata": {},
     "output_type": "execute_result"
    }
   ],
   "source": [
    "a & b"
   ]
  },
  {
   "cell_type": "code",
   "execution_count": 59,
   "id": "f5935a37-b66c-427b-aaa4-3c570439f589",
   "metadata": {},
   "outputs": [
    {
     "data": {
      "text/plain": [
       "{7, 8, 9}"
      ]
     },
     "execution_count": 59,
     "metadata": {},
     "output_type": "execute_result"
    }
   ],
   "source": [
    "c = {7,8,9}\n",
    "c"
   ]
  },
  {
   "cell_type": "code",
   "execution_count": 60,
   "id": "be9f65c1-df6d-41b7-9484-262a3a311f66",
   "metadata": {},
   "outputs": [
    {
     "data": {
      "text/plain": [
       "{4, 5}"
      ]
     },
     "execution_count": 60,
     "metadata": {},
     "output_type": "execute_result"
    }
   ],
   "source": [
    "b.intersection(a)"
   ]
  },
  {
   "cell_type": "code",
   "execution_count": 61,
   "id": "f9991434-c93c-4ab3-9568-00f1fad0c011",
   "metadata": {},
   "outputs": [
    {
     "data": {
      "text/plain": [
       "set()"
      ]
     },
     "execution_count": 61,
     "metadata": {},
     "output_type": "execute_result"
    }
   ],
   "source": [
    "a.intersection(c)"
   ]
  },
  {
   "cell_type": "code",
   "execution_count": 62,
   "id": "89040dd2-5bf5-4777-84cb-201a2ea86f67",
   "metadata": {},
   "outputs": [
    {
     "data": {
      "text/plain": [
       "{7, 8}"
      ]
     },
     "execution_count": 62,
     "metadata": {},
     "output_type": "execute_result"
    }
   ],
   "source": [
    "b.intersection(c)"
   ]
  },
  {
   "cell_type": "markdown",
   "id": "aeb0b590-6265-417c-a9bc-53b4d057cc15",
   "metadata": {},
   "source": [
    "## DIFFERENCE (- , .difference()) :\n",
    " Finds elements that are in the 1st set but not in the 2nd set"
   ]
  },
  {
   "cell_type": "code",
   "execution_count": 64,
   "id": "cc5a7adf-e30f-4a9e-8c6d-30c65099d045",
   "metadata": {},
   "outputs": [
    {
     "name": "stdout",
     "output_type": "stream",
     "text": [
      "{1, 2, 3, 4, 5}\n",
      "{4, 5, 6, 7, 8}\n",
      "{8, 9, 7}\n"
     ]
    }
   ],
   "source": [
    "print(a)\n",
    "print(b)\n",
    "print(c)"
   ]
  },
  {
   "cell_type": "code",
   "execution_count": 65,
   "id": "166c4dc1-4b58-4217-a2d9-54096a5ab709",
   "metadata": {},
   "outputs": [
    {
     "name": "stdout",
     "output_type": "stream",
     "text": [
      "{1, 2, 3}\n",
      "{1, 2, 3}\n",
      "{8, 6, 7}\n",
      "{8, 6, 7}\n"
     ]
    }
   ],
   "source": [
    "print(a.difference(b))\n",
    "print(a - b)\n",
    "print(b.difference(a))\n",
    "print(b - a)"
   ]
  },
  {
   "cell_type": "code",
   "execution_count": 66,
   "id": "1b9210e9-85d6-4330-ac33-5f961714311d",
   "metadata": {},
   "outputs": [
    {
     "data": {
      "text/plain": [
       "{1, 2, 3, 4, 5}"
      ]
     },
     "execution_count": 66,
     "metadata": {},
     "output_type": "execute_result"
    }
   ],
   "source": [
    "a.difference(c)"
   ]
  },
  {
   "cell_type": "markdown",
   "id": "e506ca5a-79a5-4708-b23f-f4f856ba51e7",
   "metadata": {},
   "source": [
    "## SYMMETRIC DIFFERENCE (^ , .symmetric_difference()) :\n",
    "- Formula : a ^ b = (a - b) U (b - a)\n",
    "- It returns a set that contains all items from both set, but not the items that are present in both sets.\n",
    "- Meaning: The returned set contains a mix of items that are not present in both sets.\n",
    "  "
   ]
  },
  {
   "cell_type": "code",
   "execution_count": 67,
   "id": "cb56d740-dfa4-484c-ba42-8313d358e4c0",
   "metadata": {},
   "outputs": [
    {
     "name": "stdout",
     "output_type": "stream",
     "text": [
      "{1, 2, 3, 4, 5}\n",
      "{4, 5, 6, 7, 8}\n",
      "{8, 9, 7}\n"
     ]
    }
   ],
   "source": [
    "print(a)\n",
    "print(b)\n",
    "print(c)"
   ]
  },
  {
   "cell_type": "code",
   "execution_count": 68,
   "id": "669632b6-9353-4a10-87e8-0db0832ce457",
   "metadata": {},
   "outputs": [
    {
     "data": {
      "text/plain": [
       "{1, 2, 3, 6, 7, 8}"
      ]
     },
     "execution_count": 68,
     "metadata": {},
     "output_type": "execute_result"
    }
   ],
   "source": [
    "a.symmetric_difference(b)"
   ]
  },
  {
   "cell_type": "code",
   "execution_count": 69,
   "id": "a5f2531d-023d-4790-835b-19aa7ac62ac7",
   "metadata": {},
   "outputs": [
    {
     "data": {
      "text/plain": [
       "{1, 2, 3, 6, 7, 8}"
      ]
     },
     "execution_count": 69,
     "metadata": {},
     "output_type": "execute_result"
    }
   ],
   "source": [
    "b.symmetric_difference(a)"
   ]
  },
  {
   "cell_type": "code",
   "execution_count": 70,
   "id": "238a9361-cde9-4fbd-8eaa-eaa0d558768e",
   "metadata": {},
   "outputs": [
    {
     "data": {
      "text/plain": [
       "{1, 2, 3, 4, 5, 7, 8, 9}"
      ]
     },
     "execution_count": 70,
     "metadata": {},
     "output_type": "execute_result"
    }
   ],
   "source": [
    "a ^ c"
   ]
  },
  {
   "cell_type": "code",
   "execution_count": 71,
   "id": "615c9589-2ba6-4440-9208-f668f57c776c",
   "metadata": {},
   "outputs": [
    {
     "data": {
      "text/plain": [
       "{4, 5, 6, 9}"
      ]
     },
     "execution_count": 71,
     "metadata": {},
     "output_type": "execute_result"
    }
   ],
   "source": [
    "b ^ c"
   ]
  },
  {
   "cell_type": "code",
   "execution_count": 72,
   "id": "3062c342-32f5-493b-b631-d7bde983e70c",
   "metadata": {},
   "outputs": [
    {
     "data": {
      "text/plain": [
       "{4, 5, 6, 9}"
      ]
     },
     "execution_count": 72,
     "metadata": {},
     "output_type": "execute_result"
    }
   ],
   "source": [
    "b.symmetric_difference(c)"
   ]
  },
  {
   "cell_type": "markdown",
   "id": "8b05d4e6-e6c6-4ccc-bdc8-2c7a1acc41b0",
   "metadata": {},
   "source": [
    "## SYMMETRIC DIFFERENCE UPDATE(^=, .symmetric_difference_update()) :\n",
    "\n",
    "- it is very similar to symmetric_difference(), but it updates the original set instead of creating a new one\n",
    "- This method keeps only the elements that are unique to both sets\n",
    "- and removes the common ones \n",
    "- but instead of returning a new set, it changes the original set."
   ]
  },
  {
   "cell_type": "code",
   "execution_count": 73,
   "id": "5523d867-c17a-4a2e-bd89-30d37646be67",
   "metadata": {},
   "outputs": [],
   "source": [
    "x = {1,2,3,4,5}\n",
    "y = {4,5,6,7,8}\n",
    "z = {8,9,10}"
   ]
  },
  {
   "cell_type": "code",
   "execution_count": 74,
   "id": "59a928c0-a9cc-4bb8-ab57-0b901a9ec5bc",
   "metadata": {},
   "outputs": [
    {
     "name": "stdout",
     "output_type": "stream",
     "text": [
      "{1, 2, 3, 4, 5}\n",
      "{4, 5, 6, 7, 8}\n",
      "{8, 9, 10}\n"
     ]
    }
   ],
   "source": [
    "print(x)\n",
    "print(y)\n",
    "print(z)"
   ]
  },
  {
   "cell_type": "code",
   "execution_count": 75,
   "id": "449e0bcb-b44b-4fa9-a5a4-e6532e81e152",
   "metadata": {},
   "outputs": [],
   "source": [
    "x.symmetric_difference_update(y)"
   ]
  },
  {
   "cell_type": "code",
   "execution_count": 76,
   "id": "9de40f07-03b8-4a53-b99f-9dd353f74a6b",
   "metadata": {},
   "outputs": [
    {
     "name": "stdout",
     "output_type": "stream",
     "text": [
      "{1, 2, 3, 6, 7, 8}\n"
     ]
    }
   ],
   "source": [
    "print(x)"
   ]
  },
  {
   "cell_type": "code",
   "execution_count": 77,
   "id": "3c41b7d7-e679-4c45-9ede-411d560987e8",
   "metadata": {},
   "outputs": [],
   "source": [
    "x1 = {\"apple\", \"banana\", \"cherry\"}\n",
    "y1 = {\"google\", \"microsoft\", \"apple\"}"
   ]
  },
  {
   "cell_type": "code",
   "execution_count": 78,
   "id": "19888ea4-c106-400f-90df-6199b0580758",
   "metadata": {},
   "outputs": [],
   "source": [
    "x1 ^= y1"
   ]
  },
  {
   "cell_type": "code",
   "execution_count": 79,
   "id": "83798d0b-1ea4-455f-80a2-9f410c88e81c",
   "metadata": {},
   "outputs": [
    {
     "name": "stdout",
     "output_type": "stream",
     "text": [
      "{'cherry', 'microsoft', 'banana', 'google'}\n"
     ]
    }
   ],
   "source": [
    "print(x1)"
   ]
  },
  {
   "cell_type": "markdown",
   "id": "ea90ae13-6880-42fa-8916-8c96c30925ea",
   "metadata": {},
   "source": [
    "## INTERSECTION UPDATE(&=, intersecte_update()) :\n",
    "\n",
    "### The intersection_update() finds the intersection of different sets and updates it to the set that calls the method.\n",
    "- finds common element set1 and set2\n",
    "- and it update it into original set\n",
    "### NOTE :\n",
    "  - intersection() -> gives you common elements in a new set\n",
    "  - intersection_update() -> keeps only common elements in the original set\n"
   ]
  },
  {
   "cell_type": "code",
   "execution_count": 81,
   "id": "815e23d9-0034-4d92-9ecd-a6e7b8687b6c",
   "metadata": {},
   "outputs": [],
   "source": [
    "p = {1,2,3,4}\n",
    "q = {3,4,5,6,7}"
   ]
  },
  {
   "cell_type": "code",
   "execution_count": 82,
   "id": "4e86faad-d173-4e50-bbcf-994f33ea19bc",
   "metadata": {},
   "outputs": [],
   "source": [
    "p.intersection_update(q)"
   ]
  },
  {
   "cell_type": "code",
   "execution_count": 83,
   "id": "c2e39c14-00d0-4693-970d-f1b8ba86bfa1",
   "metadata": {},
   "outputs": [
    {
     "data": {
      "text/plain": [
       "{3, 4}"
      ]
     },
     "execution_count": 83,
     "metadata": {},
     "output_type": "execute_result"
    }
   ],
   "source": [
    "p"
   ]
  },
  {
   "cell_type": "markdown",
   "id": "959d0da7-a1d5-4f8a-9f6e-9caf83988cf4",
   "metadata": {},
   "source": [
    "## LOOP THROUGH SET :"
   ]
  },
  {
   "cell_type": "code",
   "execution_count": 84,
   "id": "091c02ba-360e-4f91-8cd1-95c45902f477",
   "metadata": {},
   "outputs": [],
   "source": [
    "myset = {'one', 'two', 'three', 'four', 'five', 'six', 'seven', 'eight'} "
   ]
  },
  {
   "cell_type": "code",
   "execution_count": 85,
   "id": "9415be01-baf8-408e-863f-26dcc21135f1",
   "metadata": {},
   "outputs": [
    {
     "data": {
      "text/plain": [
       "{'eight', 'five', 'four', 'one', 'seven', 'six', 'three', 'two'}"
      ]
     },
     "execution_count": 85,
     "metadata": {},
     "output_type": "execute_result"
    }
   ],
   "source": [
    "myset"
   ]
  },
  {
   "cell_type": "code",
   "execution_count": 86,
   "id": "2aef4ded-d615-44e0-89a8-ddf9b8d211ff",
   "metadata": {},
   "outputs": [
    {
     "name": "stdout",
     "output_type": "stream",
     "text": [
      "two\n",
      "eight\n",
      "one\n",
      "four\n",
      "five\n",
      "seven\n",
      "six\n",
      "three\n"
     ]
    }
   ],
   "source": [
    "for i in myset: \n",
    "    print(i)"
   ]
  },
  {
   "cell_type": "code",
   "execution_count": 87,
   "id": "0a4c1078-0b86-4dfa-af4b-f09a22fb6108",
   "metadata": {},
   "outputs": [
    {
     "name": "stdout",
     "output_type": "stream",
     "text": [
      "(0, 'two')\n",
      "(1, 'eight')\n",
      "(2, 'one')\n",
      "(3, 'four')\n",
      "(4, 'five')\n",
      "(5, 'seven')\n",
      "(6, 'six')\n",
      "(7, 'three')\n"
     ]
    }
   ],
   "source": [
    "for i in enumerate(myset):\n",
    "    print(i)"
   ]
  },
  {
   "cell_type": "markdown",
   "id": "4371f6f0-afe9-4c43-8adc-d525e4516203",
   "metadata": {},
   "source": [
    "## MEMBERSHIP :"
   ]
  },
  {
   "cell_type": "code",
   "execution_count": 88,
   "id": "98cac51e-e3e9-4377-98ff-753c0347977d",
   "metadata": {},
   "outputs": [
    {
     "data": {
      "text/plain": [
       "{'eight', 'five', 'four', 'one', 'seven', 'six', 'three', 'two'}"
      ]
     },
     "execution_count": 88,
     "metadata": {},
     "output_type": "execute_result"
    }
   ],
   "source": [
    "myset"
   ]
  },
  {
   "cell_type": "code",
   "execution_count": 89,
   "id": "0c327b80-1bbf-4048-80c7-973e1246a842",
   "metadata": {},
   "outputs": [
    {
     "data": {
      "text/plain": [
       "True"
      ]
     },
     "execution_count": 89,
     "metadata": {},
     "output_type": "execute_result"
    }
   ],
   "source": [
    "'four' in myset"
   ]
  },
  {
   "cell_type": "code",
   "execution_count": 90,
   "id": "8aac1b19-5845-4770-b1af-4dec367770ed",
   "metadata": {},
   "outputs": [
    {
     "name": "stdout",
     "output_type": "stream",
     "text": [
      "'six' is present\n"
     ]
    }
   ],
   "source": [
    "if 'six' in myset:\n",
    "    print(\"'six' is present\")\n",
    "else:\n",
    "    print(\"'six' is not present\")"
   ]
  },
  {
   "cell_type": "markdown",
   "id": "037281ef-4d5d-4d26-8ef0-38bd30ddae35",
   "metadata": {},
   "source": [
    "## OTHER BUILTIN FUNCTION :"
   ]
  },
  {
   "cell_type": "code",
   "execution_count": 92,
   "id": "82cbcdf8-a85b-430d-a257-7cca35b043b4",
   "metadata": {},
   "outputs": [
    {
     "name": "stdout",
     "output_type": "stream",
     "text": [
      "{1, 2, 3, 4, 5}\n"
     ]
    }
   ],
   "source": [
    "print(a)"
   ]
  },
  {
   "cell_type": "code",
   "execution_count": 93,
   "id": "450454e8-2a64-4cb6-93be-53a25fc02850",
   "metadata": {},
   "outputs": [
    {
     "name": "stdout",
     "output_type": "stream",
     "text": [
      "{4, 5, 6, 7, 8}\n"
     ]
    }
   ],
   "source": [
    "print(b)"
   ]
  },
  {
   "cell_type": "code",
   "execution_count": 94,
   "id": "582143b5-2f03-4c35-adef-dcf0404ccae8",
   "metadata": {},
   "outputs": [
    {
     "data": {
      "text/plain": [
       "15"
      ]
     },
     "execution_count": 94,
     "metadata": {},
     "output_type": "execute_result"
    }
   ],
   "source": [
    "sum(a)"
   ]
  },
  {
   "cell_type": "code",
   "execution_count": 95,
   "id": "4f9f7bdb-d704-402f-a2ec-a0e4c4ba4593",
   "metadata": {},
   "outputs": [
    {
     "data": {
      "text/plain": [
       "1"
      ]
     },
     "execution_count": 95,
     "metadata": {},
     "output_type": "execute_result"
    }
   ],
   "source": [
    "min(a)"
   ]
  },
  {
   "cell_type": "code",
   "execution_count": 96,
   "id": "13e140b5-f409-48dd-af5c-ac6c9d7225e7",
   "metadata": {},
   "outputs": [
    {
     "data": {
      "text/plain": [
       "4"
      ]
     },
     "execution_count": 96,
     "metadata": {},
     "output_type": "execute_result"
    }
   ],
   "source": [
    "min(b)"
   ]
  },
  {
   "cell_type": "code",
   "execution_count": 97,
   "id": "9a2b9c3e-f836-467b-ad11-ebbe595f1687",
   "metadata": {},
   "outputs": [
    {
     "data": {
      "text/plain": [
       "5"
      ]
     },
     "execution_count": 97,
     "metadata": {},
     "output_type": "execute_result"
    }
   ],
   "source": [
    "max(a)"
   ]
  },
  {
   "cell_type": "code",
   "execution_count": 98,
   "id": "ea9bda4d-ca10-4925-a5b0-f1e2a922d40c",
   "metadata": {},
   "outputs": [
    {
     "data": {
      "text/plain": [
       "[5, 4, 3, 2, 1]"
      ]
     },
     "execution_count": 98,
     "metadata": {},
     "output_type": "execute_result"
    }
   ],
   "source": [
    "sorted(a,reverse = True)"
   ]
  },
  {
   "cell_type": "code",
   "execution_count": 99,
   "id": "ca10a56b-0727-4ceb-8b41-b0bc44daf0d8",
   "metadata": {},
   "outputs": [
    {
     "data": {
      "text/plain": [
       "{1, 2, 3, 4, 5}"
      ]
     },
     "execution_count": 99,
     "metadata": {},
     "output_type": "execute_result"
    }
   ],
   "source": [
    "a"
   ]
  },
  {
   "cell_type": "code",
   "execution_count": 100,
   "id": "3ccae4e3-6cc1-4888-adb6-dde35de1c131",
   "metadata": {},
   "outputs": [
    {
     "data": {
      "text/plain": [
       "[1, 2, 3, 4, 5]"
      ]
     },
     "execution_count": 100,
     "metadata": {},
     "output_type": "execute_result"
    }
   ],
   "source": [
    "sorted(sorted(a,reverse = True))"
   ]
  },
  {
   "cell_type": "code",
   "execution_count": null,
   "id": "b9f548c6-e1d4-48bf-be39-e1e25cca1f2d",
   "metadata": {},
   "outputs": [],
   "source": []
  }
 ],
 "metadata": {
  "kernelspec": {
   "display_name": "Python 3 (ipykernel)",
   "language": "python",
   "name": "python3"
  },
  "language_info": {
   "codemirror_mode": {
    "name": "ipython",
    "version": 3
   },
   "file_extension": ".py",
   "mimetype": "text/x-python",
   "name": "python",
   "nbconvert_exporter": "python",
   "pygments_lexer": "ipython3",
   "version": "3.13.5"
  }
 },
 "nbformat": 4,
 "nbformat_minor": 5
}
