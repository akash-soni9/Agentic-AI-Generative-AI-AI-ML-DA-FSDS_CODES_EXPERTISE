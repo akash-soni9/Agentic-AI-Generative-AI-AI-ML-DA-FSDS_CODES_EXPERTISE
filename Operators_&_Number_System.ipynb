{
 "cells": [
  {
   "cell_type": "markdown",
   "id": "929061d5-41e3-4dd3-8a59-369f2e796efc",
   "metadata": {},
   "source": [
    "# Practice on Python Operators & Number System :"
   ]
  },
  {
   "cell_type": "markdown",
   "id": "4e086dbe-28cc-468a-9a88-fea692e51ed5",
   "metadata": {},
   "source": [
    "### PYTHON OPERATORS :\n",
    "- Arithmetic Operator\n",
    "- Comparison (Relational) Operator\n",
    "- Logical Operator\n",
    "- Assignment Operator\n",
    "- Bitwise Operators"
   ]
  },
  {
   "cell_type": "markdown",
   "id": "5509eb67-2563-4433-8a66-06ecedd5276c",
   "metadata": {},
   "source": [
    "#### 1. ARITHMATIC OPERATOR :"
   ]
  },
  {
   "cell_type": "code",
   "execution_count": 9,
   "id": "d2809202-f1f3-4fbc-ae27-5c5991c5f911",
   "metadata": {},
   "outputs": [
    {
     "name": "stdout",
     "output_type": "stream",
     "text": [
      "7\n",
      "3\n",
      "10\n",
      "2.5\n",
      "2\n",
      "1\n",
      "25\n"
     ]
    }
   ],
   "source": [
    "a = 5\n",
    "b = 2\n",
    "\n",
    "print(a + b)   \n",
    "print(a - b)   \n",
    "print(a * b)   \n",
    "print(a / b)   \n",
    "print(a // b) \n",
    "print(a % b)  \n",
    "print(a ** b)"
   ]
  },
  {
   "cell_type": "markdown",
   "id": "7950868b-ddc5-40ff-875e-2110a183a436",
   "metadata": {},
   "source": [
    "#### 2. COMPARISON (RELATIONAL) OPERATOR :"
   ]
  },
  {
   "cell_type": "code",
   "execution_count": 10,
   "id": "fc896388-101c-47a6-8d7d-9ade07978886",
   "metadata": {},
   "outputs": [
    {
     "name": "stdout",
     "output_type": "stream",
     "text": [
      "False\n",
      "True\n",
      "False\n",
      "True\n",
      "False\n",
      "True\n"
     ]
    }
   ],
   "source": [
    "x = 10\n",
    "y = 20\n",
    "\n",
    "print(x == y)  \n",
    "print(x != y)  \n",
    "print(x > y)   \n",
    "print(x < y)   \n",
    "print(x >= y)  \n",
    "print(x <= y)"
   ]
  },
  {
   "cell_type": "markdown",
   "id": "94ee1ff8-a15a-4df9-a33e-348c70694417",
   "metadata": {},
   "source": [
    "#### 3. LOGICAL OPERATOR :"
   ]
  },
  {
   "cell_type": "code",
   "execution_count": 11,
   "id": "4cd4fd93-c0d6-4eaa-8917-b21689a45514",
   "metadata": {},
   "outputs": [
    {
     "name": "stdout",
     "output_type": "stream",
     "text": [
      "True\n",
      "False\n",
      "True\n",
      "False\n",
      "True\n",
      "False\n"
     ]
    }
   ],
   "source": [
    "A = 10\n",
    "B = 20\n",
    "C = 30\n",
    "\n",
    "print(A < C and B > A)   # logical AND\n",
    "print(A > B and C < A)\n",
    "\n",
    "print(C > B or B > A)    # logical OR\n",
    "print(B < A or A > C)\n",
    "\n",
    "print(not(A > B))         #logical NOT \n",
    "print(not(B < C))                  "
   ]
  },
  {
   "cell_type": "markdown",
   "id": "f3bcef17-883e-40ff-a712-8b5c775df1e3",
   "metadata": {},
   "source": [
    "#### 4.ASSIGNMENT OPERATOR :"
   ]
  },
  {
   "cell_type": "code",
   "execution_count": 12,
   "id": "bd5367b1-b088-4294-bd8d-63969c8a2237",
   "metadata": {},
   "outputs": [
    {
     "name": "stdout",
     "output_type": "stream",
     "text": [
      "16\n",
      "12\n",
      "24\n",
      "12.0\n",
      "6.0\n",
      "36.0\n",
      "0.0\n"
     ]
    }
   ],
   "source": [
    "X = 8\n",
    "\n",
    "X += 8\n",
    "print(X)\n",
    "\n",
    "X -= 4\n",
    "print(X)\n",
    "\n",
    "X *= 2\n",
    "print(X)\n",
    "\n",
    "X /= 2\n",
    "print(X)\n",
    "\n",
    "X //= 2\n",
    "print(X)\n",
    "\n",
    "X **= 2\n",
    "print(X)\n",
    "\n",
    "X %= 2\n",
    "print(X)"
   ]
  },
  {
   "cell_type": "markdown",
   "id": "e152cf7c-3cbd-4c0a-adba-d554e8663694",
   "metadata": {},
   "source": [
    "## PYTHON NUMBER SYSTEM :\n",
    "- Binary(0, 1), base 2, '0b'\n",
    "- Octal(0 - 7), base 8, '0o'\n",
    "- Decimal(0 - 9), base 10\n",
    "- Hexadecimal(0 - 9 & A - F), base 16, '0x'"
   ]
  },
  {
   "cell_type": "code",
   "execution_count": 13,
   "id": "d0fe7664-e6e0-4646-a512-622484457b2b",
   "metadata": {},
   "outputs": [
    {
     "name": "stdout",
     "output_type": "stream",
     "text": [
      "10\n"
     ]
    }
   ],
   "source": [
    "n = 10     # decimal\n",
    "print(n)  "
   ]
  },
  {
   "cell_type": "code",
   "execution_count": 14,
   "id": "4784f542-9a38-4256-b594-551d59845b12",
   "metadata": {},
   "outputs": [
    {
     "name": "stdout",
     "output_type": "stream",
     "text": [
      "19\n"
     ]
    }
   ],
   "source": [
    "n = 0b10011   # Binary\n",
    "print(n)"
   ]
  },
  {
   "cell_type": "code",
   "execution_count": 15,
   "id": "f581625d-2dce-4a8e-a885-d2b77655b16b",
   "metadata": {},
   "outputs": [
    {
     "data": {
      "text/plain": [
       "'0b10011'"
      ]
     },
     "execution_count": 15,
     "metadata": {},
     "output_type": "execute_result"
    }
   ],
   "source": [
    "bin(19)"
   ]
  },
  {
   "cell_type": "code",
   "execution_count": 16,
   "id": "a92d9257-4c52-45df-859c-d4dd1dc57b3c",
   "metadata": {},
   "outputs": [
    {
     "name": "stdout",
     "output_type": "stream",
     "text": [
      "10\n"
     ]
    }
   ],
   "source": [
    "n = 0o12     #octal\n",
    "print(n)"
   ]
  },
  {
   "cell_type": "code",
   "execution_count": 17,
   "id": "4fc0d06c-50ad-4ef1-b953-244f9d20c398",
   "metadata": {},
   "outputs": [
    {
     "data": {
      "text/plain": [
       "'0o12'"
      ]
     },
     "execution_count": 17,
     "metadata": {},
     "output_type": "execute_result"
    }
   ],
   "source": [
    "oct(10)"
   ]
  },
  {
   "cell_type": "code",
   "execution_count": 18,
   "id": "eb5e803f-9c99-44ef-93b6-a0eb800d2c3c",
   "metadata": {},
   "outputs": [
    {
     "name": "stdout",
     "output_type": "stream",
     "text": [
      "2595\n"
     ]
    }
   ],
   "source": [
    "n = 0xA23   #hexadecimal\n",
    "print(n)"
   ]
  },
  {
   "cell_type": "code",
   "execution_count": 20,
   "id": "3b7f584e-0db7-474f-b9b3-4a4aafa3a095",
   "metadata": {},
   "outputs": [
    {
     "data": {
      "text/plain": [
       "'0xa23'"
      ]
     },
     "execution_count": 20,
     "metadata": {},
     "output_type": "execute_result"
    }
   ],
   "source": [
    "hex(2595)"
   ]
  },
  {
   "cell_type": "code",
   "execution_count": null,
   "id": "8ddbca66-def2-4f79-8e4b-733893c50e5a",
   "metadata": {},
   "outputs": [],
   "source": []
  }
 ],
 "metadata": {
  "kernelspec": {
   "display_name": "Python 3 (ipykernel)",
   "language": "python",
   "name": "python3"
  },
  "language_info": {
   "codemirror_mode": {
    "name": "ipython",
    "version": 3
   },
   "file_extension": ".py",
   "mimetype": "text/x-python",
   "name": "python",
   "nbconvert_exporter": "python",
   "pygments_lexer": "ipython3",
   "version": "3.13.5"
  }
 },
 "nbformat": 4,
 "nbformat_minor": 5
}
