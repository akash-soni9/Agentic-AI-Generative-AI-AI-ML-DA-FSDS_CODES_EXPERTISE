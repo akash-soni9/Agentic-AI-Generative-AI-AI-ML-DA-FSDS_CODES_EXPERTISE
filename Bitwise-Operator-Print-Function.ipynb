{
 "cells": [
  {
   "cell_type": "markdown",
   "id": "e8918102-f7c6-4978-8494-63d01ee239b6",
   "metadata": {},
   "source": [
    "# BITWISE OPERATOR :\n",
    "- Complement (~)\n",
    "- Bitwise AND (&)\n",
    "- Bitwise OR (|)\n",
    "- Bitwise XOR (^)\n",
    "- Left shift (<<)\n",
    "- Right shift (>>)"
   ]
  },
  {
   "cell_type": "markdown",
   "id": "7a024033-4eaf-4377-8523-baed245ab2b4",
   "metadata": {},
   "source": [
    "#### COMPLEMENT (~) :"
   ]
  },
  {
   "cell_type": "code",
   "execution_count": 2,
   "id": "957f5b0f-ef05-4691-8d4d-9d73f61ff088",
   "metadata": {},
   "outputs": [
    {
     "data": {
      "text/plain": [
       "10"
      ]
     },
     "execution_count": 2,
     "metadata": {},
     "output_type": "execute_result"
    }
   ],
   "source": [
    "x = 10\n",
    "x"
   ]
  },
  {
   "cell_type": "code",
   "execution_count": 3,
   "id": "571a36fc-c537-4a45-8d81-cc6553751833",
   "metadata": {},
   "outputs": [
    {
     "data": {
      "text/plain": [
       "-11"
      ]
     },
     "execution_count": 3,
     "metadata": {},
     "output_type": "execute_result"
    }
   ],
   "source": [
    "~x"
   ]
  },
  {
   "cell_type": "code",
   "execution_count": 4,
   "id": "986df363-cf7e-48aa-85c1-660383811c3b",
   "metadata": {},
   "outputs": [
    {
     "data": {
      "text/plain": [
       "-11"
      ]
     },
     "execution_count": 4,
     "metadata": {},
     "output_type": "execute_result"
    }
   ],
   "source": [
    "~10"
   ]
  },
  {
   "cell_type": "code",
   "execution_count": 5,
   "id": "038d6c30-c02d-41ae-8a3e-2cd843041cdd",
   "metadata": {},
   "outputs": [
    {
     "data": {
      "text/plain": [
       "10"
      ]
     },
     "execution_count": 5,
     "metadata": {},
     "output_type": "execute_result"
    }
   ],
   "source": [
    "~(-11)"
   ]
  },
  {
   "cell_type": "code",
   "execution_count": 11,
   "id": "98ba8190-46e1-4586-87ed-0caa56a57fc8",
   "metadata": {},
   "outputs": [
    {
     "name": "stdout",
     "output_type": "stream",
     "text": [
      "a of Binary : 0b100010\n",
      "~a of Binary : -0b100011\n",
      "a : 34\n",
      "~a : -35\n"
     ]
    }
   ],
   "source": [
    "a = 34\n",
    "\n",
    "print('a of Binary :',bin(a))\n",
    "print('~a of Binary :',bin(~a))\n",
    "print('a :',a)\n",
    "print('~a :',~a)"
   ]
  },
  {
   "cell_type": "code",
   "execution_count": 9,
   "id": "ed58df32-a00d-41c4-acb5-bdf38c3afb01",
   "metadata": {},
   "outputs": [
    {
     "name": "stdout",
     "output_type": "stream",
     "text": [
      "-57\n"
     ]
    }
   ],
   "source": [
    "print(~56)"
   ]
  },
  {
   "cell_type": "code",
   "execution_count": 10,
   "id": "c668811c-8ad5-4e9a-9c71-9ed4fba448fb",
   "metadata": {},
   "outputs": [
    {
     "name": "stdout",
     "output_type": "stream",
     "text": [
      "-8\n"
     ]
    }
   ],
   "source": [
    "print(~7)"
   ]
  },
  {
   "cell_type": "markdown",
   "id": "5265121c-1bc5-46f8-b982-0687568e551e",
   "metadata": {},
   "source": [
    "#### BITWISE AND (&) :"
   ]
  },
  {
   "cell_type": "code",
   "execution_count": 12,
   "id": "25913590-fe91-446d-a5df-338e43aeaab8",
   "metadata": {},
   "outputs": [
    {
     "data": {
      "text/plain": [
       "2"
      ]
     },
     "execution_count": 12,
     "metadata": {},
     "output_type": "execute_result"
    }
   ],
   "source": [
    "23 & 34"
   ]
  },
  {
   "cell_type": "code",
   "execution_count": 13,
   "id": "d8db47f0-8d8f-4d53-8794-88df78666f51",
   "metadata": {},
   "outputs": [
    {
     "name": "stdout",
     "output_type": "stream",
     "text": [
      "0b101100\n",
      "0b111000\n"
     ]
    }
   ],
   "source": [
    "print(bin(44))\n",
    "print(bin(56))"
   ]
  },
  {
   "cell_type": "code",
   "execution_count": 14,
   "id": "a4973d46-b7d8-4939-92ad-45753a46b2ea",
   "metadata": {},
   "outputs": [
    {
     "data": {
      "text/plain": [
       "40"
      ]
     },
     "execution_count": 14,
     "metadata": {},
     "output_type": "execute_result"
    }
   ],
   "source": [
    "0b101100 & 0b111000"
   ]
  },
  {
   "cell_type": "code",
   "execution_count": 15,
   "id": "c3f15974-b816-4c8e-b25f-dd4a490295a3",
   "metadata": {},
   "outputs": [
    {
     "data": {
      "text/plain": [
       "40"
      ]
     },
     "execution_count": 15,
     "metadata": {},
     "output_type": "execute_result"
    }
   ],
   "source": [
    "44 & 56"
   ]
  },
  {
   "cell_type": "code",
   "execution_count": 18,
   "id": "95ca5961-8ee8-4f89-9311-993198c724fc",
   "metadata": {},
   "outputs": [],
   "source": [
    "a = 57\n",
    "b = 34"
   ]
  },
  {
   "cell_type": "code",
   "execution_count": 19,
   "id": "999a0ad8-3dab-48f6-ab0f-81ccdaaecb65",
   "metadata": {},
   "outputs": [
    {
     "data": {
      "text/plain": [
       "32"
      ]
     },
     "execution_count": 19,
     "metadata": {},
     "output_type": "execute_result"
    }
   ],
   "source": [
    "a & b"
   ]
  },
  {
   "cell_type": "code",
   "execution_count": 25,
   "id": "0c2d913c-7938-4205-88cb-01383d527832",
   "metadata": {},
   "outputs": [
    {
     "name": "stdout",
     "output_type": "stream",
     "text": [
      "a = 17 = 0b10001\n",
      "b = 23 = 0b10111\n",
      "a & b = 17 = 0b10001\n"
     ]
    }
   ],
   "source": [
    "a = 17\n",
    "b = 23\n",
    "print(\"a =\", a, \"=\", bin(a))\n",
    "print(\"b =\", b, \"=\", bin(b))\n",
    "print(\"a & b =\", a & b, \"=\", bin(a & b))"
   ]
  },
  {
   "cell_type": "markdown",
   "id": "d53e9dbc-04fd-4041-a9f6-8a41fcffeb16",
   "metadata": {},
   "source": [
    "#### BITWISE OR (|) :"
   ]
  },
  {
   "cell_type": "code",
   "execution_count": 26,
   "id": "ba283b00-66fe-44c5-a756-15e7e03ff502",
   "metadata": {},
   "outputs": [
    {
     "data": {
      "text/plain": [
       "31"
      ]
     },
     "execution_count": 26,
     "metadata": {},
     "output_type": "execute_result"
    }
   ],
   "source": [
    "25 | 23"
   ]
  },
  {
   "cell_type": "code",
   "execution_count": 29,
   "id": "781c7bfe-752d-49c4-8a1f-b8f2415febcb",
   "metadata": {},
   "outputs": [
    {
     "name": "stdout",
     "output_type": "stream",
     "text": [
      "0b11001\n",
      "0b10111\n"
     ]
    }
   ],
   "source": [
    "print(bin(25))\n",
    "print(bin(23))"
   ]
  },
  {
   "cell_type": "code",
   "execution_count": 30,
   "id": "5a7ca73b-f7f3-478a-a459-0ea417c243ad",
   "metadata": {},
   "outputs": [
    {
     "data": {
      "text/plain": [
       "31"
      ]
     },
     "execution_count": 30,
     "metadata": {},
     "output_type": "execute_result"
    }
   ],
   "source": [
    "0b11001 | 0b10111"
   ]
  },
  {
   "cell_type": "code",
   "execution_count": 31,
   "id": "aab66994-4b0e-4ab8-8a1c-9fdd48f5fcca",
   "metadata": {},
   "outputs": [
    {
     "name": "stdout",
     "output_type": "stream",
     "text": [
      "55\n"
     ]
    }
   ],
   "source": [
    "print(33 | 22)"
   ]
  },
  {
   "cell_type": "code",
   "execution_count": 32,
   "id": "09b4a78c-3779-4126-8c61-04663dca495d",
   "metadata": {},
   "outputs": [
    {
     "name": "stdout",
     "output_type": "stream",
     "text": [
      "15\n"
     ]
    }
   ],
   "source": [
    "a = 7 \n",
    "b = 9\n",
    "print(a | b)"
   ]
  },
  {
   "cell_type": "code",
   "execution_count": 35,
   "id": "12d1229b-7afe-49d5-8d9a-eb68b798c7d9",
   "metadata": {},
   "outputs": [
    {
     "name": "stdout",
     "output_type": "stream",
     "text": [
      "binary of a 7: 0b111\n",
      "binary of b : 0b1001\n",
      "binary of a | b : 0b1111\n",
      "a | b = 15\n"
     ]
    }
   ],
   "source": [
    "print('binary of a :',bin(a))\n",
    "print('binary of b :',bin(b))\n",
    "print('binary of a | b :',bin(a | b))\n",
    "print('a | b =',a | b)"
   ]
  },
  {
   "cell_type": "markdown",
   "id": "1fb23f04-851c-466c-87bc-aafbc7f5112d",
   "metadata": {},
   "source": [
    " #### BITWISE XOR (^) :"
   ]
  },
  {
   "cell_type": "code",
   "execution_count": 36,
   "id": "d4b49ae1-c5a5-4fe6-be0c-d068d821d008",
   "metadata": {},
   "outputs": [
    {
     "data": {
      "text/plain": [
       "1"
      ]
     },
     "execution_count": 36,
     "metadata": {},
     "output_type": "execute_result"
    }
   ],
   "source": [
    "6 ^ 7   # differents bits give 1 and same bits give 0 "
   ]
  },
  {
   "cell_type": "code",
   "execution_count": 45,
   "id": "03a703d1-8717-4ab2-8bb8-c6656683f6b2",
   "metadata": {},
   "outputs": [
    {
     "name": "stdout",
     "output_type": "stream",
     "text": [
      "59\n"
     ]
    }
   ],
   "source": [
    "x = 34\n",
    "y = 25\n",
    "print(34 ^ 25)"
   ]
  },
  {
   "cell_type": "code",
   "execution_count": 38,
   "id": "72533294-f73a-4ddb-9f49-76432aa36911",
   "metadata": {},
   "outputs": [
    {
     "data": {
      "text/plain": [
       "'0b100010'"
      ]
     },
     "execution_count": 38,
     "metadata": {},
     "output_type": "execute_result"
    }
   ],
   "source": [
    "bin(34)"
   ]
  },
  {
   "cell_type": "code",
   "execution_count": 39,
   "id": "81a75e76-6b7d-4de0-be82-3c0249efd1f9",
   "metadata": {},
   "outputs": [
    {
     "data": {
      "text/plain": [
       "'0b11001'"
      ]
     },
     "execution_count": 39,
     "metadata": {},
     "output_type": "execute_result"
    }
   ],
   "source": [
    "bin(25)"
   ]
  },
  {
   "cell_type": "code",
   "execution_count": 46,
   "id": "aef13df2-0ff1-48a4-9675-8b445ca57002",
   "metadata": {},
   "outputs": [
    {
     "data": {
      "text/plain": [
       "59"
      ]
     },
     "execution_count": 46,
     "metadata": {},
     "output_type": "execute_result"
    }
   ],
   "source": [
    "0b100010 ^ 0b11001"
   ]
  },
  {
   "cell_type": "code",
   "execution_count": 47,
   "id": "1cc0622b-6f27-4c73-978c-41fec1684461",
   "metadata": {},
   "outputs": [
    {
     "name": "stdout",
     "output_type": "stream",
     "text": [
      "a = 0b1100\n",
      "b = 0b111\n",
      "a ^ b = 0b1011\n",
      "Result = 11\n"
     ]
    }
   ],
   "source": [
    "a = 12\n",
    "b = 7\n",
    "print(\"a =\", bin(a))\n",
    "print(\"b =\", bin(b))\n",
    "print(\"a ^ b =\", bin(a ^ b))\n",
    "print(\"Result =\", a ^ b)"
   ]
  },
  {
   "cell_type": "markdown",
   "id": "219305b0-7196-4ac1-838d-cca1deb89e1b",
   "metadata": {},
   "source": [
    "#### Left shift (<<) : "
   ]
  },
  {
   "cell_type": "code",
   "execution_count": 54,
   "id": "f597061d-084f-444c-8fb8-467a1f0ea32f",
   "metadata": {},
   "outputs": [
    {
     "data": {
      "text/plain": [
       "20"
      ]
     },
     "execution_count": 54,
     "metadata": {},
     "output_type": "execute_result"
    }
   ],
   "source": [
    "# shift the bits to left position, we gain bits , multiply by 2\n",
    "10 << 1"
   ]
  },
  {
   "cell_type": "code",
   "execution_count": 49,
   "id": "4bbcb73a-49c5-4089-b401-55c39d25671d",
   "metadata": {},
   "outputs": [
    {
     "data": {
      "text/plain": [
       "80"
      ]
     },
     "execution_count": 49,
     "metadata": {},
     "output_type": "execute_result"
    }
   ],
   "source": [
    "20 << 2"
   ]
  },
  {
   "cell_type": "code",
   "execution_count": 50,
   "id": "30a1a4c9-950c-4f1c-b8d2-16cd87732a7d",
   "metadata": {},
   "outputs": [],
   "source": [
    "a = 23"
   ]
  },
  {
   "cell_type": "code",
   "execution_count": 51,
   "id": "09f25b4d-8d61-4c44-b714-a4ddf8ea9aa7",
   "metadata": {},
   "outputs": [
    {
     "data": {
      "text/plain": [
       "46"
      ]
     },
     "execution_count": 51,
     "metadata": {},
     "output_type": "execute_result"
    }
   ],
   "source": [
    "a << 1"
   ]
  },
  {
   "cell_type": "code",
   "execution_count": 52,
   "id": "c2cd0a12-c92d-43c5-a605-0417f6a35f6a",
   "metadata": {},
   "outputs": [
    {
     "data": {
      "text/plain": [
       "92"
      ]
     },
     "execution_count": 52,
     "metadata": {},
     "output_type": "execute_result"
    }
   ],
   "source": [
    "a << 2"
   ]
  },
  {
   "cell_type": "code",
   "execution_count": 53,
   "id": "dec035f4-3f45-4e28-bd3b-f3269f632312",
   "metadata": {},
   "outputs": [
    {
     "data": {
      "text/plain": [
       "92"
      ]
     },
     "execution_count": 53,
     "metadata": {},
     "output_type": "execute_result"
    }
   ],
   "source": [
    "23 << 2"
   ]
  },
  {
   "cell_type": "markdown",
   "id": "f8a70a9f-3957-4c94-8288-d5a6d2147f1e",
   "metadata": {},
   "source": [
    "#### RIGHT SHIFT (>>) :"
   ]
  },
  {
   "cell_type": "code",
   "execution_count": 55,
   "id": "78d0e668-0991-4fc4-a49a-fe692d09a5c0",
   "metadata": {},
   "outputs": [
    {
     "data": {
      "text/plain": [
       "5"
      ]
     },
     "execution_count": 55,
     "metadata": {},
     "output_type": "execute_result"
    }
   ],
   "source": [
    "# right shift means all bits shift to right, divid by 2, loose the bits\n",
    "10 >> 1"
   ]
  },
  {
   "cell_type": "code",
   "execution_count": 56,
   "id": "52432c42-82e5-4ac2-9cfd-d01973eaff1d",
   "metadata": {},
   "outputs": [
    {
     "data": {
      "text/plain": [
       "2"
      ]
     },
     "execution_count": 56,
     "metadata": {},
     "output_type": "execute_result"
    }
   ],
   "source": [
    "10 >> 2"
   ]
  },
  {
   "cell_type": "code",
   "execution_count": 57,
   "id": "c71c62a8-bcf8-41b8-94d7-93b877dff12e",
   "metadata": {},
   "outputs": [
    {
     "data": {
      "text/plain": [
       "3"
      ]
     },
     "execution_count": 57,
     "metadata": {},
     "output_type": "execute_result"
    }
   ],
   "source": [
    "30 >> 3"
   ]
  },
  {
   "cell_type": "code",
   "execution_count": 58,
   "id": "f65e026d-25a1-48dc-a194-f21edcce4cb9",
   "metadata": {},
   "outputs": [
    {
     "name": "stdout",
     "output_type": "stream",
     "text": [
      "a = 10 = 0b1010\n",
      "a >> 1 = 5 = 0b101\n",
      "a >> 2 = 2 = 0b10\n"
     ]
    }
   ],
   "source": [
    "a = 10\n",
    "print(\"a =\", a, \"=\", bin(a))\n",
    "print(\"a >> 1 =\", a >> 1, \"=\", bin(a >> 1))\n",
    "print(\"a >> 2 =\", a >> 2, \"=\", bin(a >> 2))"
   ]
  },
  {
   "cell_type": "markdown",
   "id": "662412d2-e2a7-47f6-a225-f7675722a38c",
   "metadata": {},
   "source": [
    "# PRINT() FUNCTION :"
   ]
  },
  {
   "cell_type": "code",
   "execution_count": 1,
   "id": "195c10a6-43ea-4fc2-996c-c535dfc9b6eb",
   "metadata": {},
   "outputs": [
    {
     "name": "stdout",
     "output_type": "stream",
     "text": [
      "9\n"
     ]
    }
   ],
   "source": [
    "print(9)"
   ]
  },
  {
   "cell_type": "code",
   "execution_count": 2,
   "id": "d376a9f9-83a0-4f92-9824-00f15aed7afb",
   "metadata": {},
   "outputs": [
    {
     "name": "stdout",
     "output_type": "stream",
     "text": [
      "Data science and Ai\n"
     ]
    }
   ],
   "source": [
    "print(\"Data science and Ai\")"
   ]
  },
  {
   "cell_type": "code",
   "execution_count": 4,
   "id": "2b83bfba-0bb6-43ec-985e-4ae5cd9baaff",
   "metadata": {},
   "outputs": [
    {
     "name": "stdout",
     "output_type": "stream",
     "text": [
      "hello\n",
      "How are you!\n",
      "Hello\tGood Morning\n"
     ]
    }
   ],
   "source": [
    "print(\"hello\\nHow are you!\")  # \\n --> next line\n",
    "print(\"Hello\\tGood Morning\")  # \\t --> tab space"
   ]
  },
  {
   "cell_type": "code",
   "execution_count": 5,
   "id": "07292775-c53e-4c0e-bff1-cdbd3a8e35e6",
   "metadata": {},
   "outputs": [
    {
     "name": "stdout",
     "output_type": "stream",
     "text": [
      "They say, \"You are good men\"\n"
     ]
    }
   ],
   "source": [
    "print(\"They say, \\\"You are good men\\\"\")"
   ]
  },
  {
   "cell_type": "code",
   "execution_count": 6,
   "id": "7c8ac1ea-4c82-4b71-93bf-52687352015b",
   "metadata": {},
   "outputs": [
    {
     "name": "stdout",
     "output_type": "stream",
     "text": [
      "60\n"
     ]
    }
   ],
   "source": [
    "height = 12\n",
    "length = 5\n",
    "area = height*length\n",
    "print(area)"
   ]
  },
  {
   "cell_type": "code",
   "execution_count": 8,
   "id": "44048046-11cb-43f3-afd1-41a859e46684",
   "metadata": {},
   "outputs": [
    {
     "name": "stdout",
     "output_type": "stream",
     "text": [
      "9 10 11.4 (1+2j) python java\n"
     ]
    }
   ],
   "source": [
    "print(9,10,11.4,1+2j,'python',\"java\")"
   ]
  },
  {
   "cell_type": "markdown",
   "id": "d871b92e-5cd9-42af-96c0-3bb008e47b3b",
   "metadata": {},
   "source": [
    "##### print with string :"
   ]
  },
  {
   "cell_type": "code",
   "execution_count": 10,
   "id": "ff285290-dfdb-4e30-96c8-e6fc25064c35",
   "metadata": {},
   "outputs": [
    {
     "name": "stdout",
     "output_type": "stream",
     "text": [
      "Name : Akash ,Id : 2340012 ,Address : Jharkhand ,optained marks : 90\n"
     ]
    }
   ],
   "source": [
    "std_name = \"Akash\"\n",
    "std_id = 2340012\n",
    "std_address = 'Jharkhand'\n",
    "marks = 90\n",
    "print(\"Name :\",std_name,','\"Id :\",std_id,',''Address :',std_address,','\"optained marks :\",marks)\n"
   ]
  },
  {
   "cell_type": "code",
   "execution_count": 11,
   "id": "f8705eef-4b6e-493e-8749-09a153e5a034",
   "metadata": {},
   "outputs": [
    {
     "name": "stdout",
     "output_type": "stream",
     "text": [
      "addition of 5 and 10 is = 15\n",
      "multiplication of 5 and 10 is = 50\n",
      "floor division of 5 and 10 is = 0.5\n"
     ]
    }
   ],
   "source": [
    "a = 5\n",
    "b = 10\n",
    "print(\"addition of\",a, \"and\",b,\"is =\",a + b)\n",
    "print(\"multiplication of\",a, \"and\",b,\"is =\",a * b)\n",
    "print(\"floor division of\",a, \"and\",b,\"is =\",a / b)"
   ]
  },
  {
   "cell_type": "markdown",
   "id": "9cd07b5a-1ecc-4bc7-a9b7-e657bac2c3ad",
   "metadata": {},
   "source": [
    "#### print using format() method :"
   ]
  },
  {
   "cell_type": "code",
   "execution_count": 13,
   "id": "03a3286b-f536-4e98-bb24-1a57c37cacbb",
   "metadata": {},
   "outputs": [
    {
     "name": "stdout",
     "output_type": "stream",
     "text": [
      "addition of 5 and 10 is = 15\n",
      "multiplication of 5 and 10 is = 50\n",
      "floor division of 5 and 10 is = 0.5\n"
     ]
    }
   ],
   "source": [
    "a = 5\n",
    "b = 10\n",
    "print(\"addition of {} and {} is = {}\".format(a,b,(a+b)))\n",
    "print(\"multiplication of {} and {} is = {}\".format(a,b,(a*b)))\n",
    "print(\"floor division of {} and {} is = {}\".format(a,b,(a/b)))"
   ]
  },
  {
   "cell_type": "code",
   "execution_count": 14,
   "id": "0e4ebb4c-c28f-4d33-ae2a-700a030c89c0",
   "metadata": {},
   "outputs": [
    {
     "name": "stdout",
     "output_type": "stream",
     "text": [
      "My name is Akash and I am learning python!\n"
     ]
    }
   ],
   "source": [
    "name = 'Akash'\n",
    "course = 'python'\n",
    "print('My name is {} and I am learning {}!'.format(name,course))"
   ]
  },
  {
   "cell_type": "code",
   "execution_count": 15,
   "id": "706375dc-f220-4293-8167-53a530d7b286",
   "metadata": {},
   "outputs": [
    {
     "name": "stdout",
     "output_type": "stream",
     "text": [
      "Area of circle is 28.26 with radius 3\n"
     ]
    }
   ],
   "source": [
    "radius = 3\n",
    "area = 3.14 * radius ** 2\n",
    "print(\"Area of circle is {} with radius {}\".format(area,radius))"
   ]
  },
  {
   "cell_type": "markdown",
   "id": "c07e3ffd-cf1f-4512-993f-dce1dd411414",
   "metadata": {},
   "source": [
    "##### print using f string method :"
   ]
  },
  {
   "cell_type": "code",
   "execution_count": 16,
   "id": "a81cc1b7-cab4-41cb-b335-6c88af67a09d",
   "metadata": {},
   "outputs": [
    {
     "name": "stdout",
     "output_type": "stream",
     "text": [
      "addition of 5 and 10 is equal to 30\n",
      "subtraction of 5 and 10 is equal to -10\n"
     ]
    }
   ],
   "source": [
    "x = 10\n",
    "y = 20\n",
    "add = x + y\n",
    "sub = x - y\n",
    "print(f\"addition of {a} and {b} is equal to {add}\")\n",
    "print(f\"subtraction of {a} and {b} is equal to {sub}\")"
   ]
  },
  {
   "cell_type": "code",
   "execution_count": 17,
   "id": "4798d5d3-0dbf-4a26-bdcf-a82c67c7d664",
   "metadata": {},
   "outputs": [
    {
     "name": "stdout",
     "output_type": "stream",
     "text": [
      "my name is Python and I am 22 years old from Ranchi\n"
     ]
    }
   ],
   "source": [
    "name = 'Python'\n",
    "age = 22\n",
    "city = 'Ranchi'\n",
    "print(f\"my name is {name} and I am {age} years old from {city}\")"
   ]
  },
  {
   "cell_type": "code",
   "execution_count": 18,
   "id": "d59053da-1219-402a-ade1-8863cb5195af",
   "metadata": {},
   "outputs": [
    {
     "name": "stdout",
     "output_type": "stream",
     "text": [
      "Today's date: 2025-10-21\n"
     ]
    }
   ],
   "source": [
    "from datetime import datetime\n",
    "today = datetime(2025, 10, 21) \n",
    "print(f\"Today's date: {today:%Y-%m-%d}\") "
   ]
  },
  {
   "cell_type": "code",
   "execution_count": null,
   "id": "7f874e2b-ad6f-4629-a6a8-c8910bf23d8b",
   "metadata": {},
   "outputs": [],
   "source": []
  },
  {
   "cell_type": "markdown",
   "id": "6a897685-a690-4b75-894e-5560d184e0a3",
   "metadata": {},
   "source": [
    "##### end statement :"
   ]
  },
  {
   "cell_type": "code",
   "execution_count": 19,
   "id": "4bfc2097-0cde-4b98-9891-66ad8bcf552b",
   "metadata": {},
   "outputs": [
    {
     "name": "stdout",
     "output_type": "stream",
     "text": [
      "Hello Good Morning\n"
     ]
    }
   ],
   "source": [
    "print(\"Hello\",end = \" \")\n",
    "print(\"Good Morning\")"
   ]
  },
  {
   "cell_type": "code",
   "execution_count": 20,
   "id": "4c75080e-63d0-4704-8fdd-5a547c064965",
   "metadata": {},
   "outputs": [
    {
     "name": "stdout",
     "output_type": "stream",
     "text": [
      "Python-is-powerful-programming -language\n"
     ]
    }
   ],
   "source": [
    "print('Python',end='-')\n",
    "print('is',end='-')\n",
    "print('powerful',end='-')\n",
    "print('programming',end='-')\n",
    "print('language')"
   ]
  },
  {
   "cell_type": "code",
   "execution_count": 22,
   "id": "c9d11747-42e6-438d-b6ba-3c944d4131de",
   "metadata": {},
   "outputs": [
    {
     "name": "stdout",
     "output_type": "stream",
     "text": [
      "21/10/2025\n"
     ]
    }
   ],
   "source": [
    "from datetime import datetime\n",
    "\n",
    "today = datetime(2025,10,21)\n",
    "print(today.day,end=\"/\")\n",
    "print(today.month,end=\"/\")\n",
    "print(today.year)"
   ]
  },
  {
   "cell_type": "markdown",
   "id": "798fdc84-984c-47fd-bcea-5c3a469a33ea",
   "metadata": {},
   "source": [
    "##### seperator :"
   ]
  },
  {
   "cell_type": "code",
   "execution_count": 23,
   "id": "996b1f71-f4a2-41dd-bbca-18d27c45fb96",
   "metadata": {},
   "outputs": [
    {
     "name": "stdout",
     "output_type": "stream",
     "text": [
      "21-10-2025\n"
     ]
    }
   ],
   "source": [
    "from datetime import datetime\n",
    "\n",
    "today = datetime(2025, 10, 21)\n",
    "print(today.day, today.month, today.year, sep=\"-\")"
   ]
  },
  {
   "cell_type": "code",
   "execution_count": 26,
   "id": "2a6290b1-6d36-43da-82bc-1a4cf878e8c1",
   "metadata": {},
   "outputs": [
    {
     "name": "stdout",
     "output_type": "stream",
     "text": [
      "sunday-->monday-->tuesday-->wednesday\n",
      "thursday-->saturday\n"
     ]
    }
   ],
   "source": [
    "print(\"sunday\",\"monday\",\"tuesday\",\"wednesday\",sep='-->')\n",
    "print(\"thursday\",\"saturday\", sep='-->')"
   ]
  },
  {
   "cell_type": "code",
   "execution_count": 27,
   "id": "39466bb2-0672-446b-85c9-a4f2c3998288",
   "metadata": {},
   "outputs": [
    {
     "name": "stdout",
     "output_type": "stream",
     "text": [
      "Today_is_sunny_and_beautiful_day\n"
     ]
    }
   ],
   "source": [
    "print(\"Today\",\"is\",\"sunny\",\"and\",\"beautiful\",\"day\",sep='_')"
   ]
  },
  {
   "cell_type": "code",
   "execution_count": 28,
   "id": "652d98ff-bd71-4ac6-abc4-7c7ccf70a892",
   "metadata": {},
   "outputs": [
    {
     "name": "stdout",
     "output_type": "stream",
     "text": [
      "My gmail id : akashsoni9142@gmail.com\n"
     ]
    }
   ],
   "source": [
    "print(\"My gmail id :\",end=' ')\n",
    "print(\"akashsoni9142\",\"gmail.com\",sep=\"@\")"
   ]
  },
  {
   "cell_type": "code",
   "execution_count": null,
   "id": "76c98c89-dbd9-45bd-b47e-25a45cbfd92a",
   "metadata": {},
   "outputs": [],
   "source": []
  }
 ],
 "metadata": {
  "kernelspec": {
   "display_name": "Python 3 (ipykernel)",
   "language": "python",
   "name": "python3"
  },
  "language_info": {
   "codemirror_mode": {
    "name": "ipython",
    "version": 3
   },
   "file_extension": ".py",
   "mimetype": "text/x-python",
   "name": "python",
   "nbconvert_exporter": "python",
   "pygments_lexer": "ipython3",
   "version": "3.13.5"
  }
 },
 "nbformat": 4,
 "nbformat_minor": 5
}
