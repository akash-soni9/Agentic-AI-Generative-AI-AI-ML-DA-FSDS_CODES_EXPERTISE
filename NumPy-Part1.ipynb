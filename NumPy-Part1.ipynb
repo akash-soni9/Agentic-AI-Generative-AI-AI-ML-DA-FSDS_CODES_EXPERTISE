{
 "cells": [
  {
   "cell_type": "markdown",
   "id": "8015f43a-7042-421d-aa0b-f385b38201e9",
   "metadata": {},
   "source": [
    "# NumPy :\n",
    "- NumPy is a Python library used for working with arrays.\n",
    "- It also has functions for working in domain of linear algebra, fourier transform, and matrices.\n",
    "- NumPy was created in 2005 by Travis Oliphant. It is an open source project and you can use it freely.\n",
    "- NumPy stands for Numerical Python.\n",
    "- Fast operations on large amounts of numerical data\n",
    "- Multi-dimensional arrays (like lists but much faster and more efficient)\n",
    "- Mathematical functions for linear algebra, statistics, random numbers, etc."
   ]
  },
  {
   "cell_type": "code",
   "execution_count": 2,
   "id": "aa44f5f6-8f8c-472b-9cf0-a6cb63145c50",
   "metadata": {},
   "outputs": [],
   "source": [
    "import numpy as np"
   ]
  },
  {
   "cell_type": "code",
   "execution_count": 2,
   "id": "593205dd-2d91-488d-90a3-3e4c6677dd4b",
   "metadata": {},
   "outputs": [
    {
     "data": {
      "text/plain": [
       "'2.1.3'"
      ]
     },
     "execution_count": 2,
     "metadata": {},
     "output_type": "execute_result"
    }
   ],
   "source": [
    "np.__version__"
   ]
  },
  {
   "cell_type": "code",
   "execution_count": 2,
   "id": "5a37ad7c-e4a8-4f3f-960e-2d4c4c590870",
   "metadata": {},
   "outputs": [
    {
     "data": {
      "text/plain": [
       "'3.13.5 | packaged by Anaconda, Inc. | (main, Jun 12 2025, 16:37:03) [MSC v.1929 64 bit (AMD64)]'"
      ]
     },
     "execution_count": 2,
     "metadata": {},
     "output_type": "execute_result"
    }
   ],
   "source": [
    "import sys\n",
    "sys.version"
   ]
  },
  {
   "cell_type": "markdown",
   "id": "dcf9ad21-f5e3-4043-a0e7-6529eda4b36d",
   "metadata": {},
   "source": [
    "## CREATING ARRAYS : "
   ]
  },
  {
   "cell_type": "code",
   "execution_count": 4,
   "id": "7dbb536b-5a39-440a-b22c-12ce3c470433",
   "metadata": {},
   "outputs": [
    {
     "data": {
      "text/plain": [
       "[0, 1, 2, 3, 4, 5]"
      ]
     },
     "execution_count": 4,
     "metadata": {},
     "output_type": "execute_result"
    }
   ],
   "source": [
    "my_list = [0,1,2,3,4,5] # this is a python List\n",
    "my_list"
   ]
  },
  {
   "cell_type": "code",
   "execution_count": 5,
   "id": "b50c2176-49e6-48e3-bcd9-87169ad1a3c0",
   "metadata": {},
   "outputs": [
    {
     "name": "stdout",
     "output_type": "stream",
     "text": [
      "[0, 1, 2, 3, 4, 5]\n"
     ]
    }
   ],
   "source": [
    "print(my_list)"
   ]
  },
  {
   "cell_type": "code",
   "execution_count": 6,
   "id": "9794cc24-209e-4811-a8d3-67b067d4c6f8",
   "metadata": {},
   "outputs": [
    {
     "data": {
      "text/plain": [
       "array([0, 1, 2, 3, 4, 5])"
      ]
     },
     "execution_count": 6,
     "metadata": {},
     "output_type": "execute_result"
    }
   ],
   "source": [
    "arr = np.array(my_list) # and this is a Numpy Array\n",
    "arr"
   ]
  },
  {
   "cell_type": "code",
   "execution_count": 7,
   "id": "e4b20337-d0d7-4c06-9b66-9ec6fa2ae45a",
   "metadata": {},
   "outputs": [
    {
     "name": "stdout",
     "output_type": "stream",
     "text": [
      "<class 'numpy.ndarray'>\n"
     ]
    }
   ],
   "source": [
    "print(type(arr))"
   ]
  },
  {
   "cell_type": "code",
   "execution_count": 8,
   "id": "3521d8c2-6951-4d66-9710-1a604adceee9",
   "metadata": {},
   "outputs": [
    {
     "ename": "SyntaxError",
     "evalue": "invalid syntax (2469254449.py, line 1)",
     "output_type": "error",
     "traceback": [
      "\u001b[1;36m  Cell \u001b[1;32mIn[8], line 1\u001b[1;36m\u001b[0m\n\u001b[1;33m    np.\u001b[0m\n\u001b[1;37m       ^\u001b[0m\n\u001b[1;31mSyntaxError\u001b[0m\u001b[1;31m:\u001b[0m invalid syntax\n"
     ]
    }
   ],
   "source": [
    "np.           # gives syntaxError becaouse after dot there is no any function "
   ]
  },
  {
   "cell_type": "code",
   "execution_count": 9,
   "id": "6be51ed8-5eb6-436d-9e2d-9c238b227d61",
   "metadata": {},
   "outputs": [
    {
     "data": {
      "text/plain": [
       "array([0, 1, 2, 3, 4, 5, 6, 7, 8, 9])"
      ]
     },
     "execution_count": 9,
     "metadata": {},
     "output_type": "execute_result"
    }
   ],
   "source": [
    "np.arange(10) # arange() is similar to range(), but arange() creates a  1D array"
   ]
  },
  {
   "cell_type": "code",
   "execution_count": 10,
   "id": "4447e472-d6c0-4afe-a324-a64667588d00",
   "metadata": {},
   "outputs": [
    {
     "data": {
      "text/plain": [
       "array([0., 1., 2.])"
      ]
     },
     "execution_count": 10,
     "metadata": {},
     "output_type": "execute_result"
    }
   ],
   "source": [
    "np.arange(3.0) # float array"
   ]
  },
  {
   "cell_type": "code",
   "execution_count": 11,
   "id": "83542ed8-b50f-4a69-a830-0e9c56c8ba39",
   "metadata": {},
   "outputs": [
    {
     "data": {
      "text/plain": [
       "array([0, 1, 2, 3, 4])"
      ]
     },
     "execution_count": 11,
     "metadata": {},
     "output_type": "execute_result"
    }
   ],
   "source": [
    "np.arange(0, 5) # here arange() is also take start,stop and step like range() "
   ]
  },
  {
   "cell_type": "code",
   "execution_count": 12,
   "id": "4aaa356d-1230-44a9-9abd-152e200f5ad9",
   "metadata": {},
   "outputs": [
    {
     "data": {
      "text/plain": [
       "array([10, 11, 12, 13, 14, 15, 16, 17, 18, 19])"
      ]
     },
     "execution_count": 12,
     "metadata": {},
     "output_type": "execute_result"
    }
   ],
   "source": [
    "np.arange(10,20)"
   ]
  },
  {
   "cell_type": "code",
   "execution_count": 13,
   "id": "176d2444-a0f0-42b7-9ed1-d625606ec578",
   "metadata": {},
   "outputs": [
    {
     "data": {
      "text/plain": [
       "array([], dtype=int64)"
      ]
     },
     "execution_count": 13,
     "metadata": {},
     "output_type": "execute_result"
    }
   ],
   "source": [
    "np.arange(20, 10) # must be start > stop , here we give start is smaller than stop"
   ]
  },
  {
   "cell_type": "code",
   "execution_count": 14,
   "id": "ce975635-a702-4674-b08e-0327a969d495",
   "metadata": {},
   "outputs": [
    {
     "data": {
      "text/plain": [
       "array([-20, -19, -18, -17, -16, -15, -14, -13, -12, -11, -10,  -9,  -8,\n",
       "        -7,  -6,  -5,  -4,  -3,  -2,  -1,   0,   1,   2,   3,   4,   5,\n",
       "         6,   7,   8,   9])"
      ]
     },
     "execution_count": 14,
     "metadata": {},
     "output_type": "execute_result"
    }
   ],
   "source": [
    "np.arange(-20,10) # this will work  "
   ]
  },
  {
   "cell_type": "code",
   "execution_count": 15,
   "id": "883af3c9-738e-4735-ba11-ac76268689c9",
   "metadata": {},
   "outputs": [
    {
     "data": {
      "text/plain": [
       "array([-16, -15, -14, -13, -12, -11, -10,  -9,  -8,  -7,  -6,  -5,  -4,\n",
       "        -3,  -2,  -1,   0,   1,   2,   3,   4,   5,   6,   7,   8,   9])"
      ]
     },
     "execution_count": 15,
     "metadata": {},
     "output_type": "execute_result"
    }
   ],
   "source": [
    "np.arange(-16,10)"
   ]
  },
  {
   "cell_type": "code",
   "execution_count": 16,
   "id": "766d3fdc-474f-4d32-ad26-4d34a7f270b0",
   "metadata": {},
   "outputs": [
    {
     "data": {
      "text/plain": [
       "array([-20, -19, -18, -17, -16, -15, -14, -13, -12, -11])"
      ]
     },
     "execution_count": 16,
     "metadata": {},
     "output_type": "execute_result"
    }
   ],
   "source": [
    "np.arange(-20, -10)"
   ]
  },
  {
   "cell_type": "code",
   "execution_count": 17,
   "id": "caa8cb5c-65b0-437b-9b25-685ccf0eb85b",
   "metadata": {},
   "outputs": [
    {
     "data": {
      "text/plain": [
       "array([], dtype=int64)"
      ]
     },
     "execution_count": 17,
     "metadata": {},
     "output_type": "execute_result"
    }
   ],
   "source": [
    "np.arange(30, 20)"
   ]
  },
  {
   "cell_type": "code",
   "execution_count": 18,
   "id": "b9ffe1d3-b7a0-451a-9bdb-670ce5fd6fc5",
   "metadata": {},
   "outputs": [],
   "source": [
    "ar = np.arange(-30,10)"
   ]
  },
  {
   "cell_type": "code",
   "execution_count": 19,
   "id": "3d30bb16-eace-4079-9c2c-4bc010c5f4a8",
   "metadata": {},
   "outputs": [
    {
     "data": {
      "text/plain": [
       "array([-30, -29, -28, -27, -26, -25, -24, -23, -22, -21, -20, -19, -18,\n",
       "       -17, -16, -15, -14, -13, -12, -11, -10,  -9,  -8,  -7,  -6,  -5,\n",
       "        -4,  -3,  -2,  -1,   0,   1,   2,   3,   4,   5,   6,   7,   8,\n",
       "         9])"
      ]
     },
     "execution_count": 19,
     "metadata": {},
     "output_type": "execute_result"
    }
   ],
   "source": [
    "ar"
   ]
  },
  {
   "cell_type": "code",
   "execution_count": 20,
   "id": "3a2d8950-3404-470f-8a17-07173c899c61",
   "metadata": {},
   "outputs": [
    {
     "data": {
      "text/plain": [
       "array([], dtype=int64)"
      ]
     },
     "execution_count": 20,
     "metadata": {},
     "output_type": "execute_result"
    }
   ],
   "source": [
    "np.arange(10,10) # only give start > stop"
   ]
  },
  {
   "cell_type": "code",
   "execution_count": 21,
   "id": "619bea05-8839-471c-8afa-b40737e6ea28",
   "metadata": {},
   "outputs": [
    {
     "ename": "TypeError",
     "evalue": "arange() requires stop to be specified.",
     "output_type": "error",
     "traceback": [
      "\u001b[1;31m---------------------------------------------------------------------------\u001b[0m",
      "\u001b[1;31mTypeError\u001b[0m                                 Traceback (most recent call last)",
      "Cell \u001b[1;32mIn[21], line 1\u001b[0m\n\u001b[1;32m----> 1\u001b[0m np\u001b[38;5;241m.\u001b[39marange()\n",
      "\u001b[1;31mTypeError\u001b[0m: arange() requires stop to be specified."
     ]
    }
   ],
   "source": [
    "np.arange() # here we pass no argument, then it give typeError means atleat one argument must be given"
   ]
  },
  {
   "cell_type": "code",
   "execution_count": 22,
   "id": "dfe9ce0a-0402-451a-aa7b-1164c06901cb",
   "metadata": {},
   "outputs": [
    {
     "data": {
      "text/plain": [
       "array([10, 15, 20, 25])"
      ]
     },
     "execution_count": 22,
     "metadata": {},
     "output_type": "execute_result"
    }
   ],
   "source": [
    "np.arange(10, 30, 5) # here 3 argument is given the last argument is step"
   ]
  },
  {
   "cell_type": "code",
   "execution_count": 23,
   "id": "d9edf223-ebc8-478c-bd0b-b88eb9135540",
   "metadata": {},
   "outputs": [
    {
     "data": {
      "text/plain": [
       "array([0, 3, 6, 9])"
      ]
     },
     "execution_count": 23,
     "metadata": {},
     "output_type": "execute_result"
    }
   ],
   "source": [
    "np.arange(0,10,3)"
   ]
  },
  {
   "cell_type": "code",
   "execution_count": 24,
   "id": "8f144730-5483-41dd-98a2-8a2dc4ed7f64",
   "metadata": {},
   "outputs": [
    {
     "ename": "TypeError",
     "evalue": "Cannot interpret '8' as a data type",
     "output_type": "error",
     "traceback": [
      "\u001b[1;31m---------------------------------------------------------------------------\u001b[0m",
      "\u001b[1;31mTypeError\u001b[0m                                 Traceback (most recent call last)",
      "Cell \u001b[1;32mIn[24], line 1\u001b[0m\n\u001b[1;32m----> 1\u001b[0m np\u001b[38;5;241m.\u001b[39marange(\u001b[38;5;241m10\u001b[39m,\u001b[38;5;241m30\u001b[39m,\u001b[38;5;241m5\u001b[39m,\u001b[38;5;241m8\u001b[39m)\n",
      "\u001b[1;31mTypeError\u001b[0m: Cannot interpret '8' as a data type"
     ]
    }
   ],
   "source": [
    "np.arange(10,30,5,8) # it cannot take 4 argument"
   ]
  },
  {
   "cell_type": "code",
   "execution_count": 25,
   "id": "b87ebd84-9c9a-4e57-8108-bb305212beff",
   "metadata": {},
   "outputs": [
    {
     "data": {
      "text/plain": [
       "array([0., 0., 0.])"
      ]
     },
     "execution_count": 25,
     "metadata": {},
     "output_type": "execute_result"
    }
   ],
   "source": [
    "np.zeros(3) # parameter Tunning, by default system gives float "
   ]
  },
  {
   "cell_type": "code",
   "execution_count": 26,
   "id": "d7176b5a-29da-4b3c-9abb-232f61e445fa",
   "metadata": {},
   "outputs": [
    {
     "data": {
      "text/plain": [
       "array([0, 0, 0])"
      ]
     },
     "execution_count": 26,
     "metadata": {},
     "output_type": "execute_result"
    }
   ],
   "source": [
    "np.zeros(3, dtype = int) # Hyper parameter Tunning, here user changed system's parameter"
   ]
  },
  {
   "cell_type": "code",
   "execution_count": 29,
   "id": "f39eb0f1-893e-479d-bfd5-d5187d96182f",
   "metadata": {},
   "outputs": [
    {
     "data": {
      "text/plain": [
       "array([[0, 0],\n",
       "       [0, 0]])"
      ]
     },
     "execution_count": 29,
     "metadata": {},
     "output_type": "execute_result"
    }
   ],
   "source": [
    "np.zeros((2,2), dtype = int) # 2x2 matrix with integer type"
   ]
  },
  {
   "cell_type": "code",
   "execution_count": 31,
   "id": "b4e9a7dc-ab29-474f-800d-95568d9229dd",
   "metadata": {},
   "outputs": [
    {
     "name": "stdout",
     "output_type": "stream",
     "text": [
      "[[0. 0. 0.]\n",
      " [0. 0. 0.]]\n",
      "<class 'numpy.ndarray'>\n",
      "(2, 3)\n"
     ]
    }
   ],
   "source": [
    "zeros = np.zeros([2,3])\n",
    "print(zeros)\n",
    "print(type(zeros))  #ndarray means: n-dimension array\n",
    "print(zeros.shape)  # it shows matrix's raw and column"
   ]
  },
  {
   "cell_type": "code",
   "execution_count": 32,
   "id": "3fd74961-13f8-455f-9891-1a89776762cd",
   "metadata": {},
   "outputs": [
    {
     "data": {
      "text/plain": [
       "array([[0., 0.],\n",
       "       [0., 0.]])"
      ]
     },
     "execution_count": 32,
     "metadata": {},
     "output_type": "execute_result"
    }
   ],
   "source": [
    "np.zeros((2,2))"
   ]
  },
  {
   "cell_type": "code",
   "execution_count": 34,
   "id": "28727617-900f-428a-b7d3-5819c6b0bc5c",
   "metadata": {},
   "outputs": [
    {
     "data": {
      "text/plain": [
       "array([[0., 0., 0.],\n",
       "       [0., 0., 0.],\n",
       "       [0., 0., 0.]])"
      ]
     },
     "execution_count": 34,
     "metadata": {},
     "output_type": "execute_result"
    }
   ],
   "source": [
    "np.zeros((3,3))"
   ]
  },
  {
   "cell_type": "code",
   "execution_count": 35,
   "id": "15cf37ba-d033-4d39-8f82-3bc2145caef9",
   "metadata": {},
   "outputs": [
    {
     "data": {
      "text/plain": [
       "array([[0., 0., 0., 0., 0., 0., 0., 0., 0., 0., 0., 0., 0., 0., 0., 0.,\n",
       "        0., 0., 0., 0., 0., 0., 0., 0., 0., 0., 0., 0., 0., 0.],\n",
       "       [0., 0., 0., 0., 0., 0., 0., 0., 0., 0., 0., 0., 0., 0., 0., 0.,\n",
       "        0., 0., 0., 0., 0., 0., 0., 0., 0., 0., 0., 0., 0., 0.],\n",
       "       [0., 0., 0., 0., 0., 0., 0., 0., 0., 0., 0., 0., 0., 0., 0., 0.,\n",
       "        0., 0., 0., 0., 0., 0., 0., 0., 0., 0., 0., 0., 0., 0.],\n",
       "       [0., 0., 0., 0., 0., 0., 0., 0., 0., 0., 0., 0., 0., 0., 0., 0.,\n",
       "        0., 0., 0., 0., 0., 0., 0., 0., 0., 0., 0., 0., 0., 0.],\n",
       "       [0., 0., 0., 0., 0., 0., 0., 0., 0., 0., 0., 0., 0., 0., 0., 0.,\n",
       "        0., 0., 0., 0., 0., 0., 0., 0., 0., 0., 0., 0., 0., 0.],\n",
       "       [0., 0., 0., 0., 0., 0., 0., 0., 0., 0., 0., 0., 0., 0., 0., 0.,\n",
       "        0., 0., 0., 0., 0., 0., 0., 0., 0., 0., 0., 0., 0., 0.],\n",
       "       [0., 0., 0., 0., 0., 0., 0., 0., 0., 0., 0., 0., 0., 0., 0., 0.,\n",
       "        0., 0., 0., 0., 0., 0., 0., 0., 0., 0., 0., 0., 0., 0.],\n",
       "       [0., 0., 0., 0., 0., 0., 0., 0., 0., 0., 0., 0., 0., 0., 0., 0.,\n",
       "        0., 0., 0., 0., 0., 0., 0., 0., 0., 0., 0., 0., 0., 0.],\n",
       "       [0., 0., 0., 0., 0., 0., 0., 0., 0., 0., 0., 0., 0., 0., 0., 0.,\n",
       "        0., 0., 0., 0., 0., 0., 0., 0., 0., 0., 0., 0., 0., 0.],\n",
       "       [0., 0., 0., 0., 0., 0., 0., 0., 0., 0., 0., 0., 0., 0., 0., 0.,\n",
       "        0., 0., 0., 0., 0., 0., 0., 0., 0., 0., 0., 0., 0., 0.]])"
      ]
     },
     "execution_count": 35,
     "metadata": {},
     "output_type": "execute_result"
    }
   ],
   "source": [
    "np.zeros((10,30)) # 10  raws and 30 columns"
   ]
  },
  {
   "cell_type": "code",
   "execution_count": 3,
   "id": "6b0f41b1-fe28-4daa-993e-3d1d9d10467b",
   "metadata": {},
   "outputs": [
    {
     "data": {
      "text/plain": [
       "array([[0., 0., 0., 0., 0., 0., 0., 0., 0., 0.],\n",
       "       [0., 0., 0., 0., 0., 0., 0., 0., 0., 0.],\n",
       "       [0., 0., 0., 0., 0., 0., 0., 0., 0., 0.],\n",
       "       [0., 0., 0., 0., 0., 0., 0., 0., 0., 0.],\n",
       "       [0., 0., 0., 0., 0., 0., 0., 0., 0., 0.]])"
      ]
     },
     "execution_count": 3,
     "metadata": {},
     "output_type": "execute_result"
    }
   ],
   "source": [
    "np.zeros((5,10))"
   ]
  },
  {
   "cell_type": "code",
   "execution_count": 4,
   "id": "705563ca-f9e3-45a9-ba9c-12d0ed8bcddd",
   "metadata": {},
   "outputs": [
    {
     "name": "stdout",
     "output_type": "stream",
     "text": [
      "[[0. 0. 0. 0. 0. 0. 0. 0.]\n",
      " [0. 0. 0. 0. 0. 0. 0. 0.]\n",
      " [0. 0. 0. 0. 0. 0. 0. 0.]\n",
      " [0. 0. 0. 0. 0. 0. 0. 0.]\n",
      " [0. 0. 0. 0. 0. 0. 0. 0.]\n",
      " [0. 0. 0. 0. 0. 0. 0. 0.]]\n"
     ]
    }
   ],
   "source": [
    "n = (6,7)\n",
    "n1 = (6,8)\n",
    "\n",
    "print(np.zeros(n1))  # parameter tunning"
   ]
  },
  {
   "cell_type": "code",
   "execution_count": 5,
   "id": "6df7dcdb-05c4-43b1-8726-9a83b5577d34",
   "metadata": {},
   "outputs": [
    {
     "name": "stdout",
     "output_type": "stream",
     "text": [
      "[[0 0 0 0 0 0 0]\n",
      " [0 0 0 0 0 0 0]\n",
      " [0 0 0 0 0 0 0]\n",
      " [0 0 0 0 0 0 0]\n",
      " [0 0 0 0 0 0 0]\n",
      " [0 0 0 0 0 0 0]]\n"
     ]
    }
   ],
   "source": [
    "print(np.zeros(n, dtype = int))  # hyper parameter tunning"
   ]
  },
  {
   "cell_type": "code",
   "execution_count": 6,
   "id": "86df8650-c871-4de7-822a-58f2bfa57413",
   "metadata": {},
   "outputs": [
    {
     "data": {
      "text/plain": [
       "(6, 7)"
      ]
     },
     "execution_count": 6,
     "metadata": {},
     "output_type": "execute_result"
    }
   ],
   "source": [
    "n"
   ]
  },
  {
   "cell_type": "code",
   "execution_count": 7,
   "id": "4a874ffc-168e-48f1-9e5d-0ad36afb8fa6",
   "metadata": {},
   "outputs": [
    {
     "data": {
      "text/plain": [
       "(6, 8)"
      ]
     },
     "execution_count": 7,
     "metadata": {},
     "output_type": "execute_result"
    }
   ],
   "source": [
    "n1"
   ]
  },
  {
   "cell_type": "code",
   "execution_count": 8,
   "id": "0d18f988-685e-416b-ab7c-f1654a02be3a",
   "metadata": {},
   "outputs": [
    {
     "name": "stdout",
     "output_type": "stream",
     "text": [
      "[[0. 0. 0. 0. 0. 0. 0. 0.]\n",
      " [0. 0. 0. 0. 0. 0. 0. 0.]\n",
      " [0. 0. 0. 0. 0. 0. 0. 0.]\n",
      " [0. 0. 0. 0. 0. 0. 0. 0.]\n",
      " [0. 0. 0. 0. 0. 0. 0. 0.]\n",
      " [0. 0. 0. 0. 0. 0. 0. 0.]]\n"
     ]
    }
   ],
   "source": [
    "print(np.zeros(n1))"
   ]
  },
  {
   "cell_type": "code",
   "execution_count": 11,
   "id": "e6b67471-9bff-42bc-ac01-9a6e067068c1",
   "metadata": {},
   "outputs": [
    {
     "name": "stdout",
     "output_type": "stream",
     "text": [
      "[[[0 0 0 0]\n",
      "  [0 0 0 0]\n",
      "  [0 0 0 0]]\n",
      "\n",
      " [[0 0 0 0]\n",
      "  [0 0 0 0]\n",
      "  [0 0 0 0]]]\n"
     ]
    }
   ],
   "source": [
    "print(np.zeros((2,3,4),dtype = int))"
   ]
  },
  {
   "cell_type": "code",
   "execution_count": 12,
   "id": "df0a4621-6aeb-4ac0-a85f-0c568a9a49fd",
   "metadata": {},
   "outputs": [
    {
     "name": "stdout",
     "output_type": "stream",
     "text": [
      "[[[0 0 0 0]\n",
      "  [0 0 0 0]\n",
      "  [0 0 0 0]]\n",
      "\n",
      " [[0 0 0 0]\n",
      "  [0 0 0 0]\n",
      "  [0 0 0 0]]\n",
      "\n",
      " [[0 0 0 0]\n",
      "  [0 0 0 0]\n",
      "  [0 0 0 0]]]\n"
     ]
    }
   ],
   "source": [
    "print(np.zeros((3,3,4),dtype = int))"
   ]
  },
  {
   "cell_type": "code",
   "execution_count": 13,
   "id": "fcb6e826-11e4-40ee-b3b7-a02737f3f994",
   "metadata": {},
   "outputs": [
    {
     "name": "stdout",
     "output_type": "stream",
     "text": [
      "[[[0 0 0]\n",
      "  [0 0 0]\n",
      "  [0 0 0]]\n",
      "\n",
      " [[0 0 0]\n",
      "  [0 0 0]\n",
      "  [0 0 0]]\n",
      "\n",
      " [[0 0 0]\n",
      "  [0 0 0]\n",
      "  [0 0 0]]]\n"
     ]
    }
   ],
   "source": [
    "print(np.zeros((3,3,3),dtype = int))"
   ]
  },
  {
   "cell_type": "markdown",
   "id": "9838c766-1053-4378-bc8b-4ccfdc6f9536",
   "metadata": {},
   "source": [
    "### Arrays of Ones :"
   ]
  },
  {
   "cell_type": "code",
   "execution_count": 14,
   "id": "8ab74c6e-aef1-4a0a-a847-a8ac311cbc72",
   "metadata": {},
   "outputs": [
    {
     "data": {
      "text/plain": [
       "array([1., 1., 1.])"
      ]
     },
     "execution_count": 14,
     "metadata": {},
     "output_type": "execute_result"
    }
   ],
   "source": [
    "np.ones(3)"
   ]
  },
  {
   "cell_type": "code",
   "execution_count": 15,
   "id": "1b360e6f-4287-4493-90e4-7c4a4ef60312",
   "metadata": {},
   "outputs": [
    {
     "data": {
      "text/plain": [
       "array([1, 1, 1])"
      ]
     },
     "execution_count": 15,
     "metadata": {},
     "output_type": "execute_result"
    }
   ],
   "source": [
    "np.ones(3,dtype = int)"
   ]
  },
  {
   "cell_type": "code",
   "execution_count": 16,
   "id": "f8306830-e07d-456d-ab04-171ee287b9db",
   "metadata": {},
   "outputs": [
    {
     "data": {
      "text/plain": [
       "(6, 7)"
      ]
     },
     "execution_count": 16,
     "metadata": {},
     "output_type": "execute_result"
    }
   ],
   "source": [
    "n"
   ]
  },
  {
   "cell_type": "code",
   "execution_count": 17,
   "id": "1cea3f9e-b814-460e-92fa-2d31a27a7d78",
   "metadata": {},
   "outputs": [
    {
     "data": {
      "text/plain": [
       "(6, 8)"
      ]
     },
     "execution_count": 17,
     "metadata": {},
     "output_type": "execute_result"
    }
   ],
   "source": [
    "n1"
   ]
  },
  {
   "cell_type": "code",
   "execution_count": 18,
   "id": "4c8a22e7-b32b-4752-b846-314aededf1ae",
   "metadata": {},
   "outputs": [
    {
     "data": {
      "text/plain": [
       "array([[1., 1., 1., 1., 1., 1., 1.],\n",
       "       [1., 1., 1., 1., 1., 1., 1.],\n",
       "       [1., 1., 1., 1., 1., 1., 1.],\n",
       "       [1., 1., 1., 1., 1., 1., 1.],\n",
       "       [1., 1., 1., 1., 1., 1., 1.],\n",
       "       [1., 1., 1., 1., 1., 1., 1.]])"
      ]
     },
     "execution_count": 18,
     "metadata": {},
     "output_type": "execute_result"
    }
   ],
   "source": [
    "np.ones(n)"
   ]
  },
  {
   "cell_type": "code",
   "execution_count": 19,
   "id": "ac4e7ea0-5285-4fad-a455-226b7df72dc1",
   "metadata": {},
   "outputs": [
    {
     "data": {
      "text/plain": [
       "array([[1, 1, 1, 1],\n",
       "       [1, 1, 1, 1],\n",
       "       [1, 1, 1, 1],\n",
       "       [1, 1, 1, 1],\n",
       "       [1, 1, 1, 1]])"
      ]
     },
     "execution_count": 19,
     "metadata": {},
     "output_type": "execute_result"
    }
   ],
   "source": [
    "np.ones((5,4),dtype = int)"
   ]
  },
  {
   "cell_type": "code",
   "execution_count": 20,
   "id": "6e933fa8-f6af-4525-95f0-c41aef181b74",
   "metadata": {},
   "outputs": [
    {
     "ename": "SyntaxError",
     "evalue": "invalid syntax (2469254449.py, line 1)",
     "output_type": "error",
     "traceback": [
      "\u001b[1;36m  Cell \u001b[1;32mIn[20], line 1\u001b[1;36m\u001b[0m\n\u001b[1;33m    np.\u001b[0m\n\u001b[1;37m       ^\u001b[0m\n\u001b[1;31mSyntaxError\u001b[0m\u001b[1;31m:\u001b[0m invalid syntax\n"
     ]
    }
   ],
   "source": [
    "np."
   ]
  },
  {
   "cell_type": "code",
   "execution_count": 21,
   "id": "6a09992e-c66b-49bc-8785-20d6fda8f694",
   "metadata": {},
   "outputs": [
    {
     "ename": "AttributeError",
     "evalue": "module 'numpy' has no attribute 'twos'",
     "output_type": "error",
     "traceback": [
      "\u001b[1;31m---------------------------------------------------------------------------\u001b[0m",
      "\u001b[1;31mAttributeError\u001b[0m                            Traceback (most recent call last)",
      "Cell \u001b[1;32mIn[21], line 1\u001b[0m\n\u001b[1;32m----> 1\u001b[0m np\u001b[38;5;241m.\u001b[39mtwos((\u001b[38;5;241m2\u001b[39m,\u001b[38;5;241m3\u001b[39m))\n",
      "File \u001b[1;32m~\\anaconda3\\Lib\\site-packages\\numpy\\__init__.py:414\u001b[0m, in \u001b[0;36m__getattr__\u001b[1;34m(attr)\u001b[0m\n\u001b[0;32m    411\u001b[0m     \u001b[38;5;28;01mimport\u001b[39;00m\u001b[38;5;250m \u001b[39m\u001b[38;5;21;01mnumpy\u001b[39;00m\u001b[38;5;21;01m.\u001b[39;00m\u001b[38;5;21;01mchar\u001b[39;00m\u001b[38;5;250m \u001b[39m\u001b[38;5;28;01mas\u001b[39;00m\u001b[38;5;250m \u001b[39m\u001b[38;5;21;01mchar\u001b[39;00m\n\u001b[0;32m    412\u001b[0m     \u001b[38;5;28;01mreturn\u001b[39;00m char\u001b[38;5;241m.\u001b[39mchararray\n\u001b[1;32m--> 414\u001b[0m \u001b[38;5;28;01mraise\u001b[39;00m \u001b[38;5;167;01mAttributeError\u001b[39;00m(\u001b[38;5;124m\"\u001b[39m\u001b[38;5;124mmodule \u001b[39m\u001b[38;5;132;01m{!r}\u001b[39;00m\u001b[38;5;124m has no attribute \u001b[39m\u001b[38;5;124m\"\u001b[39m\n\u001b[0;32m    415\u001b[0m                      \u001b[38;5;124m\"\u001b[39m\u001b[38;5;132;01m{!r}\u001b[39;00m\u001b[38;5;124m\"\u001b[39m\u001b[38;5;241m.\u001b[39mformat(\u001b[38;5;18m__name__\u001b[39m, attr))\n",
      "\u001b[1;31mAttributeError\u001b[0m: module 'numpy' has no attribute 'twos'"
     ]
    }
   ],
   "source": [
    "np.twos((2,3)) "
   ]
  },
  {
   "cell_type": "code",
   "execution_count": 22,
   "id": "67b0eea5-6573-4938-8336-4d8be21206e6",
   "metadata": {},
   "outputs": [
    {
     "ename": "AttributeError",
     "evalue": "module 'numpy' has no attribute 'thress'",
     "output_type": "error",
     "traceback": [
      "\u001b[1;31m---------------------------------------------------------------------------\u001b[0m",
      "\u001b[1;31mAttributeError\u001b[0m                            Traceback (most recent call last)",
      "Cell \u001b[1;32mIn[22], line 1\u001b[0m\n\u001b[1;32m----> 1\u001b[0m np\u001b[38;5;241m.\u001b[39mthress((\u001b[38;5;241m3\u001b[39m,\u001b[38;5;241m4\u001b[39m))\n",
      "File \u001b[1;32m~\\anaconda3\\Lib\\site-packages\\numpy\\__init__.py:414\u001b[0m, in \u001b[0;36m__getattr__\u001b[1;34m(attr)\u001b[0m\n\u001b[0;32m    411\u001b[0m     \u001b[38;5;28;01mimport\u001b[39;00m\u001b[38;5;250m \u001b[39m\u001b[38;5;21;01mnumpy\u001b[39;00m\u001b[38;5;21;01m.\u001b[39;00m\u001b[38;5;21;01mchar\u001b[39;00m\u001b[38;5;250m \u001b[39m\u001b[38;5;28;01mas\u001b[39;00m\u001b[38;5;250m \u001b[39m\u001b[38;5;21;01mchar\u001b[39;00m\n\u001b[0;32m    412\u001b[0m     \u001b[38;5;28;01mreturn\u001b[39;00m char\u001b[38;5;241m.\u001b[39mchararray\n\u001b[1;32m--> 414\u001b[0m \u001b[38;5;28;01mraise\u001b[39;00m \u001b[38;5;167;01mAttributeError\u001b[39;00m(\u001b[38;5;124m\"\u001b[39m\u001b[38;5;124mmodule \u001b[39m\u001b[38;5;132;01m{!r}\u001b[39;00m\u001b[38;5;124m has no attribute \u001b[39m\u001b[38;5;124m\"\u001b[39m\n\u001b[0;32m    415\u001b[0m                      \u001b[38;5;124m\"\u001b[39m\u001b[38;5;132;01m{!r}\u001b[39;00m\u001b[38;5;124m\"\u001b[39m\u001b[38;5;241m.\u001b[39mformat(\u001b[38;5;18m__name__\u001b[39m, attr))\n",
      "\u001b[1;31mAttributeError\u001b[0m: module 'numpy' has no attribute 'thress'"
     ]
    }
   ],
   "source": [
    "np.thress((3,4))"
   ]
  },
  {
   "cell_type": "code",
   "execution_count": 23,
   "id": "ac35c491-6eba-438d-a502-57640bd3f9f8",
   "metadata": {},
   "outputs": [
    {
     "data": {
      "text/plain": [
       "array([1., 1.])"
      ]
     },
     "execution_count": 23,
     "metadata": {},
     "output_type": "execute_result"
    }
   ],
   "source": [
    "np.ones(2)"
   ]
  },
  {
   "cell_type": "code",
   "execution_count": 24,
   "id": "62518a27-bdaf-4ef5-b093-9d15a51974da",
   "metadata": {},
   "outputs": [
    {
     "data": {
      "text/plain": [
       "array([[1., 1., 1., 1.],\n",
       "       [1., 1., 1., 1.]])"
      ]
     },
     "execution_count": 24,
     "metadata": {},
     "output_type": "execute_result"
    }
   ],
   "source": [
    "np.ones((2,4))"
   ]
  },
  {
   "cell_type": "code",
   "execution_count": 25,
   "id": "44057760-cea1-43eb-8b66-c2d04dca07a8",
   "metadata": {},
   "outputs": [
    {
     "data": {
      "text/plain": [
       "array([[1, 1, 1, 1, 1, 1, 1, 1, 1, 1],\n",
       "       [1, 1, 1, 1, 1, 1, 1, 1, 1, 1],\n",
       "       [1, 1, 1, 1, 1, 1, 1, 1, 1, 1],\n",
       "       [1, 1, 1, 1, 1, 1, 1, 1, 1, 1],\n",
       "       [1, 1, 1, 1, 1, 1, 1, 1, 1, 1],\n",
       "       [1, 1, 1, 1, 1, 1, 1, 1, 1, 1]])"
      ]
     },
     "execution_count": 25,
     "metadata": {},
     "output_type": "execute_result"
    }
   ],
   "source": [
    "np.ones((6,10),dtype = int)"
   ]
  },
  {
   "cell_type": "code",
   "execution_count": 26,
   "id": "bc0eb7f2-8880-4109-b643-327ee0d0832d",
   "metadata": {},
   "outputs": [
    {
     "ename": "AttributeError",
     "evalue": "module 'numpy' has no attribute 'twos'",
     "output_type": "error",
     "traceback": [
      "\u001b[1;31m---------------------------------------------------------------------------\u001b[0m",
      "\u001b[1;31mAttributeError\u001b[0m                            Traceback (most recent call last)",
      "Cell \u001b[1;32mIn[26], line 1\u001b[0m\n\u001b[1;32m----> 1\u001b[0m np\u001b[38;5;241m.\u001b[39mtwos((\u001b[38;5;241m2\u001b[39m,\u001b[38;5;241m3\u001b[39m))\n",
      "File \u001b[1;32m~\\anaconda3\\Lib\\site-packages\\numpy\\__init__.py:414\u001b[0m, in \u001b[0;36m__getattr__\u001b[1;34m(attr)\u001b[0m\n\u001b[0;32m    411\u001b[0m     \u001b[38;5;28;01mimport\u001b[39;00m\u001b[38;5;250m \u001b[39m\u001b[38;5;21;01mnumpy\u001b[39;00m\u001b[38;5;21;01m.\u001b[39;00m\u001b[38;5;21;01mchar\u001b[39;00m\u001b[38;5;250m \u001b[39m\u001b[38;5;28;01mas\u001b[39;00m\u001b[38;5;250m \u001b[39m\u001b[38;5;21;01mchar\u001b[39;00m\n\u001b[0;32m    412\u001b[0m     \u001b[38;5;28;01mreturn\u001b[39;00m char\u001b[38;5;241m.\u001b[39mchararray\n\u001b[1;32m--> 414\u001b[0m \u001b[38;5;28;01mraise\u001b[39;00m \u001b[38;5;167;01mAttributeError\u001b[39;00m(\u001b[38;5;124m\"\u001b[39m\u001b[38;5;124mmodule \u001b[39m\u001b[38;5;132;01m{!r}\u001b[39;00m\u001b[38;5;124m has no attribute \u001b[39m\u001b[38;5;124m\"\u001b[39m\n\u001b[0;32m    415\u001b[0m                      \u001b[38;5;124m\"\u001b[39m\u001b[38;5;132;01m{!r}\u001b[39;00m\u001b[38;5;124m\"\u001b[39m\u001b[38;5;241m.\u001b[39mformat(\u001b[38;5;18m__name__\u001b[39m, attr))\n",
      "\u001b[1;31mAttributeError\u001b[0m: module 'numpy' has no attribute 'twos'"
     ]
    }
   ],
   "source": [
    "np.twos((2,3))"
   ]
  },
  {
   "cell_type": "code",
   "execution_count": 27,
   "id": "0411171d-2224-4a4a-a899-63c2475a79ad",
   "metadata": {},
   "outputs": [
    {
     "ename": "AttributeError",
     "evalue": "module 'numpy' has no attribute 'threes'",
     "output_type": "error",
     "traceback": [
      "\u001b[1;31m---------------------------------------------------------------------------\u001b[0m",
      "\u001b[1;31mAttributeError\u001b[0m                            Traceback (most recent call last)",
      "Cell \u001b[1;32mIn[27], line 1\u001b[0m\n\u001b[1;32m----> 1\u001b[0m np\u001b[38;5;241m.\u001b[39mthrees((\u001b[38;5;241m4\u001b[39m,\u001b[38;5;241m5\u001b[39m))\n",
      "File \u001b[1;32m~\\anaconda3\\Lib\\site-packages\\numpy\\__init__.py:414\u001b[0m, in \u001b[0;36m__getattr__\u001b[1;34m(attr)\u001b[0m\n\u001b[0;32m    411\u001b[0m     \u001b[38;5;28;01mimport\u001b[39;00m\u001b[38;5;250m \u001b[39m\u001b[38;5;21;01mnumpy\u001b[39;00m\u001b[38;5;21;01m.\u001b[39;00m\u001b[38;5;21;01mchar\u001b[39;00m\u001b[38;5;250m \u001b[39m\u001b[38;5;28;01mas\u001b[39;00m\u001b[38;5;250m \u001b[39m\u001b[38;5;21;01mchar\u001b[39;00m\n\u001b[0;32m    412\u001b[0m     \u001b[38;5;28;01mreturn\u001b[39;00m char\u001b[38;5;241m.\u001b[39mchararray\n\u001b[1;32m--> 414\u001b[0m \u001b[38;5;28;01mraise\u001b[39;00m \u001b[38;5;167;01mAttributeError\u001b[39;00m(\u001b[38;5;124m\"\u001b[39m\u001b[38;5;124mmodule \u001b[39m\u001b[38;5;132;01m{!r}\u001b[39;00m\u001b[38;5;124m has no attribute \u001b[39m\u001b[38;5;124m\"\u001b[39m\n\u001b[0;32m    415\u001b[0m                      \u001b[38;5;124m\"\u001b[39m\u001b[38;5;132;01m{!r}\u001b[39;00m\u001b[38;5;124m\"\u001b[39m\u001b[38;5;241m.\u001b[39mformat(\u001b[38;5;18m__name__\u001b[39m, attr))\n",
      "\u001b[1;31mAttributeError\u001b[0m: module 'numpy' has no attribute 'threes'"
     ]
    }
   ],
   "source": [
    "np.threes((4,5))"
   ]
  },
  {
   "cell_type": "markdown",
   "id": "f44b9484-e1c5-4364-999b-e72ee9deaae3",
   "metadata": {},
   "source": [
    "### range :"
   ]
  },
  {
   "cell_type": "code",
   "execution_count": 28,
   "id": "a070826b-0cc8-4811-a199-ddca88ba6e53",
   "metadata": {},
   "outputs": [
    {
     "data": {
      "text/plain": [
       "range(0, 5)"
      ]
     },
     "execution_count": 28,
     "metadata": {},
     "output_type": "execute_result"
    }
   ],
   "source": [
    "range(5)"
   ]
  },
  {
   "cell_type": "code",
   "execution_count": 29,
   "id": "dc796ecf-b66a-4b4a-8eb3-239819e0ee0f",
   "metadata": {},
   "outputs": [
    {
     "data": {
      "text/plain": [
       "range(0, 10)"
      ]
     },
     "execution_count": 29,
     "metadata": {},
     "output_type": "execute_result"
    }
   ],
   "source": [
    "r = range(10)\n",
    "r"
   ]
  },
  {
   "cell_type": "code",
   "execution_count": 30,
   "id": "6fe5b9f8-7aca-46f5-b9cd-82fea4786c28",
   "metadata": {},
   "outputs": [
    {
     "name": "stdout",
     "output_type": "stream",
     "text": [
      "0\n",
      "1\n",
      "2\n",
      "3\n",
      "4\n",
      "5\n",
      "6\n",
      "7\n",
      "8\n",
      "9\n"
     ]
    }
   ],
   "source": [
    "for i in r:\n",
    "    print(i)"
   ]
  },
  {
   "cell_type": "code",
   "execution_count": 31,
   "id": "5ffe868a-88e0-4c78-b37b-6ae7a8e5e346",
   "metadata": {},
   "outputs": [
    {
     "data": {
      "text/plain": [
       "[0, 1, 2, 3, 4, 5, 6, 7, 8, 9]"
      ]
     },
     "execution_count": 31,
     "metadata": {},
     "output_type": "execute_result"
    }
   ],
   "source": [
    "list(range(10))"
   ]
  },
  {
   "cell_type": "code",
   "execution_count": 32,
   "id": "ce362766-783d-4b98-8013-942e1c1bc1ac",
   "metadata": {},
   "outputs": [
    {
     "data": {
      "text/plain": [
       "[1, 4, 7]"
      ]
     },
     "execution_count": 32,
     "metadata": {},
     "output_type": "execute_result"
    }
   ],
   "source": [
    "list(range(1,10,3))"
   ]
  },
  {
   "cell_type": "code",
   "execution_count": 33,
   "id": "54fbac76-75fe-430a-a56e-47e1192f08d9",
   "metadata": {},
   "outputs": [
    {
     "data": {
      "text/plain": [
       "[0, 1, 2, 3, 4, 5, 6, 7, 8, 9, 10, 11]"
      ]
     },
     "execution_count": 33,
     "metadata": {},
     "output_type": "execute_result"
    }
   ],
   "source": [
    "y = list(range(12))\n",
    "y"
   ]
  },
  {
   "cell_type": "markdown",
   "id": "d881c538-2569-4149-90f9-8b7c432f7ed5",
   "metadata": {},
   "source": [
    "### random module :\n",
    "- random is a module we can simply import it\n",
    "- import random , then random will be imported and dont need to write np.random.rand,  now we can directly use it\n",
    "- rand() : it will matrix or array values lies between 0 to 1 and every execution values will be change\n",
    "- randit() : it generates a random integer (whole number) within a specified range.\n",
    "- randn() : generates random numbers from a standard normal distribution"
   ]
  },
  {
   "cell_type": "code",
   "execution_count": 34,
   "id": "ac99984c-f3c0-4519-aafd-c58440b72cac",
   "metadata": {},
   "outputs": [
    {
     "ename": "NameError",
     "evalue": "name 'rand' is not defined",
     "output_type": "error",
     "traceback": [
      "\u001b[1;31m---------------------------------------------------------------------------\u001b[0m",
      "\u001b[1;31mNameError\u001b[0m                                 Traceback (most recent call last)",
      "Cell \u001b[1;32mIn[34], line 1\u001b[0m\n\u001b[1;32m----> 1\u001b[0m rand(\u001b[38;5;241m3\u001b[39m,\u001b[38;5;241m2\u001b[39m)\n",
      "\u001b[1;31mNameError\u001b[0m: name 'rand' is not defined"
     ]
    }
   ],
   "source": [
    "rand(3,2)"
   ]
  },
  {
   "cell_type": "code",
   "execution_count": 35,
   "id": "30c5514f-a728-455b-ac53-bb7f521f0819",
   "metadata": {},
   "outputs": [
    {
     "ename": "NameError",
     "evalue": "name 'random' is not defined",
     "output_type": "error",
     "traceback": [
      "\u001b[1;31m---------------------------------------------------------------------------\u001b[0m",
      "\u001b[1;31mNameError\u001b[0m                                 Traceback (most recent call last)",
      "Cell \u001b[1;32mIn[35], line 1\u001b[0m\n\u001b[1;32m----> 1\u001b[0m random\u001b[38;5;241m.\u001b[39mrand(\u001b[38;5;241m3\u001b[39m,\u001b[38;5;241m2\u001b[39m)\n",
      "\u001b[1;31mNameError\u001b[0m: name 'random' is not defined"
     ]
    }
   ],
   "source": [
    "random.rand(3,2) # not proper way to calling it"
   ]
  },
  {
   "cell_type": "code",
   "execution_count": 36,
   "id": "5fb9e1a0-ae91-49b1-b822-53d557ac3309",
   "metadata": {},
   "outputs": [
    {
     "data": {
      "text/plain": [
       "array([[0.54749234, 0.45757781],\n",
       "       [0.37577736, 0.94788273],\n",
       "       [0.23806486, 0.67494871]])"
      ]
     },
     "execution_count": 36,
     "metadata": {},
     "output_type": "execute_result"
    }
   ],
   "source": [
    "np.random.rand(3,2) # rand() will always give values under 0 to 1"
   ]
  },
  {
   "cell_type": "code",
   "execution_count": 38,
   "id": "df5c66d5-7e1a-4da1-938d-63b5ba272351",
   "metadata": {},
   "outputs": [
    {
     "data": {
      "text/plain": [
       "array([0.93356439, 0.14209203, 0.06572437, 0.78384984, 0.69629759])"
      ]
     },
     "execution_count": 38,
     "metadata": {},
     "output_type": "execute_result"
    }
   ],
   "source": [
    "np.random.rand(5)"
   ]
  },
  {
   "cell_type": "code",
   "execution_count": 39,
   "id": "5e258c2a-04f0-4f57-b180-3056fb79f384",
   "metadata": {},
   "outputs": [
    {
     "data": {
      "text/plain": [
       "array([0.54043194, 0.30390447, 0.70799995, 0.31279986])"
      ]
     },
     "execution_count": 39,
     "metadata": {},
     "output_type": "execute_result"
    }
   ],
   "source": [
    "np.random.rand(4)"
   ]
  },
  {
   "cell_type": "code",
   "execution_count": 40,
   "id": "042d1676-1b56-4048-aeed-788040612f85",
   "metadata": {},
   "outputs": [
    {
     "ename": "AttributeError",
     "evalue": "module 'numpy' has no attribute 'rand'",
     "output_type": "error",
     "traceback": [
      "\u001b[1;31m---------------------------------------------------------------------------\u001b[0m",
      "\u001b[1;31mAttributeError\u001b[0m                            Traceback (most recent call last)",
      "Cell \u001b[1;32mIn[40], line 1\u001b[0m\n\u001b[1;32m----> 1\u001b[0m np\u001b[38;5;241m.\u001b[39mrand(\u001b[38;5;241m4\u001b[39m)\n",
      "File \u001b[1;32m~\\anaconda3\\Lib\\site-packages\\numpy\\__init__.py:414\u001b[0m, in \u001b[0;36m__getattr__\u001b[1;34m(attr)\u001b[0m\n\u001b[0;32m    411\u001b[0m     \u001b[38;5;28;01mimport\u001b[39;00m\u001b[38;5;250m \u001b[39m\u001b[38;5;21;01mnumpy\u001b[39;00m\u001b[38;5;21;01m.\u001b[39;00m\u001b[38;5;21;01mchar\u001b[39;00m\u001b[38;5;250m \u001b[39m\u001b[38;5;28;01mas\u001b[39;00m\u001b[38;5;250m \u001b[39m\u001b[38;5;21;01mchar\u001b[39;00m\n\u001b[0;32m    412\u001b[0m     \u001b[38;5;28;01mreturn\u001b[39;00m char\u001b[38;5;241m.\u001b[39mchararray\n\u001b[1;32m--> 414\u001b[0m \u001b[38;5;28;01mraise\u001b[39;00m \u001b[38;5;167;01mAttributeError\u001b[39;00m(\u001b[38;5;124m\"\u001b[39m\u001b[38;5;124mmodule \u001b[39m\u001b[38;5;132;01m{!r}\u001b[39;00m\u001b[38;5;124m has no attribute \u001b[39m\u001b[38;5;124m\"\u001b[39m\n\u001b[0;32m    415\u001b[0m                      \u001b[38;5;124m\"\u001b[39m\u001b[38;5;132;01m{!r}\u001b[39;00m\u001b[38;5;124m\"\u001b[39m\u001b[38;5;241m.\u001b[39mformat(\u001b[38;5;18m__name__\u001b[39m, attr))\n",
      "\u001b[1;31mAttributeError\u001b[0m: module 'numpy' has no attribute 'rand'"
     ]
    }
   ],
   "source": [
    "np.rand(4) # Wrong way to callig it"
   ]
  },
  {
   "cell_type": "code",
   "execution_count": 42,
   "id": "8b5ea717-1b11-4646-9810-ca3fa4bad747",
   "metadata": {},
   "outputs": [
    {
     "data": {
      "text/plain": [
       "array([[0.19317402, 0.9119154 , 0.63864379, 0.23433651],\n",
       "       [0.09435158, 0.87260463, 0.28977761, 0.19144974]])"
      ]
     },
     "execution_count": 42,
     "metadata": {},
     "output_type": "execute_result"
    }
   ],
   "source": [
    "np.random.rand(2,4) # 2x4 matrix values lies between 0 to 1"
   ]
  },
  {
   "cell_type": "markdown",
   "id": "08c671fa-310c-4d4d-afc3-75bc0ee31b7b",
   "metadata": {},
   "source": [
    "### randint() :\n"
   ]
  },
  {
   "cell_type": "code",
   "execution_count": 45,
   "id": "8ddb91f5-dc5c-482e-90ed-594f231bca8b",
   "metadata": {},
   "outputs": [
    {
     "data": {
      "text/plain": [
       "array([1, 5], dtype=int32)"
      ]
     },
     "execution_count": 45,
     "metadata": {},
     "output_type": "execute_result"
    }
   ],
   "source": [
    "np.random.randint((2,10))"
   ]
  },
  {
   "cell_type": "code",
   "execution_count": 46,
   "id": "d11584ae-f046-4e99-9e39-bbd026addeec",
   "metadata": {},
   "outputs": [
    {
     "data": {
      "text/plain": [
       "0"
      ]
     },
     "execution_count": 46,
     "metadata": {},
     "output_type": "execute_result"
    }
   ],
   "source": [
    "np.random.randint(0,1) "
   ]
  },
  {
   "cell_type": "code",
   "execution_count": 3,
   "id": "327b8544-2c0b-42a0-86bc-ba48526393e6",
   "metadata": {},
   "outputs": [
    {
     "data": {
      "text/plain": [
       "13"
      ]
     },
     "execution_count": 3,
     "metadata": {},
     "output_type": "execute_result"
    }
   ],
   "source": [
    "np.random.randint(2,20)  #high(2nd argument) exclusive"
   ]
  },
  {
   "cell_type": "code",
   "execution_count": 4,
   "id": "053829af-c83d-4a95-820a-b13a770b1838",
   "metadata": {},
   "outputs": [
    {
     "data": {
      "text/plain": [
       "array([14, 13, 14, 11, 11], dtype=int32)"
      ]
     },
     "execution_count": 4,
     "metadata": {},
     "output_type": "execute_result"
    }
   ],
   "source": [
    "np.random.randint(10,20,5) # here 5 is a size "
   ]
  },
  {
   "cell_type": "code",
   "execution_count": 5,
   "id": "685a6477-098c-4500-a2b6-e9c98cf1a3fe",
   "metadata": {},
   "outputs": [
    {
     "data": {
      "text/plain": [
       "array([26, 22, 28, 12, 12, 15, 16, 19, 18, 11, 12, 12, 11, 21, 28, 11],\n",
       "      dtype=int32)"
      ]
     },
     "execution_count": 5,
     "metadata": {},
     "output_type": "execute_result"
    }
   ],
   "source": [
    "np.random.randint(10,30,size=16)"
   ]
  },
  {
   "cell_type": "code",
   "execution_count": 6,
   "id": "bdf431f7-11ff-45fb-b0ae-e90b22ac1ec2",
   "metadata": {},
   "outputs": [
    {
     "data": {
      "text/plain": [
       "array([3, 2, 5, 1], dtype=int32)"
      ]
     },
     "execution_count": 6,
     "metadata": {},
     "output_type": "execute_result"
    }
   ],
   "source": [
    "np.random.randint(1,6,4)"
   ]
  },
  {
   "cell_type": "code",
   "execution_count": 7,
   "id": "07b147a6-23bc-44d8-9959-026d57357cad",
   "metadata": {},
   "outputs": [
    {
     "data": {
      "text/plain": [
       "array([0.56938388, 0.03430427, 0.94397971])"
      ]
     },
     "execution_count": 7,
     "metadata": {},
     "output_type": "execute_result"
    }
   ],
   "source": [
    "np.random.rand(3)"
   ]
  },
  {
   "cell_type": "code",
   "execution_count": 8,
   "id": "da115a01-80b9-4cbf-a6d4-244b557cbe56",
   "metadata": {},
   "outputs": [
    {
     "data": {
      "text/plain": [
       "0"
      ]
     },
     "execution_count": 8,
     "metadata": {},
     "output_type": "execute_result"
    }
   ],
   "source": [
    "np.random.randint(1)"
   ]
  },
  {
   "cell_type": "code",
   "execution_count": 9,
   "id": "e4d39302-5e41-4357-a569-6ae522f5bead",
   "metadata": {},
   "outputs": [
    {
     "ename": "ValueError",
     "evalue": "low >= high",
     "output_type": "error",
     "traceback": [
      "\u001b[1;31m---------------------------------------------------------------------------\u001b[0m",
      "\u001b[1;31mValueError\u001b[0m                                Traceback (most recent call last)",
      "Cell \u001b[1;32mIn[9], line 1\u001b[0m\n\u001b[1;32m----> 1\u001b[0m np\u001b[38;5;241m.\u001b[39mrandom\u001b[38;5;241m.\u001b[39mrandint(\u001b[38;5;241m30\u001b[39m,\u001b[38;5;241m20\u001b[39m,\u001b[38;5;241m5\u001b[39m)\n",
      "File \u001b[1;32mnumpy\\\\random\\\\mtrand.pyx:796\u001b[0m, in \u001b[0;36mnumpy.random.mtrand.RandomState.randint\u001b[1;34m()\u001b[0m\n",
      "File \u001b[1;32mnumpy\\\\random\\\\_bounded_integers.pyx:1425\u001b[0m, in \u001b[0;36mnumpy.random._bounded_integers._rand_int32\u001b[1;34m()\u001b[0m\n",
      "\u001b[1;31mValueError\u001b[0m: low >= high"
     ]
    }
   ],
   "source": [
    "np.random.randint(30,20,5) # low must be less than equal to high"
   ]
  },
  {
   "cell_type": "code",
   "execution_count": 10,
   "id": "b53fa575-89e1-45c5-af7e-d50d23268531",
   "metadata": {},
   "outputs": [
    {
     "data": {
      "text/plain": [
       "array([  3, -28,  17,  13,  -9, -11, -30,  -9,  -4, -15], dtype=int32)"
      ]
     },
     "execution_count": 10,
     "metadata": {},
     "output_type": "execute_result"
    }
   ],
   "source": [
    "np.random.randint(-30,20,10)"
   ]
  },
  {
   "cell_type": "code",
   "execution_count": 11,
   "id": "29b334f3-48e3-423b-9ce6-428e286cabd3",
   "metadata": {},
   "outputs": [
    {
     "data": {
      "text/plain": [
       "array([24, 23, 27, 26, 28, 21, 24, 28, 25, 23], dtype=int32)"
      ]
     },
     "execution_count": 11,
     "metadata": {},
     "output_type": "execute_result"
    }
   ],
   "source": [
    "np.random.randint(20,30,10)"
   ]
  },
  {
   "cell_type": "code",
   "execution_count": 12,
   "id": "bd5240de-25d0-456d-ae70-808934fa74f8",
   "metadata": {},
   "outputs": [
    {
     "data": {
      "text/plain": [
       "5"
      ]
     },
     "execution_count": 12,
     "metadata": {},
     "output_type": "execute_result"
    }
   ],
   "source": [
    "np.random.randint(5,9) # if we dont give any size then by default it considered as size = 1"
   ]
  },
  {
   "cell_type": "code",
   "execution_count": 13,
   "id": "b2b14b03-28be-4ba5-9580-bec290e3ede5",
   "metadata": {},
   "outputs": [
    {
     "data": {
      "text/plain": [
       "array([ 5,  2, 10,  1, 11,  7, 11,  8,  3,  8], dtype=int32)"
      ]
     },
     "execution_count": 13,
     "metadata": {},
     "output_type": "execute_result"
    }
   ],
   "source": [
    "np.random.randint(1,12,10)"
   ]
  },
  {
   "cell_type": "code",
   "execution_count": 14,
   "id": "eebe04ce-29a7-44f0-8cd9-93f3f5c3061b",
   "metadata": {},
   "outputs": [
    {
     "data": {
      "text/plain": [
       "array([[11, 23, 20, 16, 13, 11, 34, 34, 19, 10],\n",
       "       [31, 37, 20, 20, 29, 11, 26, 18, 17, 33],\n",
       "       [31, 16, 19, 19, 19, 38, 20, 17, 29, 23],\n",
       "       [34, 38, 21, 33, 12, 26, 10, 26, 36, 27],\n",
       "       [20, 35, 29, 38, 18, 25, 16, 31, 31, 35],\n",
       "       [23, 33, 29, 14, 31, 10, 23, 10, 31, 32],\n",
       "       [24, 31, 37, 27, 36, 37, 34, 33, 20, 14],\n",
       "       [36, 20, 38, 21, 34, 35, 23, 28, 11, 21],\n",
       "       [35, 12, 20, 28, 27, 11, 15, 23, 16, 16],\n",
       "       [18, 15, 11, 21, 31, 12, 22, 38, 18, 13]], dtype=int32)"
      ]
     },
     "execution_count": 14,
     "metadata": {},
     "output_type": "execute_result"
    }
   ],
   "source": [
    "np.random.randint(10,40,(10,10)) # here size = (10,10) means 10x10 matrix"
   ]
  },
  {
   "cell_type": "code",
   "execution_count": 15,
   "id": "59d53e48-63d6-4ddc-a1ec-5efef1ba953c",
   "metadata": {},
   "outputs": [
    {
     "data": {
      "text/plain": [
       "array([[89, 93, 54, 60, 37, 89, 46, 31, 58, 35, 98, 79],\n",
       "       [47, 58, 24, 47, 99, 14, 86, 21, 56, 59, 11, 79],\n",
       "       [72, 53, 47, 29, 55, 66, 26, 24, 76,  2, 29, 51],\n",
       "       [33, 65,  7, 25, 68, 19, 44, 98, 83,  5, 51, 97],\n",
       "       [78, 38, 18, 38, 61, 91, 45, 19, 43, 93, 70, 79],\n",
       "       [11, 13, 95, 60,  3, 45, 23, 20,  7, 19, 78, 47],\n",
       "       [85, 78, 37, 29, 88, 30, 66, 22, 12, 61, 25, 83],\n",
       "       [86, 47,  8, 54, 64, 87, 75, 30, 23, 71, 52, 77],\n",
       "       [67, 48, 98, 45, 82, 51,  7, 18, 87, 87, 26, 20],\n",
       "       [ 3,  8, 59, 19, 37, 73, 92, 28, 64, 55, 83, 36],\n",
       "       [31, 69, 30, 16, 76,  3, 93, 92, 77, 16, 12, 43],\n",
       "       [12, 21,  5, 78, 32, 50, 19, 37, 96, 18, 22, 54]], dtype=int32)"
      ]
     },
     "execution_count": 15,
     "metadata": {},
     "output_type": "execute_result"
    }
   ],
   "source": [
    "np.random.randint(1,100,(12,12))"
   ]
  },
  {
   "cell_type": "markdown",
   "id": "ef25e1ab-371b-4569-b856-43d8beba30e9",
   "metadata": {},
   "source": [
    "### reshape() :\n",
    "- it is used to reshape the array\n",
    "- Means it can convert 1D array into 2D , 3D and nD arrays without changing the elements"
   ]
  },
  {
   "cell_type": "code",
   "execution_count": 19,
   "id": "cdd0363a-b7c4-4d76-b427-acb5ae69a02b",
   "metadata": {},
   "outputs": [
    {
     "name": "stdout",
     "output_type": "stream",
     "text": [
      "[1 2 3 4 5 6 7 8 9]\n",
      "[[1 2 3]\n",
      " [4 5 6]\n",
      " [7 8 9]]\n"
     ]
    }
   ],
   "source": [
    "arr = np.array([1,2,3,4,5,6,7,8,9])\n",
    "print(arr)\n",
    "\n",
    "reshaped = arr.reshape(3,3)\n",
    "print(reshaped)\n"
   ]
  },
  {
   "cell_type": "code",
   "execution_count": 20,
   "id": "213e3624-d73f-4089-9462-a26d9e70e1f6",
   "metadata": {},
   "outputs": [
    {
     "data": {
      "text/plain": [
       "array([[ 1,  2,  3,  4],\n",
       "       [ 5,  6,  7,  8],\n",
       "       [ 9, 10, 11, 12]])"
      ]
     },
     "execution_count": 20,
     "metadata": {},
     "output_type": "execute_result"
    }
   ],
   "source": [
    "np.arange(1,13).reshape(3,4)"
   ]
  },
  {
   "cell_type": "code",
   "execution_count": 22,
   "id": "44db9b30-72af-4fb1-82b7-a7cb2f9a7fe6",
   "metadata": {},
   "outputs": [
    {
     "data": {
      "text/plain": [
       "array([[ 1],\n",
       "       [ 2],\n",
       "       [ 3],\n",
       "       [ 4],\n",
       "       [ 5],\n",
       "       [ 6],\n",
       "       [ 7],\n",
       "       [ 8],\n",
       "       [ 9],\n",
       "       [10],\n",
       "       [11],\n",
       "       [12]])"
      ]
     },
     "execution_count": 22,
     "metadata": {},
     "output_type": "execute_result"
    }
   ],
   "source": [
    "np.arange(1,13).reshape(12,1)"
   ]
  },
  {
   "cell_type": "code",
   "execution_count": 25,
   "id": "f558e25f-dd6b-46f6-9c07-1d6391e03619",
   "metadata": {},
   "outputs": [
    {
     "data": {
      "text/plain": [
       "array([[18, 16, 19, 17],\n",
       "       [13, 11, 11, 18],\n",
       "       [15, 18, 14, 16],\n",
       "       [14, 14, 14, 18],\n",
       "       [15, 19, 17, 15]], dtype=int32)"
      ]
     },
     "execution_count": 25,
     "metadata": {},
     "output_type": "execute_result"
    }
   ],
   "source": [
    "b = np.random.randint(10,20,(5,4))\n",
    "b"
   ]
  },
  {
   "cell_type": "code",
   "execution_count": 26,
   "id": "aa880ca8-1ea5-4980-bc66-2cff69a3af28",
   "metadata": {},
   "outputs": [
    {
     "data": {
      "text/plain": [
       "numpy.ndarray"
      ]
     },
     "execution_count": 26,
     "metadata": {},
     "output_type": "execute_result"
    }
   ],
   "source": [
    "type(b)"
   ]
  },
  {
   "cell_type": "markdown",
   "id": "38d7fa7b-ffa8-497c-ad84-efc4d9ee204f",
   "metadata": {},
   "source": [
    "## Indexing And Slicing In Numpy Matrix :"
   ]
  },
  {
   "cell_type": "code",
   "execution_count": 27,
   "id": "5ae28a6d-d7ea-46d5-a9cc-48546e502055",
   "metadata": {},
   "outputs": [
    {
     "data": {
      "text/plain": [
       "array([[18, 16, 19, 17],\n",
       "       [13, 11, 11, 18],\n",
       "       [15, 18, 14, 16],\n",
       "       [14, 14, 14, 18],\n",
       "       [15, 19, 17, 15]], dtype=int32)"
      ]
     },
     "execution_count": 27,
     "metadata": {},
     "output_type": "execute_result"
    }
   ],
   "source": [
    "b"
   ]
  },
  {
   "cell_type": "markdown",
   "id": "4c847e1b-1080-4299-9f47-1fe757a73f81",
   "metadata": {},
   "source": [
    "### Indexing : "
   ]
  },
  {
   "cell_type": "code",
   "execution_count": 29,
   "id": "646da3df-ea11-40b8-8638-83adba96bad4",
   "metadata": {},
   "outputs": [
    {
     "data": {
      "text/plain": [
       "array([18, 16, 19, 17], dtype=int32)"
      ]
     },
     "execution_count": 29,
     "metadata": {},
     "output_type": "execute_result"
    }
   ],
   "source": [
    "b[0] # forward indexing"
   ]
  },
  {
   "cell_type": "code",
   "execution_count": 30,
   "id": "3506e734-06ce-4244-a7f4-40e890e9f052",
   "metadata": {},
   "outputs": [
    {
     "data": {
      "text/plain": [
       "array([13, 11, 11, 18], dtype=int32)"
      ]
     },
     "execution_count": 30,
     "metadata": {},
     "output_type": "execute_result"
    }
   ],
   "source": [
    "b[1]"
   ]
  },
  {
   "cell_type": "code",
   "execution_count": 31,
   "id": "b497dc2a-9c4a-4465-8f97-4babbdbe7ffd",
   "metadata": {},
   "outputs": [
    {
     "data": {
      "text/plain": [
       "array([15, 19, 17, 15], dtype=int32)"
      ]
     },
     "execution_count": 31,
     "metadata": {},
     "output_type": "execute_result"
    }
   ],
   "source": [
    "b[4]"
   ]
  },
  {
   "cell_type": "code",
   "execution_count": 32,
   "id": "0997696a-752b-432a-aea6-c5d95cbdfa86",
   "metadata": {},
   "outputs": [
    {
     "data": {
      "text/plain": [
       "array([15, 19, 17, 15], dtype=int32)"
      ]
     },
     "execution_count": 32,
     "metadata": {},
     "output_type": "execute_result"
    }
   ],
   "source": [
    "b[-1] # backward indexing "
   ]
  },
  {
   "cell_type": "code",
   "execution_count": 33,
   "id": "0c04e744-a694-4b08-81bb-e54f4353a6aa",
   "metadata": {},
   "outputs": [
    {
     "data": {
      "text/plain": [
       "array([14, 14, 14, 18], dtype=int32)"
      ]
     },
     "execution_count": 33,
     "metadata": {},
     "output_type": "execute_result"
    }
   ],
   "source": [
    "b[-2]"
   ]
  },
  {
   "cell_type": "code",
   "execution_count": 34,
   "id": "ee4f64c9-154c-43b0-8160-14bd5a6dc68d",
   "metadata": {},
   "outputs": [
    {
     "data": {
      "text/plain": [
       "array([18, 16, 19, 17], dtype=int32)"
      ]
     },
     "execution_count": 34,
     "metadata": {},
     "output_type": "execute_result"
    }
   ],
   "source": [
    "b[-5]"
   ]
  },
  {
   "cell_type": "markdown",
   "id": "d945e106-c0e4-4327-b3d0-5ff5428bc33c",
   "metadata": {},
   "source": [
    "### Slicing :"
   ]
  },
  {
   "cell_type": "code",
   "execution_count": 36,
   "id": "5b82eeb5-c40c-4eb4-9c28-973a7de20d36",
   "metadata": {},
   "outputs": [
    {
     "data": {
      "text/plain": [
       "array([[18, 16, 19, 17],\n",
       "       [13, 11, 11, 18],\n",
       "       [15, 18, 14, 16],\n",
       "       [14, 14, 14, 18],\n",
       "       [15, 19, 17, 15]], dtype=int32)"
      ]
     },
     "execution_count": 36,
     "metadata": {},
     "output_type": "execute_result"
    }
   ],
   "source": [
    "b"
   ]
  },
  {
   "cell_type": "code",
   "execution_count": 37,
   "id": "90afa07b-5502-47d1-ade4-473a476bdc90",
   "metadata": {},
   "outputs": [
    {
     "data": {
      "text/plain": [
       "array([[18, 16, 19, 17],\n",
       "       [13, 11, 11, 18],\n",
       "       [15, 18, 14, 16],\n",
       "       [14, 14, 14, 18],\n",
       "       [15, 19, 17, 15]], dtype=int32)"
      ]
     },
     "execution_count": 37,
     "metadata": {},
     "output_type": "execute_result"
    }
   ],
   "source": [
    "b[:]"
   ]
  },
  {
   "cell_type": "code",
   "execution_count": 38,
   "id": "7a8fb9bc-1843-4ab2-9e41-576b61249b2f",
   "metadata": {},
   "outputs": [
    {
     "data": {
      "text/plain": [
       "array([[13, 11, 11, 18]], dtype=int32)"
      ]
     },
     "execution_count": 38,
     "metadata": {},
     "output_type": "execute_result"
    }
   ],
   "source": [
    "b[1:2] # forward slicing"
   ]
  },
  {
   "cell_type": "code",
   "execution_count": 39,
   "id": "d9773ea5-4917-4196-88a8-57933a3c6b3a",
   "metadata": {},
   "outputs": [
    {
     "data": {
      "text/plain": [
       "array([[18, 16, 19, 17],\n",
       "       [13, 11, 11, 18]], dtype=int32)"
      ]
     },
     "execution_count": 39,
     "metadata": {},
     "output_type": "execute_result"
    }
   ],
   "source": [
    "b[0:2]"
   ]
  },
  {
   "cell_type": "code",
   "execution_count": 40,
   "id": "8a2b179a-a541-44d7-a73a-1d8613116676",
   "metadata": {},
   "outputs": [
    {
     "data": {
      "text/plain": [
       "array([[13, 11, 11, 18],\n",
       "       [15, 18, 14, 16]], dtype=int32)"
      ]
     },
     "execution_count": 40,
     "metadata": {},
     "output_type": "execute_result"
    }
   ],
   "source": [
    "b[1:3]"
   ]
  },
  {
   "cell_type": "code",
   "execution_count": 41,
   "id": "78015b2d-8b13-4847-a66c-5ad23335a071",
   "metadata": {},
   "outputs": [
    {
     "data": {
      "text/plain": [
       "array([[18, 16, 19, 17],\n",
       "       [13, 11, 11, 18],\n",
       "       [15, 18, 14, 16],\n",
       "       [14, 14, 14, 18],\n",
       "       [15, 19, 17, 15]], dtype=int32)"
      ]
     },
     "execution_count": 41,
     "metadata": {},
     "output_type": "execute_result"
    }
   ],
   "source": [
    "b"
   ]
  },
  {
   "cell_type": "code",
   "execution_count": 42,
   "id": "ae097464-8bee-4375-b8be-38cf384cf08b",
   "metadata": {},
   "outputs": [
    {
     "data": {
      "text/plain": [
       "np.int32(11)"
      ]
     },
     "execution_count": 42,
     "metadata": {},
     "output_type": "execute_result"
    }
   ],
   "source": [
    "b[1,2]"
   ]
  },
  {
   "cell_type": "code",
   "execution_count": 43,
   "id": "3596f687-1da4-48f0-ab54-4a3bc928dd6f",
   "metadata": {},
   "outputs": [
    {
     "data": {
      "text/plain": [
       "array([[18, 16, 19, 17],\n",
       "       [13, 11, 11, 18],\n",
       "       [15, 18, 14, 16],\n",
       "       [14, 14, 14, 18],\n",
       "       [15, 19, 17, 15]], dtype=int32)"
      ]
     },
     "execution_count": 43,
     "metadata": {},
     "output_type": "execute_result"
    }
   ],
   "source": [
    "b"
   ]
  },
  {
   "cell_type": "code",
   "execution_count": 44,
   "id": "058b5d1d-8205-4deb-b53d-1e60b7164e8f",
   "metadata": {},
   "outputs": [
    {
     "data": {
      "text/plain": [
       "np.int32(18)"
      ]
     },
     "execution_count": 44,
     "metadata": {},
     "output_type": "execute_result"
    }
   ],
   "source": [
    "b[1,3]"
   ]
  },
  {
   "cell_type": "code",
   "execution_count": 45,
   "id": "ffaefb6e-4df9-45a9-83a4-49d2a5fd7f37",
   "metadata": {},
   "outputs": [
    {
     "data": {
      "text/plain": [
       "np.int32(18)"
      ]
     },
     "execution_count": 45,
     "metadata": {},
     "output_type": "execute_result"
    }
   ],
   "source": [
    "b[1,-1]"
   ]
  },
  {
   "cell_type": "code",
   "execution_count": 46,
   "id": "137a9c06-f5cd-4db5-8b12-d6e2b2297ba7",
   "metadata": {},
   "outputs": [
    {
     "data": {
      "text/plain": [
       "array([[18, 16, 19, 17],\n",
       "       [13, 11, 11, 18],\n",
       "       [15, 18, 14, 16],\n",
       "       [14, 14, 14, 18],\n",
       "       [15, 19, 17, 15]], dtype=int32)"
      ]
     },
     "execution_count": 46,
     "metadata": {},
     "output_type": "execute_result"
    }
   ],
   "source": [
    "b"
   ]
  },
  {
   "cell_type": "code",
   "execution_count": 47,
   "id": "4e44791f-767d-4f46-b54e-8e6177915802",
   "metadata": {},
   "outputs": [
    {
     "data": {
      "text/plain": [
       "array([[15, 18, 14, 16]], dtype=int32)"
      ]
     },
     "execution_count": 47,
     "metadata": {},
     "output_type": "execute_result"
    }
   ],
   "source": [
    "b[2:3]"
   ]
  },
  {
   "cell_type": "code",
   "execution_count": 48,
   "id": "5b9912a8-243f-49b0-95f8-1ba9a7bcd137",
   "metadata": {},
   "outputs": [
    {
     "data": {
      "text/plain": [
       "array([[18, 16, 19, 17],\n",
       "       [13, 11, 11, 18],\n",
       "       [15, 18, 14, 16],\n",
       "       [14, 14, 14, 18],\n",
       "       [15, 19, 17, 15]], dtype=int32)"
      ]
     },
     "execution_count": 48,
     "metadata": {},
     "output_type": "execute_result"
    }
   ],
   "source": [
    "b"
   ]
  },
  {
   "cell_type": "code",
   "execution_count": 49,
   "id": "c5be6f79-c3b0-4b35-9d71-f75066f5849f",
   "metadata": {},
   "outputs": [
    {
     "data": {
      "text/plain": [
       "array([[18, 16, 19, 17],\n",
       "       [13, 11, 11, 18],\n",
       "       [15, 18, 14, 16]], dtype=int32)"
      ]
     },
     "execution_count": 49,
     "metadata": {},
     "output_type": "execute_result"
    }
   ],
   "source": [
    "b[0:-2]"
   ]
  },
  {
   "cell_type": "code",
   "execution_count": 50,
   "id": "4d4473c6-8ecf-4dd5-86ab-d2fa88751658",
   "metadata": {},
   "outputs": [
    {
     "data": {
      "text/plain": [
       "array([[18, 16, 19, 17],\n",
       "       [13, 11, 11, 18],\n",
       "       [15, 18, 14, 16],\n",
       "       [14, 14, 14, 18],\n",
       "       [15, 19, 17, 15]], dtype=int32)"
      ]
     },
     "execution_count": 50,
     "metadata": {},
     "output_type": "execute_result"
    }
   ],
   "source": [
    "b"
   ]
  },
  {
   "cell_type": "code",
   "execution_count": 51,
   "id": "2553b84c-7802-4970-8360-8ffc6b71e213",
   "metadata": {},
   "outputs": [
    {
     "data": {
      "text/plain": [
       "array([[18, 16, 19, 17],\n",
       "       [13, 11, 11, 18]], dtype=int32)"
      ]
     },
     "execution_count": 51,
     "metadata": {},
     "output_type": "execute_result"
    }
   ],
   "source": [
    "b[0:2]"
   ]
  },
  {
   "cell_type": "code",
   "execution_count": 52,
   "id": "6f72e6a0-a432-4148-8fa0-c6030edc2d05",
   "metadata": {},
   "outputs": [
    {
     "data": {
      "text/plain": [
       "array([[15, 18, 14, 16],\n",
       "       [14, 14, 14, 18]], dtype=int32)"
      ]
     },
     "execution_count": 52,
     "metadata": {},
     "output_type": "execute_result"
    }
   ],
   "source": [
    "b[2:4]"
   ]
  },
  {
   "cell_type": "code",
   "execution_count": 53,
   "id": "043d876d-3fd5-4377-8d02-c8c9bbc22a8c",
   "metadata": {},
   "outputs": [
    {
     "data": {
      "text/plain": [
       "array([[18, 16, 19, 17],\n",
       "       [13, 11, 11, 18]], dtype=int32)"
      ]
     },
     "execution_count": 53,
     "metadata": {},
     "output_type": "execute_result"
    }
   ],
   "source": [
    "b[-5:-3] # backward slicing"
   ]
  },
  {
   "cell_type": "code",
   "execution_count": 54,
   "id": "9255d4c1-d9f2-41a6-ba24-f05492521b0b",
   "metadata": {},
   "outputs": [
    {
     "data": {
      "text/plain": [
       "array([[13, 11, 11, 18]], dtype=int32)"
      ]
     },
     "execution_count": 54,
     "metadata": {},
     "output_type": "execute_result"
    }
   ],
   "source": [
    "b[-4:2]"
   ]
  },
  {
   "cell_type": "code",
   "execution_count": 55,
   "id": "873930e0-bb9b-40d8-9ab3-b5c2de0692b4",
   "metadata": {},
   "outputs": [
    {
     "data": {
      "text/plain": [
       "array([[11, 18, 10, 14],\n",
       "       [19, 19, 13, 16],\n",
       "       [14, 12, 15, 17],\n",
       "       [18, 18, 10, 18]], dtype=int32)"
      ]
     },
     "execution_count": 55,
     "metadata": {},
     "output_type": "execute_result"
    }
   ],
   "source": [
    "np.random.randint(10,20,(4,4))"
   ]
  },
  {
   "cell_type": "code",
   "execution_count": 56,
   "id": "c92f06ce-3642-4dca-bbf8-c91bbccc99d5",
   "metadata": {},
   "outputs": [
    {
     "data": {
      "text/plain": [
       "array([[18, 16, 19, 17],\n",
       "       [13, 11, 11, 18],\n",
       "       [15, 18, 14, 16],\n",
       "       [14, 14, 14, 18],\n",
       "       [15, 19, 17, 15]], dtype=int32)"
      ]
     },
     "execution_count": 56,
     "metadata": {},
     "output_type": "execute_result"
    }
   ],
   "source": [
    "b"
   ]
  },
  {
   "cell_type": "code",
   "execution_count": 57,
   "id": "f3da15e9-0b57-4cdc-928b-d5f3f018eeac",
   "metadata": {},
   "outputs": [
    {
     "data": {
      "text/plain": [
       "np.int32(11)"
      ]
     },
     "execution_count": 57,
     "metadata": {},
     "output_type": "execute_result"
    }
   ],
   "source": [
    "b[-4,-2]"
   ]
  },
  {
   "cell_type": "code",
   "execution_count": 58,
   "id": "3796a332-19f8-45cd-a9d2-19ff7a9bd978",
   "metadata": {},
   "outputs": [
    {
     "data": {
      "text/plain": [
       "array([[18, 16, 19, 17],\n",
       "       [13, 11, 11, 18],\n",
       "       [15, 18, 14, 16],\n",
       "       [14, 14, 14, 18],\n",
       "       [15, 19, 17, 15]], dtype=int32)"
      ]
     },
     "execution_count": 58,
     "metadata": {},
     "output_type": "execute_result"
    }
   ],
   "source": [
    "b"
   ]
  },
  {
   "cell_type": "markdown",
   "id": "89573533-cf42-435b-a3c8-ed43c1529191",
   "metadata": {},
   "source": [
    "# NumPy Operations :"
   ]
  },
  {
   "cell_type": "code",
   "execution_count": 59,
   "id": "bdfdea26-2814-44a6-b8c7-39d55e936c03",
   "metadata": {},
   "outputs": [
    {
     "data": {
      "text/plain": [
       "array([10, 13, 14, 11, 14, 13, 18, 14, 15, 13], dtype=int32)"
      ]
     },
     "execution_count": 59,
     "metadata": {},
     "output_type": "execute_result"
    }
   ],
   "source": [
    "a = np.random.randint(10,20,10)\n",
    "a"
   ]
  },
  {
   "cell_type": "code",
   "execution_count": 60,
   "id": "41b2749f-5e23-414d-a41e-14aa2b24a0b6",
   "metadata": {},
   "outputs": [
    {
     "data": {
      "text/plain": [
       "2150776392368"
      ]
     },
     "execution_count": 60,
     "metadata": {},
     "output_type": "execute_result"
    }
   ],
   "source": [
    "id(a)"
   ]
  },
  {
   "cell_type": "code",
   "execution_count": 63,
   "id": "dad193db-e7b0-45c0-b546-2d61655e2f28",
   "metadata": {},
   "outputs": [
    {
     "data": {
      "text/plain": [
       "array([0, 1, 2, 3, 4, 5])"
      ]
     },
     "execution_count": 63,
     "metadata": {},
     "output_type": "execute_result"
    }
   ],
   "source": [
    "arr = np.arange(6)\n",
    "arr"
   ]
  },
  {
   "cell_type": "code",
   "execution_count": 64,
   "id": "9fbe23a5-02fb-4291-8fee-fb976e2b83a3",
   "metadata": {},
   "outputs": [
    {
     "data": {
      "text/plain": [
       "array([[47, 26,  0, 36, 95, 67, 11, 14, 71, 99],\n",
       "       [15, 38, 33, 77, 67, 70, 71, 74, 47, 63],\n",
       "       [58, 77,  5, 12, 15, 99, 86, 67, 62, 55],\n",
       "       [57, 54, 87, 93, 48, 42, 71, 88, 20, 67],\n",
       "       [66, 57, 57, 63, 77, 71, 48, 55, 46, 14],\n",
       "       [55, 71, 14, 26, 88, 85, 39, 97, 70, 95],\n",
       "       [42, 44, 28, 22,  1, 83, 70, 53, 13, 58],\n",
       "       [52, 23, 24, 25, 97, 76, 52, 76, 40, 47],\n",
       "       [73, 40,  8, 53, 59, 69, 82, 82, 45, 56],\n",
       "       [20, 34, 66, 14, 36, 96, 50, 80, 34, 90]], dtype=int32)"
      ]
     },
     "execution_count": 64,
     "metadata": {},
     "output_type": "execute_result"
    }
   ],
   "source": [
    "arr2 = np.random.randint(0,100,(10,10))\n",
    "arr2"
   ]
  },
  {
   "cell_type": "code",
   "execution_count": 65,
   "id": "3fc63b1f-f0d1-4ea0-9d6c-0b1fa5d531fb",
   "metadata": {},
   "outputs": [
    {
     "data": {
      "text/plain": [
       "array([0, 1, 2, 3, 4, 5])"
      ]
     },
     "execution_count": 65,
     "metadata": {},
     "output_type": "execute_result"
    }
   ],
   "source": [
    "arr"
   ]
  },
  {
   "cell_type": "code",
   "execution_count": 66,
   "id": "95647ce0-7eaf-4ce9-ac1e-116502be6c49",
   "metadata": {},
   "outputs": [
    {
     "data": {
      "text/plain": [
       "array([0, 1, 2, 3])"
      ]
     },
     "execution_count": 66,
     "metadata": {},
     "output_type": "execute_result"
    }
   ],
   "source": [
    "arr[:4]"
   ]
  },
  {
   "cell_type": "code",
   "execution_count": 67,
   "id": "9e813d5c-f08a-4304-880a-eb894506aca7",
   "metadata": {},
   "outputs": [
    {
     "data": {
      "text/plain": [
       "array([[47, 26,  0, 36, 95, 67, 11, 14, 71, 99],\n",
       "       [15, 38, 33, 77, 67, 70, 71, 74, 47, 63],\n",
       "       [58, 77,  5, 12, 15, 99, 86, 67, 62, 55],\n",
       "       [57, 54, 87, 93, 48, 42, 71, 88, 20, 67],\n",
       "       [66, 57, 57, 63, 77, 71, 48, 55, 46, 14],\n",
       "       [55, 71, 14, 26, 88, 85, 39, 97, 70, 95],\n",
       "       [42, 44, 28, 22,  1, 83, 70, 53, 13, 58],\n",
       "       [52, 23, 24, 25, 97, 76, 52, 76, 40, 47],\n",
       "       [73, 40,  8, 53, 59, 69, 82, 82, 45, 56],\n",
       "       [20, 34, 66, 14, 36, 96, 50, 80, 34, 90]], dtype=int32)"
      ]
     },
     "execution_count": 67,
     "metadata": {},
     "output_type": "execute_result"
    }
   ],
   "source": [
    "arr2[:]"
   ]
  },
  {
   "cell_type": "code",
   "execution_count": 68,
   "id": "396e4494-6626-4a4f-894b-24c665d5ee8b",
   "metadata": {},
   "outputs": [
    {
     "data": {
      "text/plain": [
       "array([[47, 26,  0, 36, 95, 67, 11, 14, 71, 99],\n",
       "       [15, 38, 33, 77, 67, 70, 71, 74, 47, 63],\n",
       "       [58, 77,  5, 12, 15, 99, 86, 67, 62, 55],\n",
       "       [57, 54, 87, 93, 48, 42, 71, 88, 20, 67],\n",
       "       [66, 57, 57, 63, 77, 71, 48, 55, 46, 14]], dtype=int32)"
      ]
     },
     "execution_count": 68,
     "metadata": {},
     "output_type": "execute_result"
    }
   ],
   "source": [
    "arr2[0:5]"
   ]
  },
  {
   "cell_type": "code",
   "execution_count": 69,
   "id": "296aa5aa-c696-4ad4-a3b1-ce318d4a8db7",
   "metadata": {},
   "outputs": [
    {
     "data": {
      "text/plain": [
       "array([[47, 26,  0, 36, 95, 67, 11, 14, 71, 99],\n",
       "       [15, 38, 33, 77, 67, 70, 71, 74, 47, 63],\n",
       "       [58, 77,  5, 12, 15, 99, 86, 67, 62, 55],\n",
       "       [57, 54, 87, 93, 48, 42, 71, 88, 20, 67],\n",
       "       [66, 57, 57, 63, 77, 71, 48, 55, 46, 14],\n",
       "       [55, 71, 14, 26, 88, 85, 39, 97, 70, 95],\n",
       "       [42, 44, 28, 22,  1, 83, 70, 53, 13, 58],\n",
       "       [52, 23, 24, 25, 97, 76, 52, 76, 40, 47],\n",
       "       [73, 40,  8, 53, 59, 69, 82, 82, 45, 56],\n",
       "       [20, 34, 66, 14, 36, 96, 50, 80, 34, 90]], dtype=int32)"
      ]
     },
     "execution_count": 69,
     "metadata": {},
     "output_type": "execute_result"
    }
   ],
   "source": [
    "arr2"
   ]
  },
  {
   "cell_type": "code",
   "execution_count": 70,
   "id": "3763290e-7576-4467-84c3-1a7d753fdbba",
   "metadata": {},
   "outputs": [
    {
     "data": {
      "text/plain": [
       "np.int32(99)"
      ]
     },
     "execution_count": 70,
     "metadata": {},
     "output_type": "execute_result"
    }
   ],
   "source": [
    "arr2[2,5]"
   ]
  },
  {
   "cell_type": "code",
   "execution_count": 71,
   "id": "590d9fa5-1649-438c-938d-3a1f89c0de3c",
   "metadata": {},
   "outputs": [
    {
     "data": {
      "text/plain": [
       "np.int32(86)"
      ]
     },
     "execution_count": 71,
     "metadata": {},
     "output_type": "execute_result"
    }
   ],
   "source": [
    "arr2[2,6]  # show the element whose postion index 2 raw and index 6 column"
   ]
  },
  {
   "cell_type": "code",
   "execution_count": 72,
   "id": "3a08c687-2f74-4641-a50c-81aaf9de3d97",
   "metadata": {},
   "outputs": [
    {
     "data": {
      "text/plain": [
       "np.int32(67)"
      ]
     },
     "execution_count": 72,
     "metadata": {},
     "output_type": "execute_result"
    }
   ],
   "source": [
    "arr2[1,4]"
   ]
  },
  {
   "cell_type": "code",
   "execution_count": 73,
   "id": "20ea02f6-2e08-4b33-9f46-d4bbdb2f6acf",
   "metadata": {},
   "outputs": [
    {
     "data": {
      "text/plain": [
       "np.int32(85)"
      ]
     },
     "execution_count": 73,
     "metadata": {},
     "output_type": "execute_result"
    }
   ],
   "source": [
    "arr2[-5,5] "
   ]
  },
  {
   "cell_type": "code",
   "execution_count": 74,
   "id": "dbbf1389-b9a1-4887-aa88-687730f4bfe0",
   "metadata": {},
   "outputs": [
    {
     "data": {
      "text/plain": [
       "array([[47, 26,  0, 36, 95, 67, 11, 14, 71, 99],\n",
       "       [15, 38, 33, 77, 67, 70, 71, 74, 47, 63],\n",
       "       [58, 77,  5, 12, 15, 99, 86, 67, 62, 55],\n",
       "       [57, 54, 87, 93, 48, 42, 71, 88, 20, 67],\n",
       "       [66, 57, 57, 63, 77, 71, 48, 55, 46, 14],\n",
       "       [55, 71, 14, 26, 88, 85, 39, 97, 70, 95],\n",
       "       [42, 44, 28, 22,  1, 83, 70, 53, 13, 58],\n",
       "       [52, 23, 24, 25, 97, 76, 52, 76, 40, 47],\n",
       "       [73, 40,  8, 53, 59, 69, 82, 82, 45, 56],\n",
       "       [20, 34, 66, 14, 36, 96, 50, 80, 34, 90]], dtype=int32)"
      ]
     },
     "execution_count": 74,
     "metadata": {},
     "output_type": "execute_result"
    }
   ],
   "source": [
    "arr2"
   ]
  },
  {
   "cell_type": "code",
   "execution_count": 75,
   "id": "013c736c-9fd1-436d-9d01-45ef214a329c",
   "metadata": {},
   "outputs": [
    {
     "data": {
      "text/plain": [
       "array([[20, 34, 66, 14, 36, 96, 50, 80, 34, 90],\n",
       "       [73, 40,  8, 53, 59, 69, 82, 82, 45, 56],\n",
       "       [52, 23, 24, 25, 97, 76, 52, 76, 40, 47],\n",
       "       [42, 44, 28, 22,  1, 83, 70, 53, 13, 58],\n",
       "       [55, 71, 14, 26, 88, 85, 39, 97, 70, 95],\n",
       "       [66, 57, 57, 63, 77, 71, 48, 55, 46, 14],\n",
       "       [57, 54, 87, 93, 48, 42, 71, 88, 20, 67],\n",
       "       [58, 77,  5, 12, 15, 99, 86, 67, 62, 55],\n",
       "       [15, 38, 33, 77, 67, 70, 71, 74, 47, 63],\n",
       "       [47, 26,  0, 36, 95, 67, 11, 14, 71, 99]], dtype=int32)"
      ]
     },
     "execution_count": 75,
     "metadata": {},
     "output_type": "execute_result"
    }
   ],
   "source": [
    "arr2[::-1]  # reversed raws : the raws who was at last, now present at first"
   ]
  },
  {
   "cell_type": "code",
   "execution_count": 76,
   "id": "a53b4a8d-8d0a-4e88-93ff-21fb98c80ee8",
   "metadata": {},
   "outputs": [
    {
     "data": {
      "text/plain": [
       "array([[20, 34, 66, 14, 36, 96, 50, 80, 34, 90],\n",
       "       [52, 23, 24, 25, 97, 76, 52, 76, 40, 47],\n",
       "       [55, 71, 14, 26, 88, 85, 39, 97, 70, 95],\n",
       "       [57, 54, 87, 93, 48, 42, 71, 88, 20, 67],\n",
       "       [15, 38, 33, 77, 67, 70, 71, 74, 47, 63]], dtype=int32)"
      ]
     },
     "execution_count": 76,
     "metadata": {},
     "output_type": "execute_result"
    }
   ],
   "source": [
    "arr2[::-2] # backward slicing with step -2"
   ]
  },
  {
   "cell_type": "code",
   "execution_count": 77,
   "id": "9d557112-236a-4a83-b408-f30768fb9c38",
   "metadata": {},
   "outputs": [
    {
     "data": {
      "text/plain": [
       "array([[20, 34, 66, 14, 36, 96, 50, 80, 34, 90],\n",
       "       [42, 44, 28, 22,  1, 83, 70, 53, 13, 58],\n",
       "       [57, 54, 87, 93, 48, 42, 71, 88, 20, 67],\n",
       "       [47, 26,  0, 36, 95, 67, 11, 14, 71, 99]], dtype=int32)"
      ]
     },
     "execution_count": 77,
     "metadata": {},
     "output_type": "execute_result"
    }
   ],
   "source": [
    "arr2[::-3]"
   ]
  },
  {
   "cell_type": "code",
   "execution_count": 78,
   "id": "43dfe480-9e99-45bd-962f-ac30573d5c6a",
   "metadata": {},
   "outputs": [
    {
     "data": {
      "text/plain": [
       "array([[47, 26,  0, 36, 95, 67, 11, 14, 71, 99],\n",
       "       [15, 38, 33, 77, 67, 70, 71, 74, 47, 63],\n",
       "       [58, 77,  5, 12, 15, 99, 86, 67, 62, 55],\n",
       "       [57, 54, 87, 93, 48, 42, 71, 88, 20, 67],\n",
       "       [66, 57, 57, 63, 77, 71, 48, 55, 46, 14],\n",
       "       [55, 71, 14, 26, 88, 85, 39, 97, 70, 95],\n",
       "       [42, 44, 28, 22,  1, 83, 70, 53, 13, 58],\n",
       "       [52, 23, 24, 25, 97, 76, 52, 76, 40, 47],\n",
       "       [73, 40,  8, 53, 59, 69, 82, 82, 45, 56],\n",
       "       [20, 34, 66, 14, 36, 96, 50, 80, 34, 90]], dtype=int32)"
      ]
     },
     "execution_count": 78,
     "metadata": {},
     "output_type": "execute_result"
    }
   ],
   "source": [
    "arr2"
   ]
  },
  {
   "cell_type": "code",
   "execution_count": 79,
   "id": "4977483d-5745-4b1e-8000-40eb465525d4",
   "metadata": {},
   "outputs": [
    {
     "data": {
      "text/plain": [
       "array([[47, 26,  0, 36, 95, 67, 11, 14, 71, 99],\n",
       "       [15, 38, 33, 77, 67, 70, 71, 74, 47, 63],\n",
       "       [58, 77,  5, 12, 15, 99, 86, 67, 62, 55],\n",
       "       [57, 54, 87, 93, 48, 42, 71, 88, 20, 67],\n",
       "       [66, 57, 57, 63, 77, 71, 48, 55, 46, 14],\n",
       "       [55, 71, 14, 26, 88, 85, 39, 97, 70, 95],\n",
       "       [42, 44, 28, 22,  1, 83, 70, 53, 13, 58]], dtype=int32)"
      ]
     },
     "execution_count": 79,
     "metadata": {},
     "output_type": "execute_result"
    }
   ],
   "source": [
    "arr2[:-3]"
   ]
  },
  {
   "cell_type": "code",
   "execution_count": 80,
   "id": "05f1be2f-b1ca-48f7-bbf3-fbb20243f42a",
   "metadata": {},
   "outputs": [
    {
     "data": {
      "text/plain": [
       "array([0, 1, 2, 3, 4, 5])"
      ]
     },
     "execution_count": 80,
     "metadata": {},
     "output_type": "execute_result"
    }
   ],
   "source": [
    "arr"
   ]
  },
  {
   "cell_type": "code",
   "execution_count": 81,
   "id": "fe72005b-1d89-4b79-a15d-10ec8bf1349c",
   "metadata": {},
   "outputs": [
    {
     "data": {
      "text/plain": [
       "np.int64(5)"
      ]
     },
     "execution_count": 81,
     "metadata": {},
     "output_type": "execute_result"
    }
   ],
   "source": [
    "arr.max() # give maximum value "
   ]
  },
  {
   "cell_type": "code",
   "execution_count": 82,
   "id": "f31d2188-37ee-4b0a-9347-e0e7613c2900",
   "metadata": {},
   "outputs": [
    {
     "data": {
      "text/plain": [
       "np.int64(0)"
      ]
     },
     "execution_count": 82,
     "metadata": {},
     "output_type": "execute_result"
    }
   ],
   "source": [
    "arr.min() # give minimum value"
   ]
  },
  {
   "cell_type": "code",
   "execution_count": 83,
   "id": "60555701-32c9-4b13-86ce-bb3e204278c6",
   "metadata": {},
   "outputs": [
    {
     "data": {
      "text/plain": [
       "np.float64(2.5)"
      ]
     },
     "execution_count": 83,
     "metadata": {},
     "output_type": "execute_result"
    }
   ],
   "source": [
    "arr.mean() # average of the elements((0+1+2+3+4+5)/6)"
   ]
  },
  {
   "cell_type": "code",
   "execution_count": 85,
   "id": "41f3e57f-1901-4463-b1c1-c139d370b590",
   "metadata": {},
   "outputs": [
    {
     "ename": "AttributeError",
     "evalue": "'numpy.ndarray' object has no attribute 'median'",
     "output_type": "error",
     "traceback": [
      "\u001b[1;31m---------------------------------------------------------------------------\u001b[0m",
      "\u001b[1;31mAttributeError\u001b[0m                            Traceback (most recent call last)",
      "Cell \u001b[1;32mIn[85], line 1\u001b[0m\n\u001b[1;32m----> 1\u001b[0m arr\u001b[38;5;241m.\u001b[39mmedian()\n",
      "\u001b[1;31mAttributeError\u001b[0m: 'numpy.ndarray' object has no attribute 'median'"
     ]
    }
   ],
   "source": [
    "arr.median() # median is a function in the NumPy module, not an attribute of ndarray"
   ]
  },
  {
   "cell_type": "markdown",
   "id": "ba5df9f9-9300-4b47-b8c6-2e3d7e4db286",
   "metadata": {},
   "source": [
    "#### correct way of calling .median() :"
   ]
  },
  {
   "cell_type": "code",
   "execution_count": 86,
   "id": "53801e4f-482e-4e71-a7f0-f7961e7b4df3",
   "metadata": {},
   "outputs": [
    {
     "name": "stdout",
     "output_type": "stream",
     "text": [
      "Here is a Median of Array:[1 2 3 6 9 4] is 3.5\n"
     ]
    }
   ],
   "source": [
    "import numpy as np\n",
    "\n",
    "ar = np.array([1,2,3,6,9,4]) # numpy creation\n",
    "median = np.median(ar) # median() is function of numpy\n",
    "print(f\"Here is a Median of Array:{ar} is {median}\")"
   ]
  },
  {
   "cell_type": "markdown",
   "id": "e9ef474e-2366-4067-a45f-b566b9548e81",
   "metadata": {},
   "source": [
    "#### Sorting :"
   ]
  },
  {
   "cell_type": "code",
   "execution_count": 89,
   "id": "12b2a9c4-4eef-4416-930e-b896f025e1fa",
   "metadata": {},
   "outputs": [
    {
     "name": "stdout",
     "output_type": "stream",
     "text": [
      "unsorted array : [5 8 3 2 0 3]\n",
      "unsortd array1 : [1 3 7 3 0 0]\n",
      "sorted array : [0 2 3 3 5 8]\n",
      "sorted array1 : [0 0 1 3 3 7]\n"
     ]
    }
   ],
   "source": [
    "unsorted_arr = np.array([5,8,3,2,0,3])\n",
    "print(\"unsorted array :\",unsorted_arr)\n",
    "unsorted_arr1 = np.random.randint(0,8,6)\n",
    "print(\"unsortd array1 :\",unsorted_arr1)\n",
    "\n",
    "sorted_arr = np.sort(unsorted_arr)\n",
    "print('sorted array :',sorted_arr)\n",
    "\n",
    "sorted_arr1 = np.sort(unsorted_arr1)\n",
    "print(\"sorted array1 :\",sorted_arr1)"
   ]
  },
  {
   "cell_type": "code",
   "execution_count": 92,
   "id": "10934919-2290-4c56-8e37-4ee068269cbb",
   "metadata": {},
   "outputs": [
    {
     "name": "stdout",
     "output_type": "stream",
     "text": [
      "sorted 2D array : [[0 0 2]\n",
      " [1 8 2]\n",
      " [9 9 6]]\n"
     ]
    }
   ],
   "source": [
    "# 2D array sorting\n",
    "arr_2d_unsorted = np.random.randint(0,10,(3,3))\n",
    "\n",
    "print(\"sorted 2D array :\",np.sort(arr_2d_unsorted,axis=0)) # it sort column wise"
   ]
  },
  {
   "cell_type": "code",
   "execution_count": null,
   "id": "255de138-62d5-4c29-a2ff-d5583423e174",
   "metadata": {},
   "outputs": [],
   "source": []
  }
 ],
 "metadata": {
  "kernelspec": {
   "display_name": "Python 3 (ipykernel)",
   "language": "python",
   "name": "python3"
  },
  "language_info": {
   "codemirror_mode": {
    "name": "ipython",
    "version": 3
   },
   "file_extension": ".py",
   "mimetype": "text/x-python",
   "name": "python",
   "nbconvert_exporter": "python",
   "pygments_lexer": "ipython3",
   "version": "3.13.5"
  }
 },
 "nbformat": 4,
 "nbformat_minor": 5
}
